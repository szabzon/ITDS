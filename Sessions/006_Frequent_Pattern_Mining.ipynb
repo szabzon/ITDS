{
 "cells": [
  {
   "cell_type": "markdown",
   "source": [
    "# Frequent Pattern Mining"
   ],
   "metadata": {
    "collapsed": false,
    "pycharm": {
     "name": "#%% md\n"
    }
   }
  },
  {
   "cell_type": "code",
   "execution_count": 1,
   "outputs": [],
   "source": [
    "import warnings\n",
    "warnings.simplefilter(action='ignore')"
   ],
   "metadata": {
    "collapsed": false,
    "pycharm": {
     "name": "#%%\n"
    }
   }
  },
  {
   "cell_type": "code",
   "execution_count": 2,
   "outputs": [],
   "source": [
    "import numpy as np\n",
    "import pandas as pd\n",
    "import matplotlib.pyplot as plt"
   ],
   "metadata": {
    "collapsed": false,
    "pycharm": {
     "name": "#%%\n"
    }
   }
  },
  {
   "cell_type": "code",
   "execution_count": 3,
   "outputs": [],
   "source": [
    "from sklearn.preprocessing import OneHotEncoder\n",
    "from mlxtend.frequent_patterns import apriori\n",
    "from mlxtend.frequent_patterns import association_rules"
   ],
   "metadata": {
    "collapsed": false,
    "pycharm": {
     "name": "#%%\n"
    }
   }
  },
  {
   "cell_type": "code",
   "execution_count": 4,
   "outputs": [],
   "source": [
    "# set the random seed\n",
    "np.random.seed(15)"
   ],
   "metadata": {
    "collapsed": false,
    "pycharm": {
     "name": "#%%\n"
    }
   }
  },
  {
   "cell_type": "markdown",
   "source": [
    "# 1. Generating mock dataset"
   ],
   "metadata": {
    "collapsed": false,
    "pycharm": {
     "name": "#%% md\n"
    }
   }
  },
  {
   "cell_type": "code",
   "execution_count": 5,
   "outputs": [
    {
     "data": {
      "text/plain": "       0       1       2      3     4       5\n0  Bread   Bread  Butter   Eggs  Milk    Milk\n1  Bread   Bread   Bread  Bread  Milk  Yogurt\n2  Bread  Butter  Cheese   Milk  Milk  Yogurt\n3  Bread   Bread  Butter   Eggs  Milk    None\n4   Eggs    Eggs    Eggs   Milk  Milk  Yogurt",
      "text/html": "<div>\n<style scoped>\n    .dataframe tbody tr th:only-of-type {\n        vertical-align: middle;\n    }\n\n    .dataframe tbody tr th {\n        vertical-align: top;\n    }\n\n    .dataframe thead th {\n        text-align: right;\n    }\n</style>\n<table border=\"1\" class=\"dataframe\">\n  <thead>\n    <tr style=\"text-align: right;\">\n      <th></th>\n      <th>0</th>\n      <th>1</th>\n      <th>2</th>\n      <th>3</th>\n      <th>4</th>\n      <th>5</th>\n    </tr>\n  </thead>\n  <tbody>\n    <tr>\n      <th>0</th>\n      <td>Bread</td>\n      <td>Bread</td>\n      <td>Butter</td>\n      <td>Eggs</td>\n      <td>Milk</td>\n      <td>Milk</td>\n    </tr>\n    <tr>\n      <th>1</th>\n      <td>Bread</td>\n      <td>Bread</td>\n      <td>Bread</td>\n      <td>Bread</td>\n      <td>Milk</td>\n      <td>Yogurt</td>\n    </tr>\n    <tr>\n      <th>2</th>\n      <td>Bread</td>\n      <td>Butter</td>\n      <td>Cheese</td>\n      <td>Milk</td>\n      <td>Milk</td>\n      <td>Yogurt</td>\n    </tr>\n    <tr>\n      <th>3</th>\n      <td>Bread</td>\n      <td>Bread</td>\n      <td>Butter</td>\n      <td>Eggs</td>\n      <td>Milk</td>\n      <td>None</td>\n    </tr>\n    <tr>\n      <th>4</th>\n      <td>Eggs</td>\n      <td>Eggs</td>\n      <td>Eggs</td>\n      <td>Milk</td>\n      <td>Milk</td>\n      <td>Yogurt</td>\n    </tr>\n  </tbody>\n</table>\n</div>"
     },
     "execution_count": 5,
     "metadata": {},
     "output_type": "execute_result"
    }
   ],
   "source": [
    "# Generate mock dataset of shopping baskets with 1000 baskets and 6 items and allow NaN values\n",
    "items = ['Milk', 'Bread', 'Eggs', 'Cheese', 'Butter', 'Yogurt', None]\n",
    "baskets = np.random.choice(items , size=(1000, 6), p=[0.2, 0.2, 0.2, 0.15, 0.1, 0.1, 0.05], replace=True)\n",
    "df_baskets = pd.DataFrame(baskets)\n",
    "# Move the NaN value to the end of each row\n",
    "df_baskets = df_baskets.apply(lambda x: x.sort_values().reset_index(drop=True), axis=1)\n",
    "df_baskets.head()"
   ],
   "metadata": {
    "collapsed": false,
    "pycharm": {
     "name": "#%%\n"
    }
   }
  },
  {
   "cell_type": "code",
   "execution_count": 6,
   "outputs": [
    {
     "data": {
      "text/plain": "         0       1       2       3       4       5\n0    Bread   Bread  Butter    Eggs    Milk    Milk\n1    Bread   Bread   Bread   Bread    Milk  Yogurt\n2    Bread  Butter  Cheese    Milk    Milk  Yogurt\n3    Bread   Bread  Butter    Eggs    Milk    None\n4     Eggs    Eggs    Eggs    Milk    Milk  Yogurt\n..     ...     ...     ...     ...     ...     ...\n995  Bread  Cheese    Milk    Milk  Yogurt  Yogurt\n996  Bread  Butter  Butter  Butter  Cheese    Eggs\n997   Eggs    Eggs    Eggs    Milk    Milk    None\n998  Bread  Cheese    Eggs    Milk  Yogurt    None\n999  Bread   Bread  Butter    Milk  Yogurt    None\n\n[1000 rows x 6 columns]",
      "text/html": "<div>\n<style scoped>\n    .dataframe tbody tr th:only-of-type {\n        vertical-align: middle;\n    }\n\n    .dataframe tbody tr th {\n        vertical-align: top;\n    }\n\n    .dataframe thead th {\n        text-align: right;\n    }\n</style>\n<table border=\"1\" class=\"dataframe\">\n  <thead>\n    <tr style=\"text-align: right;\">\n      <th></th>\n      <th>0</th>\n      <th>1</th>\n      <th>2</th>\n      <th>3</th>\n      <th>4</th>\n      <th>5</th>\n    </tr>\n  </thead>\n  <tbody>\n    <tr>\n      <th>0</th>\n      <td>Bread</td>\n      <td>Bread</td>\n      <td>Butter</td>\n      <td>Eggs</td>\n      <td>Milk</td>\n      <td>Milk</td>\n    </tr>\n    <tr>\n      <th>1</th>\n      <td>Bread</td>\n      <td>Bread</td>\n      <td>Bread</td>\n      <td>Bread</td>\n      <td>Milk</td>\n      <td>Yogurt</td>\n    </tr>\n    <tr>\n      <th>2</th>\n      <td>Bread</td>\n      <td>Butter</td>\n      <td>Cheese</td>\n      <td>Milk</td>\n      <td>Milk</td>\n      <td>Yogurt</td>\n    </tr>\n    <tr>\n      <th>3</th>\n      <td>Bread</td>\n      <td>Bread</td>\n      <td>Butter</td>\n      <td>Eggs</td>\n      <td>Milk</td>\n      <td>None</td>\n    </tr>\n    <tr>\n      <th>4</th>\n      <td>Eggs</td>\n      <td>Eggs</td>\n      <td>Eggs</td>\n      <td>Milk</td>\n      <td>Milk</td>\n      <td>Yogurt</td>\n    </tr>\n    <tr>\n      <th>...</th>\n      <td>...</td>\n      <td>...</td>\n      <td>...</td>\n      <td>...</td>\n      <td>...</td>\n      <td>...</td>\n    </tr>\n    <tr>\n      <th>995</th>\n      <td>Bread</td>\n      <td>Cheese</td>\n      <td>Milk</td>\n      <td>Milk</td>\n      <td>Yogurt</td>\n      <td>Yogurt</td>\n    </tr>\n    <tr>\n      <th>996</th>\n      <td>Bread</td>\n      <td>Butter</td>\n      <td>Butter</td>\n      <td>Butter</td>\n      <td>Cheese</td>\n      <td>Eggs</td>\n    </tr>\n    <tr>\n      <th>997</th>\n      <td>Eggs</td>\n      <td>Eggs</td>\n      <td>Eggs</td>\n      <td>Milk</td>\n      <td>Milk</td>\n      <td>None</td>\n    </tr>\n    <tr>\n      <th>998</th>\n      <td>Bread</td>\n      <td>Cheese</td>\n      <td>Eggs</td>\n      <td>Milk</td>\n      <td>Yogurt</td>\n      <td>None</td>\n    </tr>\n    <tr>\n      <th>999</th>\n      <td>Bread</td>\n      <td>Bread</td>\n      <td>Butter</td>\n      <td>Milk</td>\n      <td>Yogurt</td>\n      <td>None</td>\n    </tr>\n  </tbody>\n</table>\n<p>1000 rows × 6 columns</p>\n</div>"
     },
     "execution_count": 6,
     "metadata": {},
     "output_type": "execute_result"
    }
   ],
   "source": [
    "df_baskets"
   ],
   "metadata": {
    "collapsed": false,
    "pycharm": {
     "name": "#%%\n"
    }
   }
  },
  {
   "cell_type": "markdown",
   "source": [
    "# 2. Getting the frequent itemsets"
   ],
   "metadata": {
    "collapsed": false,
    "pycharm": {
     "name": "#%% md\n"
    }
   }
  },
  {
   "cell_type": "code",
   "execution_count": 7,
   "outputs": [
    {
     "data": {
      "text/plain": "['Cheese', 'Bread', 'Eggs', 'Butter', 'Milk', 'Yogurt']"
     },
     "execution_count": 7,
     "metadata": {},
     "output_type": "execute_result"
    }
   ],
   "source": [
    "# get the set of unique items\n",
    "items = set(df_baskets.values.flatten())\n",
    "items = list(items)\n",
    "items.remove(None)\n",
    "items"
   ],
   "metadata": {
    "collapsed": false,
    "pycharm": {
     "name": "#%%\n"
    }
   }
  },
  {
   "cell_type": "markdown",
   "source": [
    "## 2.1. Experiment 1:"
   ],
   "metadata": {
    "collapsed": false,
    "pycharm": {
     "name": "#%% md\n"
    }
   }
  },
  {
   "cell_type": "code",
   "execution_count": 8,
   "outputs": [
    {
     "data": {
      "text/plain": "     0_Bread  0_Butter  0_Cheese  0_Eggs  0_Milk  1_Bread  1_Butter  1_Cheese  \\\n0          1         0         0       0       0        1         0         0   \n1          1         0         0       0       0        1         0         0   \n2          1         0         0       0       0        0         1         0   \n3          1         0         0       0       0        1         0         0   \n4          0         0         0       1       0        0         0         0   \n..       ...       ...       ...     ...     ...      ...       ...       ...   \n995        1         0         0       0       0        0         0         1   \n996        1         0         0       0       0        0         1         0   \n997        0         0         0       1       0        0         0         0   \n998        1         0         0       0       0        0         0         1   \n999        1         0         0       0       0        1         0         0   \n\n     1_Eggs  1_Milk  ...  4_Butter  4_Cheese  4_Eggs  4_Milk  4_Yogurt  \\\n0         0       0  ...         0         0       0       1         0   \n1         0       0  ...         0         0       0       1         0   \n2         0       0  ...         0         0       0       1         0   \n3         0       0  ...         0         0       0       1         0   \n4         1       0  ...         0         0       0       1         0   \n..      ...     ...  ...       ...       ...     ...     ...       ...   \n995       0       0  ...         0         0       0       0         1   \n996       0       0  ...         0         1       0       0         0   \n997       1       0  ...         0         0       0       1         0   \n998       0       0  ...         0         0       0       0         1   \n999       0       0  ...         0         0       0       0         1   \n\n     5_Butter  5_Cheese  5_Eggs  5_Milk  5_Yogurt  \n0           0         0       0       1         0  \n1           0         0       0       0         1  \n2           0         0       0       0         1  \n3           0         0       0       0         0  \n4           0         0       0       0         1  \n..        ...       ...     ...     ...       ...  \n995         0         0       0       0         1  \n996         0         0       1       0         0  \n997         0         0       0       0         0  \n998         0         0       0       0         0  \n999         0         0       0       0         0  \n\n[1000 rows x 34 columns]",
      "text/html": "<div>\n<style scoped>\n    .dataframe tbody tr th:only-of-type {\n        vertical-align: middle;\n    }\n\n    .dataframe tbody tr th {\n        vertical-align: top;\n    }\n\n    .dataframe thead th {\n        text-align: right;\n    }\n</style>\n<table border=\"1\" class=\"dataframe\">\n  <thead>\n    <tr style=\"text-align: right;\">\n      <th></th>\n      <th>0_Bread</th>\n      <th>0_Butter</th>\n      <th>0_Cheese</th>\n      <th>0_Eggs</th>\n      <th>0_Milk</th>\n      <th>1_Bread</th>\n      <th>1_Butter</th>\n      <th>1_Cheese</th>\n      <th>1_Eggs</th>\n      <th>1_Milk</th>\n      <th>...</th>\n      <th>4_Butter</th>\n      <th>4_Cheese</th>\n      <th>4_Eggs</th>\n      <th>4_Milk</th>\n      <th>4_Yogurt</th>\n      <th>5_Butter</th>\n      <th>5_Cheese</th>\n      <th>5_Eggs</th>\n      <th>5_Milk</th>\n      <th>5_Yogurt</th>\n    </tr>\n  </thead>\n  <tbody>\n    <tr>\n      <th>0</th>\n      <td>1</td>\n      <td>0</td>\n      <td>0</td>\n      <td>0</td>\n      <td>0</td>\n      <td>1</td>\n      <td>0</td>\n      <td>0</td>\n      <td>0</td>\n      <td>0</td>\n      <td>...</td>\n      <td>0</td>\n      <td>0</td>\n      <td>0</td>\n      <td>1</td>\n      <td>0</td>\n      <td>0</td>\n      <td>0</td>\n      <td>0</td>\n      <td>1</td>\n      <td>0</td>\n    </tr>\n    <tr>\n      <th>1</th>\n      <td>1</td>\n      <td>0</td>\n      <td>0</td>\n      <td>0</td>\n      <td>0</td>\n      <td>1</td>\n      <td>0</td>\n      <td>0</td>\n      <td>0</td>\n      <td>0</td>\n      <td>...</td>\n      <td>0</td>\n      <td>0</td>\n      <td>0</td>\n      <td>1</td>\n      <td>0</td>\n      <td>0</td>\n      <td>0</td>\n      <td>0</td>\n      <td>0</td>\n      <td>1</td>\n    </tr>\n    <tr>\n      <th>2</th>\n      <td>1</td>\n      <td>0</td>\n      <td>0</td>\n      <td>0</td>\n      <td>0</td>\n      <td>0</td>\n      <td>1</td>\n      <td>0</td>\n      <td>0</td>\n      <td>0</td>\n      <td>...</td>\n      <td>0</td>\n      <td>0</td>\n      <td>0</td>\n      <td>1</td>\n      <td>0</td>\n      <td>0</td>\n      <td>0</td>\n      <td>0</td>\n      <td>0</td>\n      <td>1</td>\n    </tr>\n    <tr>\n      <th>3</th>\n      <td>1</td>\n      <td>0</td>\n      <td>0</td>\n      <td>0</td>\n      <td>0</td>\n      <td>1</td>\n      <td>0</td>\n      <td>0</td>\n      <td>0</td>\n      <td>0</td>\n      <td>...</td>\n      <td>0</td>\n      <td>0</td>\n      <td>0</td>\n      <td>1</td>\n      <td>0</td>\n      <td>0</td>\n      <td>0</td>\n      <td>0</td>\n      <td>0</td>\n      <td>0</td>\n    </tr>\n    <tr>\n      <th>4</th>\n      <td>0</td>\n      <td>0</td>\n      <td>0</td>\n      <td>1</td>\n      <td>0</td>\n      <td>0</td>\n      <td>0</td>\n      <td>0</td>\n      <td>1</td>\n      <td>0</td>\n      <td>...</td>\n      <td>0</td>\n      <td>0</td>\n      <td>0</td>\n      <td>1</td>\n      <td>0</td>\n      <td>0</td>\n      <td>0</td>\n      <td>0</td>\n      <td>0</td>\n      <td>1</td>\n    </tr>\n    <tr>\n      <th>...</th>\n      <td>...</td>\n      <td>...</td>\n      <td>...</td>\n      <td>...</td>\n      <td>...</td>\n      <td>...</td>\n      <td>...</td>\n      <td>...</td>\n      <td>...</td>\n      <td>...</td>\n      <td>...</td>\n      <td>...</td>\n      <td>...</td>\n      <td>...</td>\n      <td>...</td>\n      <td>...</td>\n      <td>...</td>\n      <td>...</td>\n      <td>...</td>\n      <td>...</td>\n      <td>...</td>\n    </tr>\n    <tr>\n      <th>995</th>\n      <td>1</td>\n      <td>0</td>\n      <td>0</td>\n      <td>0</td>\n      <td>0</td>\n      <td>0</td>\n      <td>0</td>\n      <td>1</td>\n      <td>0</td>\n      <td>0</td>\n      <td>...</td>\n      <td>0</td>\n      <td>0</td>\n      <td>0</td>\n      <td>0</td>\n      <td>1</td>\n      <td>0</td>\n      <td>0</td>\n      <td>0</td>\n      <td>0</td>\n      <td>1</td>\n    </tr>\n    <tr>\n      <th>996</th>\n      <td>1</td>\n      <td>0</td>\n      <td>0</td>\n      <td>0</td>\n      <td>0</td>\n      <td>0</td>\n      <td>1</td>\n      <td>0</td>\n      <td>0</td>\n      <td>0</td>\n      <td>...</td>\n      <td>0</td>\n      <td>1</td>\n      <td>0</td>\n      <td>0</td>\n      <td>0</td>\n      <td>0</td>\n      <td>0</td>\n      <td>1</td>\n      <td>0</td>\n      <td>0</td>\n    </tr>\n    <tr>\n      <th>997</th>\n      <td>0</td>\n      <td>0</td>\n      <td>0</td>\n      <td>1</td>\n      <td>0</td>\n      <td>0</td>\n      <td>0</td>\n      <td>0</td>\n      <td>1</td>\n      <td>0</td>\n      <td>...</td>\n      <td>0</td>\n      <td>0</td>\n      <td>0</td>\n      <td>1</td>\n      <td>0</td>\n      <td>0</td>\n      <td>0</td>\n      <td>0</td>\n      <td>0</td>\n      <td>0</td>\n    </tr>\n    <tr>\n      <th>998</th>\n      <td>1</td>\n      <td>0</td>\n      <td>0</td>\n      <td>0</td>\n      <td>0</td>\n      <td>0</td>\n      <td>0</td>\n      <td>1</td>\n      <td>0</td>\n      <td>0</td>\n      <td>...</td>\n      <td>0</td>\n      <td>0</td>\n      <td>0</td>\n      <td>0</td>\n      <td>1</td>\n      <td>0</td>\n      <td>0</td>\n      <td>0</td>\n      <td>0</td>\n      <td>0</td>\n    </tr>\n    <tr>\n      <th>999</th>\n      <td>1</td>\n      <td>0</td>\n      <td>0</td>\n      <td>0</td>\n      <td>0</td>\n      <td>1</td>\n      <td>0</td>\n      <td>0</td>\n      <td>0</td>\n      <td>0</td>\n      <td>...</td>\n      <td>0</td>\n      <td>0</td>\n      <td>0</td>\n      <td>0</td>\n      <td>1</td>\n      <td>0</td>\n      <td>0</td>\n      <td>0</td>\n      <td>0</td>\n      <td>0</td>\n    </tr>\n  </tbody>\n</table>\n<p>1000 rows × 34 columns</p>\n</div>"
     },
     "execution_count": 8,
     "metadata": {},
     "output_type": "execute_result"
    }
   ],
   "source": [
    "pd.get_dummies(df_baskets)"
   ],
   "metadata": {
    "collapsed": false,
    "pycharm": {
     "name": "#%%\n"
    }
   }
  },
  {
   "cell_type": "code",
   "execution_count": 9,
   "outputs": [
    {
     "data": {
      "text/plain": "     x0_Bread  x0_Butter  x0_Cheese  x0_Eggs  x0_Milk  x1_Bread  x1_Butter  \\\n0         1.0        0.0        0.0      0.0      0.0       1.0        0.0   \n1         1.0        0.0        0.0      0.0      0.0       1.0        0.0   \n2         1.0        0.0        0.0      0.0      0.0       0.0        1.0   \n3         1.0        0.0        0.0      0.0      0.0       1.0        0.0   \n4         0.0        0.0        0.0      1.0      0.0       0.0        0.0   \n..        ...        ...        ...      ...      ...       ...        ...   \n995       1.0        0.0        0.0      0.0      0.0       0.0        0.0   \n996       1.0        0.0        0.0      0.0      0.0       0.0        1.0   \n997       0.0        0.0        0.0      1.0      0.0       0.0        0.0   \n998       1.0        0.0        0.0      0.0      0.0       0.0        0.0   \n999       1.0        0.0        0.0      0.0      0.0       1.0        0.0   \n\n     x1_Cheese  x1_Eggs  x1_Milk  ...  x4_Eggs  x4_Milk  x4_Yogurt  x4_None  \\\n0          0.0      0.0      0.0  ...      0.0      1.0        0.0      0.0   \n1          0.0      0.0      0.0  ...      0.0      1.0        0.0      0.0   \n2          0.0      0.0      0.0  ...      0.0      1.0        0.0      0.0   \n3          0.0      0.0      0.0  ...      0.0      1.0        0.0      0.0   \n4          0.0      1.0      0.0  ...      0.0      1.0        0.0      0.0   \n..         ...      ...      ...  ...      ...      ...        ...      ...   \n995        1.0      0.0      0.0  ...      0.0      0.0        1.0      0.0   \n996        0.0      0.0      0.0  ...      0.0      0.0        0.0      0.0   \n997        0.0      1.0      0.0  ...      0.0      1.0        0.0      0.0   \n998        1.0      0.0      0.0  ...      0.0      0.0        1.0      0.0   \n999        0.0      0.0      0.0  ...      0.0      0.0        1.0      0.0   \n\n     x5_Butter  x5_Cheese  x5_Eggs  x5_Milk  x5_Yogurt  x5_None  \n0          0.0        0.0      0.0      1.0        0.0      0.0  \n1          0.0        0.0      0.0      0.0        1.0      0.0  \n2          0.0        0.0      0.0      0.0        1.0      0.0  \n3          0.0        0.0      0.0      0.0        0.0      1.0  \n4          0.0        0.0      0.0      0.0        1.0      0.0  \n..         ...        ...      ...      ...        ...      ...  \n995        0.0        0.0      0.0      0.0        1.0      0.0  \n996        0.0        0.0      1.0      0.0        0.0      0.0  \n997        0.0        0.0      0.0      0.0        0.0      1.0  \n998        0.0        0.0      0.0      0.0        0.0      1.0  \n999        0.0        0.0      0.0      0.0        0.0      1.0  \n\n[1000 rows x 38 columns]",
      "text/html": "<div>\n<style scoped>\n    .dataframe tbody tr th:only-of-type {\n        vertical-align: middle;\n    }\n\n    .dataframe tbody tr th {\n        vertical-align: top;\n    }\n\n    .dataframe thead th {\n        text-align: right;\n    }\n</style>\n<table border=\"1\" class=\"dataframe\">\n  <thead>\n    <tr style=\"text-align: right;\">\n      <th></th>\n      <th>x0_Bread</th>\n      <th>x0_Butter</th>\n      <th>x0_Cheese</th>\n      <th>x0_Eggs</th>\n      <th>x0_Milk</th>\n      <th>x1_Bread</th>\n      <th>x1_Butter</th>\n      <th>x1_Cheese</th>\n      <th>x1_Eggs</th>\n      <th>x1_Milk</th>\n      <th>...</th>\n      <th>x4_Eggs</th>\n      <th>x4_Milk</th>\n      <th>x4_Yogurt</th>\n      <th>x4_None</th>\n      <th>x5_Butter</th>\n      <th>x5_Cheese</th>\n      <th>x5_Eggs</th>\n      <th>x5_Milk</th>\n      <th>x5_Yogurt</th>\n      <th>x5_None</th>\n    </tr>\n  </thead>\n  <tbody>\n    <tr>\n      <th>0</th>\n      <td>1.0</td>\n      <td>0.0</td>\n      <td>0.0</td>\n      <td>0.0</td>\n      <td>0.0</td>\n      <td>1.0</td>\n      <td>0.0</td>\n      <td>0.0</td>\n      <td>0.0</td>\n      <td>0.0</td>\n      <td>...</td>\n      <td>0.0</td>\n      <td>1.0</td>\n      <td>0.0</td>\n      <td>0.0</td>\n      <td>0.0</td>\n      <td>0.0</td>\n      <td>0.0</td>\n      <td>1.0</td>\n      <td>0.0</td>\n      <td>0.0</td>\n    </tr>\n    <tr>\n      <th>1</th>\n      <td>1.0</td>\n      <td>0.0</td>\n      <td>0.0</td>\n      <td>0.0</td>\n      <td>0.0</td>\n      <td>1.0</td>\n      <td>0.0</td>\n      <td>0.0</td>\n      <td>0.0</td>\n      <td>0.0</td>\n      <td>...</td>\n      <td>0.0</td>\n      <td>1.0</td>\n      <td>0.0</td>\n      <td>0.0</td>\n      <td>0.0</td>\n      <td>0.0</td>\n      <td>0.0</td>\n      <td>0.0</td>\n      <td>1.0</td>\n      <td>0.0</td>\n    </tr>\n    <tr>\n      <th>2</th>\n      <td>1.0</td>\n      <td>0.0</td>\n      <td>0.0</td>\n      <td>0.0</td>\n      <td>0.0</td>\n      <td>0.0</td>\n      <td>1.0</td>\n      <td>0.0</td>\n      <td>0.0</td>\n      <td>0.0</td>\n      <td>...</td>\n      <td>0.0</td>\n      <td>1.0</td>\n      <td>0.0</td>\n      <td>0.0</td>\n      <td>0.0</td>\n      <td>0.0</td>\n      <td>0.0</td>\n      <td>0.0</td>\n      <td>1.0</td>\n      <td>0.0</td>\n    </tr>\n    <tr>\n      <th>3</th>\n      <td>1.0</td>\n      <td>0.0</td>\n      <td>0.0</td>\n      <td>0.0</td>\n      <td>0.0</td>\n      <td>1.0</td>\n      <td>0.0</td>\n      <td>0.0</td>\n      <td>0.0</td>\n      <td>0.0</td>\n      <td>...</td>\n      <td>0.0</td>\n      <td>1.0</td>\n      <td>0.0</td>\n      <td>0.0</td>\n      <td>0.0</td>\n      <td>0.0</td>\n      <td>0.0</td>\n      <td>0.0</td>\n      <td>0.0</td>\n      <td>1.0</td>\n    </tr>\n    <tr>\n      <th>4</th>\n      <td>0.0</td>\n      <td>0.0</td>\n      <td>0.0</td>\n      <td>1.0</td>\n      <td>0.0</td>\n      <td>0.0</td>\n      <td>0.0</td>\n      <td>0.0</td>\n      <td>1.0</td>\n      <td>0.0</td>\n      <td>...</td>\n      <td>0.0</td>\n      <td>1.0</td>\n      <td>0.0</td>\n      <td>0.0</td>\n      <td>0.0</td>\n      <td>0.0</td>\n      <td>0.0</td>\n      <td>0.0</td>\n      <td>1.0</td>\n      <td>0.0</td>\n    </tr>\n    <tr>\n      <th>...</th>\n      <td>...</td>\n      <td>...</td>\n      <td>...</td>\n      <td>...</td>\n      <td>...</td>\n      <td>...</td>\n      <td>...</td>\n      <td>...</td>\n      <td>...</td>\n      <td>...</td>\n      <td>...</td>\n      <td>...</td>\n      <td>...</td>\n      <td>...</td>\n      <td>...</td>\n      <td>...</td>\n      <td>...</td>\n      <td>...</td>\n      <td>...</td>\n      <td>...</td>\n      <td>...</td>\n    </tr>\n    <tr>\n      <th>995</th>\n      <td>1.0</td>\n      <td>0.0</td>\n      <td>0.0</td>\n      <td>0.0</td>\n      <td>0.0</td>\n      <td>0.0</td>\n      <td>0.0</td>\n      <td>1.0</td>\n      <td>0.0</td>\n      <td>0.0</td>\n      <td>...</td>\n      <td>0.0</td>\n      <td>0.0</td>\n      <td>1.0</td>\n      <td>0.0</td>\n      <td>0.0</td>\n      <td>0.0</td>\n      <td>0.0</td>\n      <td>0.0</td>\n      <td>1.0</td>\n      <td>0.0</td>\n    </tr>\n    <tr>\n      <th>996</th>\n      <td>1.0</td>\n      <td>0.0</td>\n      <td>0.0</td>\n      <td>0.0</td>\n      <td>0.0</td>\n      <td>0.0</td>\n      <td>1.0</td>\n      <td>0.0</td>\n      <td>0.0</td>\n      <td>0.0</td>\n      <td>...</td>\n      <td>0.0</td>\n      <td>0.0</td>\n      <td>0.0</td>\n      <td>0.0</td>\n      <td>0.0</td>\n      <td>0.0</td>\n      <td>1.0</td>\n      <td>0.0</td>\n      <td>0.0</td>\n      <td>0.0</td>\n    </tr>\n    <tr>\n      <th>997</th>\n      <td>0.0</td>\n      <td>0.0</td>\n      <td>0.0</td>\n      <td>1.0</td>\n      <td>0.0</td>\n      <td>0.0</td>\n      <td>0.0</td>\n      <td>0.0</td>\n      <td>1.0</td>\n      <td>0.0</td>\n      <td>...</td>\n      <td>0.0</td>\n      <td>1.0</td>\n      <td>0.0</td>\n      <td>0.0</td>\n      <td>0.0</td>\n      <td>0.0</td>\n      <td>0.0</td>\n      <td>0.0</td>\n      <td>0.0</td>\n      <td>1.0</td>\n    </tr>\n    <tr>\n      <th>998</th>\n      <td>1.0</td>\n      <td>0.0</td>\n      <td>0.0</td>\n      <td>0.0</td>\n      <td>0.0</td>\n      <td>0.0</td>\n      <td>0.0</td>\n      <td>1.0</td>\n      <td>0.0</td>\n      <td>0.0</td>\n      <td>...</td>\n      <td>0.0</td>\n      <td>0.0</td>\n      <td>1.0</td>\n      <td>0.0</td>\n      <td>0.0</td>\n      <td>0.0</td>\n      <td>0.0</td>\n      <td>0.0</td>\n      <td>0.0</td>\n      <td>1.0</td>\n    </tr>\n    <tr>\n      <th>999</th>\n      <td>1.0</td>\n      <td>0.0</td>\n      <td>0.0</td>\n      <td>0.0</td>\n      <td>0.0</td>\n      <td>1.0</td>\n      <td>0.0</td>\n      <td>0.0</td>\n      <td>0.0</td>\n      <td>0.0</td>\n      <td>...</td>\n      <td>0.0</td>\n      <td>0.0</td>\n      <td>1.0</td>\n      <td>0.0</td>\n      <td>0.0</td>\n      <td>0.0</td>\n      <td>0.0</td>\n      <td>0.0</td>\n      <td>0.0</td>\n      <td>1.0</td>\n    </tr>\n  </tbody>\n</table>\n<p>1000 rows × 38 columns</p>\n</div>"
     },
     "execution_count": 9,
     "metadata": {},
     "output_type": "execute_result"
    }
   ],
   "source": [
    "encoder = OneHotEncoder(sparse=False)\n",
    "x = encoder.fit_transform(df_baskets)\n",
    "itemset = pd.DataFrame(x, columns=encoder.get_feature_names_out())\n",
    "itemset"
   ],
   "metadata": {
    "collapsed": false,
    "pycharm": {
     "name": "#%%\n"
    }
   }
  },
  {
   "cell_type": "code",
   "execution_count": 10,
   "outputs": [
    {
     "name": "stdout",
     "output_type": "stream",
     "text": [
      "Processing 63 combinations | Sampling itemset size 32\n"
     ]
    },
    {
     "name": "stderr",
     "output_type": "stream",
     "text": [
      "/Users/wadieskaf/miniconda3/envs/base_39/lib/python3.9/site-packages/mlxtend/frequent_patterns/fpcommon.py:111: DeprecationWarning: DataFrames with non-bool types result in worse computationalperformance and their support might be discontinued in the future.Please use a DataFrame with bool type\n",
      "  warnings.warn(\n"
     ]
    },
    {
     "data": {
      "text/plain": "    support               itemsets\n0     0.725             (x0_Bread)\n1     0.373             (x1_Bread)\n2     0.214            (x1_Butter)\n3     0.241            (x1_Cheese)\n4     0.288            (x2_Cheese)\n5     0.326              (x2_Eggs)\n6     0.380              (x3_Eggs)\n7     0.317              (x3_Milk)\n8     0.255              (x4_Eggs)\n9     0.433              (x4_Milk)\n10    0.205            (x4_Yogurt)\n11    0.282              (x5_Milk)\n12    0.341            (x5_Yogurt)\n13    0.276              (x5_None)\n14    0.373   (x1_Bread, x0_Bread)\n15    0.233  (x0_Bread, x2_Cheese)\n16    0.289    (x3_Eggs, x0_Bread)\n17    0.215    (x4_Eggs, x0_Bread)\n18    0.300    (x0_Bread, x4_Milk)\n19    0.213    (x5_Milk, x0_Bread)\n20    0.244  (x0_Bread, x5_Yogurt)",
      "text/html": "<div>\n<style scoped>\n    .dataframe tbody tr th:only-of-type {\n        vertical-align: middle;\n    }\n\n    .dataframe tbody tr th {\n        vertical-align: top;\n    }\n\n    .dataframe thead th {\n        text-align: right;\n    }\n</style>\n<table border=\"1\" class=\"dataframe\">\n  <thead>\n    <tr style=\"text-align: right;\">\n      <th></th>\n      <th>support</th>\n      <th>itemsets</th>\n    </tr>\n  </thead>\n  <tbody>\n    <tr>\n      <th>0</th>\n      <td>0.725</td>\n      <td>(x0_Bread)</td>\n    </tr>\n    <tr>\n      <th>1</th>\n      <td>0.373</td>\n      <td>(x1_Bread)</td>\n    </tr>\n    <tr>\n      <th>2</th>\n      <td>0.214</td>\n      <td>(x1_Butter)</td>\n    </tr>\n    <tr>\n      <th>3</th>\n      <td>0.241</td>\n      <td>(x1_Cheese)</td>\n    </tr>\n    <tr>\n      <th>4</th>\n      <td>0.288</td>\n      <td>(x2_Cheese)</td>\n    </tr>\n    <tr>\n      <th>5</th>\n      <td>0.326</td>\n      <td>(x2_Eggs)</td>\n    </tr>\n    <tr>\n      <th>6</th>\n      <td>0.380</td>\n      <td>(x3_Eggs)</td>\n    </tr>\n    <tr>\n      <th>7</th>\n      <td>0.317</td>\n      <td>(x3_Milk)</td>\n    </tr>\n    <tr>\n      <th>8</th>\n      <td>0.255</td>\n      <td>(x4_Eggs)</td>\n    </tr>\n    <tr>\n      <th>9</th>\n      <td>0.433</td>\n      <td>(x4_Milk)</td>\n    </tr>\n    <tr>\n      <th>10</th>\n      <td>0.205</td>\n      <td>(x4_Yogurt)</td>\n    </tr>\n    <tr>\n      <th>11</th>\n      <td>0.282</td>\n      <td>(x5_Milk)</td>\n    </tr>\n    <tr>\n      <th>12</th>\n      <td>0.341</td>\n      <td>(x5_Yogurt)</td>\n    </tr>\n    <tr>\n      <th>13</th>\n      <td>0.276</td>\n      <td>(x5_None)</td>\n    </tr>\n    <tr>\n      <th>14</th>\n      <td>0.373</td>\n      <td>(x1_Bread, x0_Bread)</td>\n    </tr>\n    <tr>\n      <th>15</th>\n      <td>0.233</td>\n      <td>(x0_Bread, x2_Cheese)</td>\n    </tr>\n    <tr>\n      <th>16</th>\n      <td>0.289</td>\n      <td>(x3_Eggs, x0_Bread)</td>\n    </tr>\n    <tr>\n      <th>17</th>\n      <td>0.215</td>\n      <td>(x4_Eggs, x0_Bread)</td>\n    </tr>\n    <tr>\n      <th>18</th>\n      <td>0.300</td>\n      <td>(x0_Bread, x4_Milk)</td>\n    </tr>\n    <tr>\n      <th>19</th>\n      <td>0.213</td>\n      <td>(x5_Milk, x0_Bread)</td>\n    </tr>\n    <tr>\n      <th>20</th>\n      <td>0.244</td>\n      <td>(x0_Bread, x5_Yogurt)</td>\n    </tr>\n  </tbody>\n</table>\n</div>"
     },
     "execution_count": 10,
     "metadata": {},
     "output_type": "execute_result"
    }
   ],
   "source": [
    "freq_items = apriori(itemset, min_support=0.2, use_colnames=True, verbose=1)\n",
    "freq_items"
   ],
   "metadata": {
    "collapsed": false,
    "pycharm": {
     "name": "#%%\n"
    }
   }
  },
  {
   "cell_type": "markdown",
   "source": [
    "## 2.2. Experiment 2:"
   ],
   "metadata": {
    "collapsed": false,
    "pycharm": {
     "name": "#%% md\n"
    }
   }
  },
  {
   "cell_type": "code",
   "execution_count": 11,
   "outputs": [
    {
     "data": {
      "text/plain": "     Cheese  Bread  Eggs  Butter  Milk  Yogurt\n0         0      1     1       1     1       0\n1         0      1     0       0     1       1\n2         1      1     0       1     1       1\n3         0      1     1       1     1       0\n4         0      0     1       0     1       1\n..      ...    ...   ...     ...   ...     ...\n995       1      1     0       0     1       1\n996       1      1     1       1     0       0\n997       0      0     1       0     1       0\n998       1      1     1       0     1       1\n999       0      1     0       1     1       1\n\n[1000 rows x 6 columns]",
      "text/html": "<div>\n<style scoped>\n    .dataframe tbody tr th:only-of-type {\n        vertical-align: middle;\n    }\n\n    .dataframe tbody tr th {\n        vertical-align: top;\n    }\n\n    .dataframe thead th {\n        text-align: right;\n    }\n</style>\n<table border=\"1\" class=\"dataframe\">\n  <thead>\n    <tr style=\"text-align: right;\">\n      <th></th>\n      <th>Cheese</th>\n      <th>Bread</th>\n      <th>Eggs</th>\n      <th>Butter</th>\n      <th>Milk</th>\n      <th>Yogurt</th>\n    </tr>\n  </thead>\n  <tbody>\n    <tr>\n      <th>0</th>\n      <td>0</td>\n      <td>1</td>\n      <td>1</td>\n      <td>1</td>\n      <td>1</td>\n      <td>0</td>\n    </tr>\n    <tr>\n      <th>1</th>\n      <td>0</td>\n      <td>1</td>\n      <td>0</td>\n      <td>0</td>\n      <td>1</td>\n      <td>1</td>\n    </tr>\n    <tr>\n      <th>2</th>\n      <td>1</td>\n      <td>1</td>\n      <td>0</td>\n      <td>1</td>\n      <td>1</td>\n      <td>1</td>\n    </tr>\n    <tr>\n      <th>3</th>\n      <td>0</td>\n      <td>1</td>\n      <td>1</td>\n      <td>1</td>\n      <td>1</td>\n      <td>0</td>\n    </tr>\n    <tr>\n      <th>4</th>\n      <td>0</td>\n      <td>0</td>\n      <td>1</td>\n      <td>0</td>\n      <td>1</td>\n      <td>1</td>\n    </tr>\n    <tr>\n      <th>...</th>\n      <td>...</td>\n      <td>...</td>\n      <td>...</td>\n      <td>...</td>\n      <td>...</td>\n      <td>...</td>\n    </tr>\n    <tr>\n      <th>995</th>\n      <td>1</td>\n      <td>1</td>\n      <td>0</td>\n      <td>0</td>\n      <td>1</td>\n      <td>1</td>\n    </tr>\n    <tr>\n      <th>996</th>\n      <td>1</td>\n      <td>1</td>\n      <td>1</td>\n      <td>1</td>\n      <td>0</td>\n      <td>0</td>\n    </tr>\n    <tr>\n      <th>997</th>\n      <td>0</td>\n      <td>0</td>\n      <td>1</td>\n      <td>0</td>\n      <td>1</td>\n      <td>0</td>\n    </tr>\n    <tr>\n      <th>998</th>\n      <td>1</td>\n      <td>1</td>\n      <td>1</td>\n      <td>0</td>\n      <td>1</td>\n      <td>1</td>\n    </tr>\n    <tr>\n      <th>999</th>\n      <td>0</td>\n      <td>1</td>\n      <td>0</td>\n      <td>1</td>\n      <td>1</td>\n      <td>1</td>\n    </tr>\n  </tbody>\n</table>\n<p>1000 rows × 6 columns</p>\n</div>"
     },
     "execution_count": 11,
     "metadata": {},
     "output_type": "execute_result"
    }
   ],
   "source": [
    "# Encode the data better: move the name of the item to the column name then put 1 if the item is in the basket and 0 otherwise\n",
    "df_baskets_2 = pd.DataFrame(columns=items)\n",
    "for i, row in df_baskets.iterrows():\n",
    "    df_baskets_2.loc[i] = 0\n",
    "    for item in row:\n",
    "        if item is not None:\n",
    "            df_baskets_2.loc[i, item] = 1\n",
    "df_baskets_2"
   ],
   "metadata": {
    "collapsed": false,
    "pycharm": {
     "name": "#%%\n"
    }
   }
  },
  {
   "cell_type": "code",
   "execution_count": 12,
   "outputs": [
    {
     "name": "stdout",
     "output_type": "stream",
     "text": [
      "Processing 20 combinations | Sampling itemset size 4\n"
     ]
    },
    {
     "name": "stderr",
     "output_type": "stream",
     "text": [
      "/Users/wadieskaf/miniconda3/envs/base_39/lib/python3.9/site-packages/mlxtend/frequent_patterns/fpcommon.py:111: DeprecationWarning: DataFrames with non-bool types result in worse computationalperformance and their support might be discontinued in the future.Please use a DataFrame with bool type\n",
      "  warnings.warn(\n"
     ]
    },
    {
     "data": {
      "text/plain": "    support               itemsets\n0     0.621               (Cheese)\n1     0.725                (Bread)\n2     0.748                 (Eggs)\n3     0.440               (Butter)\n4     0.715                 (Milk)\n5     0.466               (Yogurt)\n6     0.424        (Bread, Cheese)\n7     0.445         (Eggs, Cheese)\n8     0.254       (Cheese, Butter)\n9     0.423         (Cheese, Milk)\n10    0.260       (Cheese, Yogurt)\n11    0.528          (Bread, Eggs)\n12    0.298        (Bread, Butter)\n13    0.491          (Bread, Milk)\n14    0.310        (Bread, Yogurt)\n15    0.308         (Eggs, Butter)\n16    0.503           (Eggs, Milk)\n17    0.316         (Eggs, Yogurt)\n18    0.295         (Butter, Milk)\n19    0.327         (Milk, Yogurt)\n20    0.292  (Bread, Cheese, Eggs)\n21    0.267  (Bread, Cheese, Milk)\n22    0.279   (Eggs, Cheese, Milk)\n23    0.331    (Bread, Eggs, Milk)\n24    0.204  (Bread, Milk, Yogurt)\n25    0.203   (Eggs, Milk, Yogurt)",
      "text/html": "<div>\n<style scoped>\n    .dataframe tbody tr th:only-of-type {\n        vertical-align: middle;\n    }\n\n    .dataframe tbody tr th {\n        vertical-align: top;\n    }\n\n    .dataframe thead th {\n        text-align: right;\n    }\n</style>\n<table border=\"1\" class=\"dataframe\">\n  <thead>\n    <tr style=\"text-align: right;\">\n      <th></th>\n      <th>support</th>\n      <th>itemsets</th>\n    </tr>\n  </thead>\n  <tbody>\n    <tr>\n      <th>0</th>\n      <td>0.621</td>\n      <td>(Cheese)</td>\n    </tr>\n    <tr>\n      <th>1</th>\n      <td>0.725</td>\n      <td>(Bread)</td>\n    </tr>\n    <tr>\n      <th>2</th>\n      <td>0.748</td>\n      <td>(Eggs)</td>\n    </tr>\n    <tr>\n      <th>3</th>\n      <td>0.440</td>\n      <td>(Butter)</td>\n    </tr>\n    <tr>\n      <th>4</th>\n      <td>0.715</td>\n      <td>(Milk)</td>\n    </tr>\n    <tr>\n      <th>5</th>\n      <td>0.466</td>\n      <td>(Yogurt)</td>\n    </tr>\n    <tr>\n      <th>6</th>\n      <td>0.424</td>\n      <td>(Bread, Cheese)</td>\n    </tr>\n    <tr>\n      <th>7</th>\n      <td>0.445</td>\n      <td>(Eggs, Cheese)</td>\n    </tr>\n    <tr>\n      <th>8</th>\n      <td>0.254</td>\n      <td>(Cheese, Butter)</td>\n    </tr>\n    <tr>\n      <th>9</th>\n      <td>0.423</td>\n      <td>(Cheese, Milk)</td>\n    </tr>\n    <tr>\n      <th>10</th>\n      <td>0.260</td>\n      <td>(Cheese, Yogurt)</td>\n    </tr>\n    <tr>\n      <th>11</th>\n      <td>0.528</td>\n      <td>(Bread, Eggs)</td>\n    </tr>\n    <tr>\n      <th>12</th>\n      <td>0.298</td>\n      <td>(Bread, Butter)</td>\n    </tr>\n    <tr>\n      <th>13</th>\n      <td>0.491</td>\n      <td>(Bread, Milk)</td>\n    </tr>\n    <tr>\n      <th>14</th>\n      <td>0.310</td>\n      <td>(Bread, Yogurt)</td>\n    </tr>\n    <tr>\n      <th>15</th>\n      <td>0.308</td>\n      <td>(Eggs, Butter)</td>\n    </tr>\n    <tr>\n      <th>16</th>\n      <td>0.503</td>\n      <td>(Eggs, Milk)</td>\n    </tr>\n    <tr>\n      <th>17</th>\n      <td>0.316</td>\n      <td>(Eggs, Yogurt)</td>\n    </tr>\n    <tr>\n      <th>18</th>\n      <td>0.295</td>\n      <td>(Butter, Milk)</td>\n    </tr>\n    <tr>\n      <th>19</th>\n      <td>0.327</td>\n      <td>(Milk, Yogurt)</td>\n    </tr>\n    <tr>\n      <th>20</th>\n      <td>0.292</td>\n      <td>(Bread, Cheese, Eggs)</td>\n    </tr>\n    <tr>\n      <th>21</th>\n      <td>0.267</td>\n      <td>(Bread, Cheese, Milk)</td>\n    </tr>\n    <tr>\n      <th>22</th>\n      <td>0.279</td>\n      <td>(Eggs, Cheese, Milk)</td>\n    </tr>\n    <tr>\n      <th>23</th>\n      <td>0.331</td>\n      <td>(Bread, Eggs, Milk)</td>\n    </tr>\n    <tr>\n      <th>24</th>\n      <td>0.204</td>\n      <td>(Bread, Milk, Yogurt)</td>\n    </tr>\n    <tr>\n      <th>25</th>\n      <td>0.203</td>\n      <td>(Eggs, Milk, Yogurt)</td>\n    </tr>\n  </tbody>\n</table>\n</div>"
     },
     "execution_count": 12,
     "metadata": {},
     "output_type": "execute_result"
    }
   ],
   "source": [
    "freq_items = apriori(df_baskets_2, min_support=0.2, use_colnames=True, verbose=1)\n",
    "freq_items"
   ],
   "metadata": {
    "collapsed": false,
    "pycharm": {
     "name": "#%%\n"
    }
   }
  },
  {
   "cell_type": "code",
   "execution_count": 13,
   "outputs": [
    {
     "data": {
      "text/plain": "        antecedents consequents  antecedent support  consequent support  \\\n0          (Cheese)     (Bread)               0.621               0.725   \n1          (Cheese)      (Eggs)               0.621               0.748   \n2          (Cheese)      (Milk)               0.621               0.715   \n3           (Bread)      (Eggs)               0.725               0.748   \n4            (Eggs)     (Bread)               0.748               0.725   \n5          (Butter)     (Bread)               0.440               0.725   \n6           (Bread)      (Milk)               0.725               0.715   \n7            (Milk)     (Bread)               0.715               0.725   \n8          (Yogurt)     (Bread)               0.466               0.725   \n9          (Butter)      (Eggs)               0.440               0.748   \n10           (Eggs)      (Milk)               0.748               0.715   \n11           (Milk)      (Eggs)               0.715               0.748   \n12         (Yogurt)      (Eggs)               0.466               0.748   \n13         (Butter)      (Milk)               0.440               0.715   \n14         (Yogurt)      (Milk)               0.466               0.715   \n15  (Bread, Cheese)      (Eggs)               0.424               0.748   \n16   (Eggs, Cheese)     (Bread)               0.445               0.725   \n17  (Bread, Cheese)      (Milk)               0.424               0.715   \n18   (Cheese, Milk)     (Bread)               0.423               0.725   \n19   (Eggs, Cheese)      (Milk)               0.445               0.715   \n20   (Cheese, Milk)      (Eggs)               0.423               0.748   \n21    (Bread, Eggs)      (Milk)               0.528               0.715   \n22    (Bread, Milk)      (Eggs)               0.491               0.748   \n23     (Eggs, Milk)     (Bread)               0.503               0.725   \n24  (Bread, Yogurt)      (Milk)               0.310               0.715   \n25   (Milk, Yogurt)     (Bread)               0.327               0.725   \n26   (Eggs, Yogurt)      (Milk)               0.316               0.715   \n27   (Milk, Yogurt)      (Eggs)               0.327               0.748   \n\n    support  confidence      lift  leverage  conviction  \n0     0.424    0.682770  0.941751 -0.026225    0.866878  \n1     0.445    0.716586  0.958003 -0.019508    0.889159  \n2     0.423    0.681159  0.952671 -0.021015    0.893864  \n3     0.528    0.728276  0.973631 -0.014300    0.927411  \n4     0.528    0.705882  0.973631 -0.014300    0.935000  \n5     0.298    0.677273  0.934169 -0.021000    0.852113  \n6     0.491    0.677241  0.947191 -0.027375    0.883013  \n7     0.491    0.686713  0.947191 -0.027375    0.877790  \n8     0.310    0.665236  0.917567 -0.027850    0.821474  \n9     0.308    0.700000  0.935829 -0.021120    0.840000  \n10    0.503    0.672460  0.940503 -0.031820    0.870122  \n11    0.503    0.703497  0.940503 -0.031820    0.849906  \n12    0.316    0.678112  0.906566 -0.032568    0.782880  \n13    0.295    0.670455  0.937699 -0.019600    0.864828  \n14    0.327    0.701717  0.981422 -0.006190    0.955468  \n15    0.292    0.688679  0.920694 -0.025152    0.809455  \n16    0.292    0.656180  0.905076 -0.030625    0.799837  \n17    0.267    0.629717  0.880723 -0.036160    0.769682  \n18    0.267    0.631206  0.870629 -0.039675    0.745673  \n19    0.279    0.626966  0.876876 -0.039175    0.764006  \n20    0.279    0.659574  0.881784 -0.037404    0.740250  \n21    0.331    0.626894  0.876775 -0.046520    0.763858  \n22    0.331    0.674134  0.901249 -0.036268    0.773325  \n23    0.331    0.658052  0.907658 -0.033675    0.804215  \n24    0.204    0.658065  0.920370 -0.017650    0.833491  \n25    0.204    0.623853  0.860487 -0.033075    0.731098  \n26    0.203    0.642405  0.898469 -0.022940    0.796991  \n27    0.203    0.620795  0.829940 -0.041596    0.664548  ",
      "text/html": "<div>\n<style scoped>\n    .dataframe tbody tr th:only-of-type {\n        vertical-align: middle;\n    }\n\n    .dataframe tbody tr th {\n        vertical-align: top;\n    }\n\n    .dataframe thead th {\n        text-align: right;\n    }\n</style>\n<table border=\"1\" class=\"dataframe\">\n  <thead>\n    <tr style=\"text-align: right;\">\n      <th></th>\n      <th>antecedents</th>\n      <th>consequents</th>\n      <th>antecedent support</th>\n      <th>consequent support</th>\n      <th>support</th>\n      <th>confidence</th>\n      <th>lift</th>\n      <th>leverage</th>\n      <th>conviction</th>\n    </tr>\n  </thead>\n  <tbody>\n    <tr>\n      <th>0</th>\n      <td>(Cheese)</td>\n      <td>(Bread)</td>\n      <td>0.621</td>\n      <td>0.725</td>\n      <td>0.424</td>\n      <td>0.682770</td>\n      <td>0.941751</td>\n      <td>-0.026225</td>\n      <td>0.866878</td>\n    </tr>\n    <tr>\n      <th>1</th>\n      <td>(Cheese)</td>\n      <td>(Eggs)</td>\n      <td>0.621</td>\n      <td>0.748</td>\n      <td>0.445</td>\n      <td>0.716586</td>\n      <td>0.958003</td>\n      <td>-0.019508</td>\n      <td>0.889159</td>\n    </tr>\n    <tr>\n      <th>2</th>\n      <td>(Cheese)</td>\n      <td>(Milk)</td>\n      <td>0.621</td>\n      <td>0.715</td>\n      <td>0.423</td>\n      <td>0.681159</td>\n      <td>0.952671</td>\n      <td>-0.021015</td>\n      <td>0.893864</td>\n    </tr>\n    <tr>\n      <th>3</th>\n      <td>(Bread)</td>\n      <td>(Eggs)</td>\n      <td>0.725</td>\n      <td>0.748</td>\n      <td>0.528</td>\n      <td>0.728276</td>\n      <td>0.973631</td>\n      <td>-0.014300</td>\n      <td>0.927411</td>\n    </tr>\n    <tr>\n      <th>4</th>\n      <td>(Eggs)</td>\n      <td>(Bread)</td>\n      <td>0.748</td>\n      <td>0.725</td>\n      <td>0.528</td>\n      <td>0.705882</td>\n      <td>0.973631</td>\n      <td>-0.014300</td>\n      <td>0.935000</td>\n    </tr>\n    <tr>\n      <th>5</th>\n      <td>(Butter)</td>\n      <td>(Bread)</td>\n      <td>0.440</td>\n      <td>0.725</td>\n      <td>0.298</td>\n      <td>0.677273</td>\n      <td>0.934169</td>\n      <td>-0.021000</td>\n      <td>0.852113</td>\n    </tr>\n    <tr>\n      <th>6</th>\n      <td>(Bread)</td>\n      <td>(Milk)</td>\n      <td>0.725</td>\n      <td>0.715</td>\n      <td>0.491</td>\n      <td>0.677241</td>\n      <td>0.947191</td>\n      <td>-0.027375</td>\n      <td>0.883013</td>\n    </tr>\n    <tr>\n      <th>7</th>\n      <td>(Milk)</td>\n      <td>(Bread)</td>\n      <td>0.715</td>\n      <td>0.725</td>\n      <td>0.491</td>\n      <td>0.686713</td>\n      <td>0.947191</td>\n      <td>-0.027375</td>\n      <td>0.877790</td>\n    </tr>\n    <tr>\n      <th>8</th>\n      <td>(Yogurt)</td>\n      <td>(Bread)</td>\n      <td>0.466</td>\n      <td>0.725</td>\n      <td>0.310</td>\n      <td>0.665236</td>\n      <td>0.917567</td>\n      <td>-0.027850</td>\n      <td>0.821474</td>\n    </tr>\n    <tr>\n      <th>9</th>\n      <td>(Butter)</td>\n      <td>(Eggs)</td>\n      <td>0.440</td>\n      <td>0.748</td>\n      <td>0.308</td>\n      <td>0.700000</td>\n      <td>0.935829</td>\n      <td>-0.021120</td>\n      <td>0.840000</td>\n    </tr>\n    <tr>\n      <th>10</th>\n      <td>(Eggs)</td>\n      <td>(Milk)</td>\n      <td>0.748</td>\n      <td>0.715</td>\n      <td>0.503</td>\n      <td>0.672460</td>\n      <td>0.940503</td>\n      <td>-0.031820</td>\n      <td>0.870122</td>\n    </tr>\n    <tr>\n      <th>11</th>\n      <td>(Milk)</td>\n      <td>(Eggs)</td>\n      <td>0.715</td>\n      <td>0.748</td>\n      <td>0.503</td>\n      <td>0.703497</td>\n      <td>0.940503</td>\n      <td>-0.031820</td>\n      <td>0.849906</td>\n    </tr>\n    <tr>\n      <th>12</th>\n      <td>(Yogurt)</td>\n      <td>(Eggs)</td>\n      <td>0.466</td>\n      <td>0.748</td>\n      <td>0.316</td>\n      <td>0.678112</td>\n      <td>0.906566</td>\n      <td>-0.032568</td>\n      <td>0.782880</td>\n    </tr>\n    <tr>\n      <th>13</th>\n      <td>(Butter)</td>\n      <td>(Milk)</td>\n      <td>0.440</td>\n      <td>0.715</td>\n      <td>0.295</td>\n      <td>0.670455</td>\n      <td>0.937699</td>\n      <td>-0.019600</td>\n      <td>0.864828</td>\n    </tr>\n    <tr>\n      <th>14</th>\n      <td>(Yogurt)</td>\n      <td>(Milk)</td>\n      <td>0.466</td>\n      <td>0.715</td>\n      <td>0.327</td>\n      <td>0.701717</td>\n      <td>0.981422</td>\n      <td>-0.006190</td>\n      <td>0.955468</td>\n    </tr>\n    <tr>\n      <th>15</th>\n      <td>(Bread, Cheese)</td>\n      <td>(Eggs)</td>\n      <td>0.424</td>\n      <td>0.748</td>\n      <td>0.292</td>\n      <td>0.688679</td>\n      <td>0.920694</td>\n      <td>-0.025152</td>\n      <td>0.809455</td>\n    </tr>\n    <tr>\n      <th>16</th>\n      <td>(Eggs, Cheese)</td>\n      <td>(Bread)</td>\n      <td>0.445</td>\n      <td>0.725</td>\n      <td>0.292</td>\n      <td>0.656180</td>\n      <td>0.905076</td>\n      <td>-0.030625</td>\n      <td>0.799837</td>\n    </tr>\n    <tr>\n      <th>17</th>\n      <td>(Bread, Cheese)</td>\n      <td>(Milk)</td>\n      <td>0.424</td>\n      <td>0.715</td>\n      <td>0.267</td>\n      <td>0.629717</td>\n      <td>0.880723</td>\n      <td>-0.036160</td>\n      <td>0.769682</td>\n    </tr>\n    <tr>\n      <th>18</th>\n      <td>(Cheese, Milk)</td>\n      <td>(Bread)</td>\n      <td>0.423</td>\n      <td>0.725</td>\n      <td>0.267</td>\n      <td>0.631206</td>\n      <td>0.870629</td>\n      <td>-0.039675</td>\n      <td>0.745673</td>\n    </tr>\n    <tr>\n      <th>19</th>\n      <td>(Eggs, Cheese)</td>\n      <td>(Milk)</td>\n      <td>0.445</td>\n      <td>0.715</td>\n      <td>0.279</td>\n      <td>0.626966</td>\n      <td>0.876876</td>\n      <td>-0.039175</td>\n      <td>0.764006</td>\n    </tr>\n    <tr>\n      <th>20</th>\n      <td>(Cheese, Milk)</td>\n      <td>(Eggs)</td>\n      <td>0.423</td>\n      <td>0.748</td>\n      <td>0.279</td>\n      <td>0.659574</td>\n      <td>0.881784</td>\n      <td>-0.037404</td>\n      <td>0.740250</td>\n    </tr>\n    <tr>\n      <th>21</th>\n      <td>(Bread, Eggs)</td>\n      <td>(Milk)</td>\n      <td>0.528</td>\n      <td>0.715</td>\n      <td>0.331</td>\n      <td>0.626894</td>\n      <td>0.876775</td>\n      <td>-0.046520</td>\n      <td>0.763858</td>\n    </tr>\n    <tr>\n      <th>22</th>\n      <td>(Bread, Milk)</td>\n      <td>(Eggs)</td>\n      <td>0.491</td>\n      <td>0.748</td>\n      <td>0.331</td>\n      <td>0.674134</td>\n      <td>0.901249</td>\n      <td>-0.036268</td>\n      <td>0.773325</td>\n    </tr>\n    <tr>\n      <th>23</th>\n      <td>(Eggs, Milk)</td>\n      <td>(Bread)</td>\n      <td>0.503</td>\n      <td>0.725</td>\n      <td>0.331</td>\n      <td>0.658052</td>\n      <td>0.907658</td>\n      <td>-0.033675</td>\n      <td>0.804215</td>\n    </tr>\n    <tr>\n      <th>24</th>\n      <td>(Bread, Yogurt)</td>\n      <td>(Milk)</td>\n      <td>0.310</td>\n      <td>0.715</td>\n      <td>0.204</td>\n      <td>0.658065</td>\n      <td>0.920370</td>\n      <td>-0.017650</td>\n      <td>0.833491</td>\n    </tr>\n    <tr>\n      <th>25</th>\n      <td>(Milk, Yogurt)</td>\n      <td>(Bread)</td>\n      <td>0.327</td>\n      <td>0.725</td>\n      <td>0.204</td>\n      <td>0.623853</td>\n      <td>0.860487</td>\n      <td>-0.033075</td>\n      <td>0.731098</td>\n    </tr>\n    <tr>\n      <th>26</th>\n      <td>(Eggs, Yogurt)</td>\n      <td>(Milk)</td>\n      <td>0.316</td>\n      <td>0.715</td>\n      <td>0.203</td>\n      <td>0.642405</td>\n      <td>0.898469</td>\n      <td>-0.022940</td>\n      <td>0.796991</td>\n    </tr>\n    <tr>\n      <th>27</th>\n      <td>(Milk, Yogurt)</td>\n      <td>(Eggs)</td>\n      <td>0.327</td>\n      <td>0.748</td>\n      <td>0.203</td>\n      <td>0.620795</td>\n      <td>0.829940</td>\n      <td>-0.041596</td>\n      <td>0.664548</td>\n    </tr>\n  </tbody>\n</table>\n</div>"
     },
     "execution_count": 13,
     "metadata": {},
     "output_type": "execute_result"
    }
   ],
   "source": [
    "rules = association_rules(freq_items, metric='confidence', min_threshold=0.6)\n",
    "rules"
   ],
   "metadata": {
    "collapsed": false,
    "pycharm": {
     "name": "#%%\n"
    }
   }
  },
  {
   "cell_type": "markdown",
   "source": [
    "# 3. Visualizing the results"
   ],
   "metadata": {
    "collapsed": false,
    "pycharm": {
     "name": "#%% md\n"
    }
   }
  },
  {
   "cell_type": "code",
   "execution_count": 14,
   "outputs": [
    {
     "data": {
      "text/plain": "<Figure size 432x288 with 1 Axes>",
      "image/png": "[encoded data removed]"
     },
     "metadata": {
      "needs_background": "light"
     },
     "output_type": "display_data"
    }
   ],
   "source": [
    "plt.scatter(rules['support'], rules['confidence'])\n",
    "plt.xlabel('support')\n",
    "plt.ylabel('confidence')\n",
    "plt.title('Support vs Confidence')\n",
    "plt.show()"
   ],
   "metadata": {
    "collapsed": false,
    "pycharm": {
     "name": "#%%\n"
    }
   }
  },
  {
   "cell_type": "code",
   "execution_count": 15,
   "outputs": [
    {
     "data": {
      "text/plain": "<Figure size 432x288 with 1 Axes>",
      "image/png": "[encoded data removed]"
     },
     "metadata": {
      "needs_background": "light"
     },
     "output_type": "display_data"
    }
   ],
   "source": [
    "plt.scatter(rules['support'], rules['lift'])\n",
    "plt.xlabel('support')\n",
    "plt.ylabel('lift')\n",
    "plt.title('Support vs Lift')\n",
    "plt.show()"
   ],
   "metadata": {
    "collapsed": false,
    "pycharm": {
     "name": "#%%\n"
    }
   }
  },
  {
   "cell_type": "code",
   "execution_count": 16,
   "outputs": [
    {
     "data": {
      "text/plain": "<Figure size 432x288 with 1 Axes>",
      "image/png": "[encoded data removed]"
     },
     "metadata": {
      "needs_background": "light"
     },
     "output_type": "display_data"
    }
   ],
   "source": [
    "# fit a line\n",
    "fit = np.polyfit(rules['lift'], rules['confidence'], 1)\n",
    "f = np.poly1d(fit)\n",
    "\n",
    "plt.scatter(rules['lift'], rules['confidence'])\n",
    "plt.plot(rules['lift'], f(rules['lift']), color='red')\n",
    "plt.xlabel('lift')\n",
    "plt.ylabel('confidence')\n",
    "plt.title('Lift vs Confidence')\n",
    "plt.show()"
   ],
   "metadata": {
    "collapsed": false,
    "pycharm": {
     "name": "#%%\n"
    }
   }
  },
  {
   "cell_type": "markdown",
   "source": [
    "# 3. Exercise"
   ],
   "metadata": {
    "collapsed": false,
    "pycharm": {
     "name": "#%% md\n"
    }
   }
  },
  {
   "cell_type": "markdown",
   "source": [
    "# 1) Download the dataset from [here](https://github.com/wadieskaf/ELTE_ITDS_Labs/blob/master/Datasets/groceries_baskets_datasets.csv)\n",
    "# 2) Load and clean the dataset\n",
    "# 3) Process the dataset\n",
    "# 4) Get the frequent itemsets\n",
    "# 5) Get the association rules\n",
    "# 6) Visualize the results"
   ],
   "metadata": {
    "collapsed": false,
    "pycharm": {
     "name": "#%% md\n"
    }
   }
  }
 ],
 "metadata": {
  "kernelspec": {
   "display_name": "Python 3",
   "language": "python",
   "name": "python3"
  },
  "language_info": {
   "codemirror_mode": {
    "name": "ipython",
    "version": 2
   },
   "file_extension": ".py",
   "mimetype": "text/x-python",
   "name": "python",
   "nbconvert_exporter": "python",
   "pygments_lexer": "ipython2",
   "version": "2.7.6"
  }
 },
 "nbformat": 4,
 "nbformat_minor": 0
}