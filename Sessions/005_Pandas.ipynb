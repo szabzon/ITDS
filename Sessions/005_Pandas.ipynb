{
 "cells": [
  {
   "cell_type": "markdown",
   "metadata": {
    "pycharm": {
     "name": "#%% md\n"
    }
   },
   "source": [
    "# Pandas"
   ]
  },
  {
   "cell_type": "markdown",
   "metadata": {
    "pycharm": {
     "name": "#%% md\n"
    }
   },
   "source": [
    "# 1. Import"
   ]
  },
  {
   "cell_type": "code",
   "execution_count": 1,
   "metadata": {
    "pycharm": {
     "name": "#%%\n"
    }
   },
   "outputs": [],
   "source": [
    "import pandas as pd"
   ]
  },
  {
   "cell_type": "code",
   "execution_count": 2,
   "metadata": {
    "pycharm": {
     "name": "#%%\n"
    }
   },
   "outputs": [],
   "source": [
    "# We will need NumPy for some exercises\n",
    "import numpy as np"
   ]
  },
  {
   "cell_type": "markdown",
   "metadata": {
    "pycharm": {
     "name": "#%% md\n"
    }
   },
   "source": [
    "# 2. Pandas Series"
   ]
  },
  {
   "cell_type": "markdown",
   "metadata": {
    "pycharm": {
     "name": "#%% md\n"
    }
   },
   "source": [
    "## 2.1 Create a Series"
   ]
  },
  {
   "cell_type": "markdown",
   "metadata": {
    "pycharm": {
     "name": "#%% md\n"
    }
   },
   "source": [
    "### 2.1.1 Create a Series from a list"
   ]
  },
  {
   "cell_type": "code",
   "execution_count": 3,
   "metadata": {
    "pycharm": {
     "name": "#%%\n"
    }
   },
   "outputs": [],
   "source": [
    "mylist = [1, 2, 3]"
   ]
  },
  {
   "cell_type": "code",
   "execution_count": 4,
   "metadata": {
    "pycharm": {
     "name": "#%%\n"
    }
   },
   "outputs": [],
   "source": [
    "labels = ['a', 'b', 'c']"
   ]
  },
  {
   "cell_type": "code",
   "execution_count": 5,
   "metadata": {
    "pycharm": {
     "name": "#%%\n"
    }
   },
   "outputs": [
    {
     "data": {
      "text/plain": "0    1\n1    2\n2    3\ndtype: int64"
     },
     "execution_count": 5,
     "metadata": {},
     "output_type": "execute_result"
    }
   ],
   "source": [
    "s = pd.Series(data=mylist)\n",
    "s"
   ]
  },
  {
   "cell_type": "code",
   "execution_count": 6,
   "metadata": {
    "pycharm": {
     "name": "#%%\n"
    }
   },
   "outputs": [
    {
     "data": {
      "text/plain": "a    1\nb    2\nc    3\ndtype: int64"
     },
     "execution_count": 6,
     "metadata": {},
     "output_type": "execute_result"
    }
   ],
   "source": [
    "s = pd.Series(data=mylist, index=labels)\n",
    "s"
   ]
  },
  {
   "cell_type": "markdown",
   "metadata": {
    "pycharm": {
     "name": "#%% md\n"
    }
   },
   "source": [
    "### 2.1.2 Create a Series from a dictionary"
   ]
  },
  {
   "cell_type": "code",
   "execution_count": 7,
   "metadata": {
    "pycharm": {
     "name": "#%%\n"
    }
   },
   "outputs": [],
   "source": [
    "d = {'a': 10, 'b': 20, 'c': 30}"
   ]
  },
  {
   "cell_type": "code",
   "execution_count": 8,
   "metadata": {
    "pycharm": {
     "name": "#%%\n"
    }
   },
   "outputs": [
    {
     "data": {
      "text/plain": "a    10\nb    20\nc    30\ndtype: int64"
     },
     "execution_count": 8,
     "metadata": {},
     "output_type": "execute_result"
    }
   ],
   "source": [
    "s = pd.Series(d)\n",
    "s"
   ]
  },
  {
   "cell_type": "markdown",
   "metadata": {
    "pycharm": {
     "name": "#%% md\n"
    }
   },
   "source": [
    "## 2.2 Accessing data from a Series with index"
   ]
  },
  {
   "cell_type": "code",
   "execution_count": 9,
   "outputs": [
    {
     "data": {
      "text/plain": "10"
     },
     "execution_count": 9,
     "metadata": {},
     "output_type": "execute_result"
    }
   ],
   "source": [
    "s[0]"
   ],
   "metadata": {
    "collapsed": false,
    "pycharm": {
     "name": "#%%\n"
    }
   }
  },
  {
   "cell_type": "markdown",
   "source": [
    "## 2.3 Accessing data from a Series with label"
   ],
   "metadata": {
    "collapsed": false,
    "pycharm": {
     "name": "#%% md\n"
    }
   }
  },
  {
   "cell_type": "code",
   "execution_count": 10,
   "metadata": {
    "pycharm": {
     "name": "#%%\n"
    }
   },
   "outputs": [
    {
     "data": {
      "text/plain": "10"
     },
     "execution_count": 10,
     "metadata": {},
     "output_type": "execute_result"
    }
   ],
   "source": [
    "s['a']"
   ]
  },
  {
   "cell_type": "markdown",
   "metadata": {
    "pycharm": {
     "name": "#%% md\n"
    }
   },
   "source": [
    "# 3. Pandas DataFrame"
   ]
  },
  {
   "cell_type": "markdown",
   "metadata": {
    "pycharm": {
     "name": "#%% md\n"
    }
   },
   "source": [
    "## 3.1 Create a DataFrame"
   ]
  },
  {
   "cell_type": "markdown",
   "metadata": {
    "pycharm": {
     "name": "#%% md\n"
    }
   },
   "source": [
    "### 3.1.1 Create a DataFrame from a dictionary"
   ]
  },
  {
   "cell_type": "code",
   "execution_count": 11,
   "metadata": {
    "pycharm": {
     "name": "#%%\n"
    }
   },
   "outputs": [],
   "source": [
    "mydict = {\n",
    "    0: {\n",
    "        'name': 'Wadie',\n",
    "        'age': 28,\n",
    "        'position': 'PhD Student',\n",
    "        'university': 'Eötvös Loránd University',\n",
    "        'start_year': 2021\n",
    "    },\n",
    "    1: {\n",
    "        'name': 'John',\n",
    "        'age': 30,\n",
    "        'position': 'Data Scientist',\n",
    "        'university': 'Eötvös Loránd University',\n",
    "        'start_year': 2019\n",
    "    },\n",
    "    2: {\n",
    "        'name': 'Jane',\n",
    "        'age': 25,\n",
    "        'position': 'Assistant Professor',\n",
    "        'university': 'University of Szeged',\n",
    "        'start_year': 2020\n",
    "    }\n",
    "}"
   ]
  },
  {
   "cell_type": "code",
   "execution_count": 12,
   "metadata": {
    "pycharm": {
     "name": "#%%\n"
    }
   },
   "outputs": [
    {
     "data": {
      "text/plain": "                                   0                         1  \\\nname                           Wadie                      John   \nage                               28                        30   \nposition                 PhD Student            Data Scientist   \nuniversity  Eötvös Loránd University  Eötvös Loránd University   \nstart_year                      2021                      2019   \n\n                               2  \nname                        Jane  \nage                           25  \nposition     Assistant Professor  \nuniversity  University of Szeged  \nstart_year                  2020  ",
      "text/html": "<div>\n<style scoped>\n    .dataframe tbody tr th:only-of-type {\n        vertical-align: middle;\n    }\n\n    .dataframe tbody tr th {\n        vertical-align: top;\n    }\n\n    .dataframe thead th {\n        text-align: right;\n    }\n</style>\n<table border=\"1\" class=\"dataframe\">\n  <thead>\n    <tr style=\"text-align: right;\">\n      <th></th>\n      <th>0</th>\n      <th>1</th>\n      <th>2</th>\n    </tr>\n  </thead>\n  <tbody>\n    <tr>\n      <th>name</th>\n      <td>Wadie</td>\n      <td>John</td>\n      <td>Jane</td>\n    </tr>\n    <tr>\n      <th>age</th>\n      <td>28</td>\n      <td>30</td>\n      <td>25</td>\n    </tr>\n    <tr>\n      <th>position</th>\n      <td>PhD Student</td>\n      <td>Data Scientist</td>\n      <td>Assistant Professor</td>\n    </tr>\n    <tr>\n      <th>university</th>\n      <td>Eötvös Loránd University</td>\n      <td>Eötvös Loránd University</td>\n      <td>University of Szeged</td>\n    </tr>\n    <tr>\n      <th>start_year</th>\n      <td>2021</td>\n      <td>2019</td>\n      <td>2020</td>\n    </tr>\n  </tbody>\n</table>\n</div>"
     },
     "execution_count": 12,
     "metadata": {},
     "output_type": "execute_result"
    }
   ],
   "source": [
    "df = pd.DataFrame(mydict)\n",
    "df"
   ]
  },
  {
   "cell_type": "code",
   "execution_count": 13,
   "metadata": {
    "pycharm": {
     "name": "#%%\n"
    }
   },
   "outputs": [
    {
     "data": {
      "text/plain": "    name  age             position                university  start_year\n0  Wadie   28          PhD Student  Eötvös Loránd University        2021\n1   John   30       Data Scientist  Eötvös Loránd University        2019\n2   Jane   25  Assistant Professor      University of Szeged        2020",
      "text/html": "<div>\n<style scoped>\n    .dataframe tbody tr th:only-of-type {\n        vertical-align: middle;\n    }\n\n    .dataframe tbody tr th {\n        vertical-align: top;\n    }\n\n    .dataframe thead th {\n        text-align: right;\n    }\n</style>\n<table border=\"1\" class=\"dataframe\">\n  <thead>\n    <tr style=\"text-align: right;\">\n      <th></th>\n      <th>name</th>\n      <th>age</th>\n      <th>position</th>\n      <th>university</th>\n      <th>start_year</th>\n    </tr>\n  </thead>\n  <tbody>\n    <tr>\n      <th>0</th>\n      <td>Wadie</td>\n      <td>28</td>\n      <td>PhD Student</td>\n      <td>Eötvös Loránd University</td>\n      <td>2021</td>\n    </tr>\n    <tr>\n      <th>1</th>\n      <td>John</td>\n      <td>30</td>\n      <td>Data Scientist</td>\n      <td>Eötvös Loránd University</td>\n      <td>2019</td>\n    </tr>\n    <tr>\n      <th>2</th>\n      <td>Jane</td>\n      <td>25</td>\n      <td>Assistant Professor</td>\n      <td>University of Szeged</td>\n      <td>2020</td>\n    </tr>\n  </tbody>\n</table>\n</div>"
     },
     "execution_count": 13,
     "metadata": {},
     "output_type": "execute_result"
    }
   ],
   "source": [
    "df = pd.DataFrame.from_dict(mydict, orient='index')\n",
    "df"
   ]
  },
  {
   "cell_type": "markdown",
   "metadata": {
    "pycharm": {
     "name": "#%% md\n"
    }
   },
   "source": [
    "### 3.1.2 Create a DataFrame from a Matrix"
   ]
  },
  {
   "cell_type": "code",
   "execution_count": 14,
   "metadata": {
    "pycharm": {
     "name": "#%%\n"
    }
   },
   "outputs": [
    {
     "data": {
      "text/plain": "array([[-0.62322794, -1.25186134,  0.5395114 ,  1.47165734, -0.50853869,\n         1.26674787],\n       [-0.38172844,  0.0023127 , -0.60478541,  0.66128025,  0.49102873,\n         0.4689521 ],\n       [ 0.49154853, -0.43874841,  0.0269443 ,  0.55955513, -0.57977351,\n        -0.2643289 ],\n       [-0.98891263,  1.01947041,  0.53058676, -0.18708289,  0.80456128,\n        -1.05580246],\n       [ 0.75600894, -1.03266621,  1.02500615, -1.83034244, -1.94530536,\n         1.22537285],\n       [ 1.34885488,  0.4180047 ,  0.57663206, -2.13558292, -1.90535158,\n        -0.8644411 ],\n       [-0.62701099, -0.77258187, -0.37643097,  0.40134809, -0.69680367,\n        -0.16243846],\n       [ 1.61536622,  1.70202555, -0.2845477 , -0.36742406,  0.38035288,\n         0.81466364],\n       [-0.26385251,  0.80069936, -0.54303595,  0.11377419,  1.59692325,\n        -0.97213558],\n       [-0.38879511,  0.80316799, -0.33837565, -0.62301988, -1.67516942,\n         0.1370955 ]])"
     },
     "execution_count": 14,
     "metadata": {},
     "output_type": "execute_result"
    }
   ],
   "source": [
    "myarray = np.random.randn(10 ,6)\n",
    "myarray"
   ]
  },
  {
   "cell_type": "code",
   "execution_count": 15,
   "metadata": {
    "pycharm": {
     "name": "#%%\n"
    }
   },
   "outputs": [
    {
     "data": {
      "text/plain": "          A         B         C         D         E         F\n0 -0.623228 -1.251861  0.539511  1.471657 -0.508539  1.266748\n1 -0.381728  0.002313 -0.604785  0.661280  0.491029  0.468952\n2  0.491549 -0.438748  0.026944  0.559555 -0.579774 -0.264329\n3 -0.988913  1.019470  0.530587 -0.187083  0.804561 -1.055802\n4  0.756009 -1.032666  1.025006 -1.830342 -1.945305  1.225373\n5  1.348855  0.418005  0.576632 -2.135583 -1.905352 -0.864441\n6 -0.627011 -0.772582 -0.376431  0.401348 -0.696804 -0.162438\n7  1.615366  1.702026 -0.284548 -0.367424  0.380353  0.814664\n8 -0.263853  0.800699 -0.543036  0.113774  1.596923 -0.972136\n9 -0.388795  0.803168 -0.338376 -0.623020 -1.675169  0.137095",
      "text/html": "<div>\n<style scoped>\n    .dataframe tbody tr th:only-of-type {\n        vertical-align: middle;\n    }\n\n    .dataframe tbody tr th {\n        vertical-align: top;\n    }\n\n    .dataframe thead th {\n        text-align: right;\n    }\n</style>\n<table border=\"1\" class=\"dataframe\">\n  <thead>\n    <tr style=\"text-align: right;\">\n      <th></th>\n      <th>A</th>\n      <th>B</th>\n      <th>C</th>\n      <th>D</th>\n      <th>E</th>\n      <th>F</th>\n    </tr>\n  </thead>\n  <tbody>\n    <tr>\n      <th>0</th>\n      <td>-0.623228</td>\n      <td>-1.251861</td>\n      <td>0.539511</td>\n      <td>1.471657</td>\n      <td>-0.508539</td>\n      <td>1.266748</td>\n    </tr>\n    <tr>\n      <th>1</th>\n      <td>-0.381728</td>\n      <td>0.002313</td>\n      <td>-0.604785</td>\n      <td>0.661280</td>\n      <td>0.491029</td>\n      <td>0.468952</td>\n    </tr>\n    <tr>\n      <th>2</th>\n      <td>0.491549</td>\n      <td>-0.438748</td>\n      <td>0.026944</td>\n      <td>0.559555</td>\n      <td>-0.579774</td>\n      <td>-0.264329</td>\n    </tr>\n    <tr>\n      <th>3</th>\n      <td>-0.988913</td>\n      <td>1.019470</td>\n      <td>0.530587</td>\n      <td>-0.187083</td>\n      <td>0.804561</td>\n      <td>-1.055802</td>\n    </tr>\n    <tr>\n      <th>4</th>\n      <td>0.756009</td>\n      <td>-1.032666</td>\n      <td>1.025006</td>\n      <td>-1.830342</td>\n      <td>-1.945305</td>\n      <td>1.225373</td>\n    </tr>\n    <tr>\n      <th>5</th>\n      <td>1.348855</td>\n      <td>0.418005</td>\n      <td>0.576632</td>\n      <td>-2.135583</td>\n      <td>-1.905352</td>\n      <td>-0.864441</td>\n    </tr>\n    <tr>\n      <th>6</th>\n      <td>-0.627011</td>\n      <td>-0.772582</td>\n      <td>-0.376431</td>\n      <td>0.401348</td>\n      <td>-0.696804</td>\n      <td>-0.162438</td>\n    </tr>\n    <tr>\n      <th>7</th>\n      <td>1.615366</td>\n      <td>1.702026</td>\n      <td>-0.284548</td>\n      <td>-0.367424</td>\n      <td>0.380353</td>\n      <td>0.814664</td>\n    </tr>\n    <tr>\n      <th>8</th>\n      <td>-0.263853</td>\n      <td>0.800699</td>\n      <td>-0.543036</td>\n      <td>0.113774</td>\n      <td>1.596923</td>\n      <td>-0.972136</td>\n    </tr>\n    <tr>\n      <th>9</th>\n      <td>-0.388795</td>\n      <td>0.803168</td>\n      <td>-0.338376</td>\n      <td>-0.623020</td>\n      <td>-1.675169</td>\n      <td>0.137095</td>\n    </tr>\n  </tbody>\n</table>\n</div>"
     },
     "execution_count": 15,
     "metadata": {},
     "output_type": "execute_result"
    }
   ],
   "source": [
    "df = pd.DataFrame(myarray, columns=['A', 'B', 'C', 'D', 'E', 'F'])\n",
    "df"
   ]
  },
  {
   "cell_type": "markdown",
   "metadata": {
    "pycharm": {
     "name": "#%% md\n"
    }
   },
   "source": [
    "## 3.2 Describe a DataFrame"
   ]
  },
  {
   "cell_type": "code",
   "execution_count": 16,
   "metadata": {
    "pycharm": {
     "name": "#%%\n"
    }
   },
   "outputs": [
    {
     "data": {
      "text/plain": "               A          B          C          D          E          F\ncount  10.000000  10.000000  10.000000  10.000000  10.000000  10.000000\nmean    0.093825   0.124982   0.055151  -0.193584  -0.403808   0.059369\nstd     0.899380   0.981149   0.569977   1.114773   1.213521   0.874110\nmin    -0.988913  -1.251861  -0.604785  -2.135583  -1.945305  -1.055802\n25%    -0.564620  -0.689124  -0.366917  -0.559121  -1.430578  -0.714413\n50%    -0.322790   0.210159  -0.128802  -0.036654  -0.544156  -0.012671\n75%     0.689894   0.802551   0.537280   0.520003   0.463360   0.728236\nmax     1.615366   1.702026   1.025006   1.471657   1.596923   1.266748",
      "text/html": "<div>\n<style scoped>\n    .dataframe tbody tr th:only-of-type {\n        vertical-align: middle;\n    }\n\n    .dataframe tbody tr th {\n        vertical-align: top;\n    }\n\n    .dataframe thead th {\n        text-align: right;\n    }\n</style>\n<table border=\"1\" class=\"dataframe\">\n  <thead>\n    <tr style=\"text-align: right;\">\n      <th></th>\n      <th>A</th>\n      <th>B</th>\n      <th>C</th>\n      <th>D</th>\n      <th>E</th>\n      <th>F</th>\n    </tr>\n  </thead>\n  <tbody>\n    <tr>\n      <th>count</th>\n      <td>10.000000</td>\n      <td>10.000000</td>\n      <td>10.000000</td>\n      <td>10.000000</td>\n      <td>10.000000</td>\n      <td>10.000000</td>\n    </tr>\n    <tr>\n      <th>mean</th>\n      <td>0.093825</td>\n      <td>0.124982</td>\n      <td>0.055151</td>\n      <td>-0.193584</td>\n      <td>-0.403808</td>\n      <td>0.059369</td>\n    </tr>\n    <tr>\n      <th>std</th>\n      <td>0.899380</td>\n      <td>0.981149</td>\n      <td>0.569977</td>\n      <td>1.114773</td>\n      <td>1.213521</td>\n      <td>0.874110</td>\n    </tr>\n    <tr>\n      <th>min</th>\n      <td>-0.988913</td>\n      <td>-1.251861</td>\n      <td>-0.604785</td>\n      <td>-2.135583</td>\n      <td>-1.945305</td>\n      <td>-1.055802</td>\n    </tr>\n    <tr>\n      <th>25%</th>\n      <td>-0.564620</td>\n      <td>-0.689124</td>\n      <td>-0.366917</td>\n      <td>-0.559121</td>\n      <td>-1.430578</td>\n      <td>-0.714413</td>\n    </tr>\n    <tr>\n      <th>50%</th>\n      <td>-0.322790</td>\n      <td>0.210159</td>\n      <td>-0.128802</td>\n      <td>-0.036654</td>\n      <td>-0.544156</td>\n      <td>-0.012671</td>\n    </tr>\n    <tr>\n      <th>75%</th>\n      <td>0.689894</td>\n      <td>0.802551</td>\n      <td>0.537280</td>\n      <td>0.520003</td>\n      <td>0.463360</td>\n      <td>0.728236</td>\n    </tr>\n    <tr>\n      <th>max</th>\n      <td>1.615366</td>\n      <td>1.702026</td>\n      <td>1.025006</td>\n      <td>1.471657</td>\n      <td>1.596923</td>\n      <td>1.266748</td>\n    </tr>\n  </tbody>\n</table>\n</div>"
     },
     "execution_count": 16,
     "metadata": {},
     "output_type": "execute_result"
    }
   ],
   "source": [
    "df.describe()"
   ]
  },
  {
   "cell_type": "code",
   "execution_count": 17,
   "outputs": [
    {
     "name": "stdout",
     "output_type": "stream",
     "text": [
      "<class 'pandas.core.frame.DataFrame'>\n",
      "RangeIndex: 10 entries, 0 to 9\n",
      "Data columns (total 6 columns):\n",
      " #   Column  Non-Null Count  Dtype  \n",
      "---  ------  --------------  -----  \n",
      " 0   A       10 non-null     float64\n",
      " 1   B       10 non-null     float64\n",
      " 2   C       10 non-null     float64\n",
      " 3   D       10 non-null     float64\n",
      " 4   E       10 non-null     float64\n",
      " 5   F       10 non-null     float64\n",
      "dtypes: float64(6)\n",
      "memory usage: 608.0 bytes\n"
     ]
    }
   ],
   "source": [
    "df.info()"
   ],
   "metadata": {
    "collapsed": false,
    "pycharm": {
     "name": "#%%\n"
    }
   }
  },
  {
   "cell_type": "code",
   "execution_count": 18,
   "outputs": [
    {
     "data": {
      "text/plain": "(10, 6)"
     },
     "execution_count": 18,
     "metadata": {},
     "output_type": "execute_result"
    }
   ],
   "source": [
    "df.shape"
   ],
   "metadata": {
    "collapsed": false,
    "pycharm": {
     "name": "#%%\n"
    }
   }
  },
  {
   "cell_type": "code",
   "execution_count": 19,
   "outputs": [
    {
     "data": {
      "text/plain": "Index(['A', 'B', 'C', 'D', 'E', 'F'], dtype='object')"
     },
     "execution_count": 19,
     "metadata": {},
     "output_type": "execute_result"
    }
   ],
   "source": [
    "df.columns"
   ],
   "metadata": {
    "collapsed": false,
    "pycharm": {
     "name": "#%%\n"
    }
   }
  },
  {
   "cell_type": "code",
   "execution_count": 20,
   "outputs": [
    {
     "data": {
      "text/plain": "RangeIndex(start=0, stop=10, step=1)"
     },
     "execution_count": 20,
     "metadata": {},
     "output_type": "execute_result"
    }
   ],
   "source": [
    "df.index"
   ],
   "metadata": {
    "collapsed": false,
    "pycharm": {
     "name": "#%%\n"
    }
   }
  },
  {
   "cell_type": "code",
   "execution_count": 21,
   "outputs": [
    {
     "data": {
      "text/plain": "A    float64\nB    float64\nC    float64\nD    float64\nE    float64\nF    float64\ndtype: object"
     },
     "execution_count": 21,
     "metadata": {},
     "output_type": "execute_result"
    }
   ],
   "source": [
    "df.dtypes"
   ],
   "metadata": {
    "collapsed": false,
    "pycharm": {
     "name": "#%%\n"
    }
   }
  },
  {
   "cell_type": "code",
   "execution_count": 22,
   "outputs": [
    {
     "data": {
      "text/plain": "          A         B         C         D         E         F\n0 -0.623228 -1.251861  0.539511  1.471657 -0.508539  1.266748\n1 -0.381728  0.002313 -0.604785  0.661280  0.491029  0.468952\n2  0.491549 -0.438748  0.026944  0.559555 -0.579774 -0.264329\n3 -0.988913  1.019470  0.530587 -0.187083  0.804561 -1.055802\n4  0.756009 -1.032666  1.025006 -1.830342 -1.945305  1.225373",
      "text/html": "<div>\n<style scoped>\n    .dataframe tbody tr th:only-of-type {\n        vertical-align: middle;\n    }\n\n    .dataframe tbody tr th {\n        vertical-align: top;\n    }\n\n    .dataframe thead th {\n        text-align: right;\n    }\n</style>\n<table border=\"1\" class=\"dataframe\">\n  <thead>\n    <tr style=\"text-align: right;\">\n      <th></th>\n      <th>A</th>\n      <th>B</th>\n      <th>C</th>\n      <th>D</th>\n      <th>E</th>\n      <th>F</th>\n    </tr>\n  </thead>\n  <tbody>\n    <tr>\n      <th>0</th>\n      <td>-0.623228</td>\n      <td>-1.251861</td>\n      <td>0.539511</td>\n      <td>1.471657</td>\n      <td>-0.508539</td>\n      <td>1.266748</td>\n    </tr>\n    <tr>\n      <th>1</th>\n      <td>-0.381728</td>\n      <td>0.002313</td>\n      <td>-0.604785</td>\n      <td>0.661280</td>\n      <td>0.491029</td>\n      <td>0.468952</td>\n    </tr>\n    <tr>\n      <th>2</th>\n      <td>0.491549</td>\n      <td>-0.438748</td>\n      <td>0.026944</td>\n      <td>0.559555</td>\n      <td>-0.579774</td>\n      <td>-0.264329</td>\n    </tr>\n    <tr>\n      <th>3</th>\n      <td>-0.988913</td>\n      <td>1.019470</td>\n      <td>0.530587</td>\n      <td>-0.187083</td>\n      <td>0.804561</td>\n      <td>-1.055802</td>\n    </tr>\n    <tr>\n      <th>4</th>\n      <td>0.756009</td>\n      <td>-1.032666</td>\n      <td>1.025006</td>\n      <td>-1.830342</td>\n      <td>-1.945305</td>\n      <td>1.225373</td>\n    </tr>\n  </tbody>\n</table>\n</div>"
     },
     "execution_count": 22,
     "metadata": {},
     "output_type": "execute_result"
    }
   ],
   "source": [
    "df.head()"
   ],
   "metadata": {
    "collapsed": false,
    "pycharm": {
     "name": "#%%\n"
    }
   }
  },
  {
   "cell_type": "code",
   "execution_count": 26,
   "outputs": [
    {
     "data": {
      "text/plain": "          A         B         C         D         E         F\n0 -0.623228 -1.251861  0.539511  1.471657 -0.508539  1.266748\n1 -0.381728  0.002313 -0.604785  0.661280  0.491029  0.468952\n2  0.491549 -0.438748  0.026944  0.559555 -0.579774 -0.264329",
      "text/html": "<div>\n<style scoped>\n    .dataframe tbody tr th:only-of-type {\n        vertical-align: middle;\n    }\n\n    .dataframe tbody tr th {\n        vertical-align: top;\n    }\n\n    .dataframe thead th {\n        text-align: right;\n    }\n</style>\n<table border=\"1\" class=\"dataframe\">\n  <thead>\n    <tr style=\"text-align: right;\">\n      <th></th>\n      <th>A</th>\n      <th>B</th>\n      <th>C</th>\n      <th>D</th>\n      <th>E</th>\n      <th>F</th>\n    </tr>\n  </thead>\n  <tbody>\n    <tr>\n      <th>0</th>\n      <td>-0.623228</td>\n      <td>-1.251861</td>\n      <td>0.539511</td>\n      <td>1.471657</td>\n      <td>-0.508539</td>\n      <td>1.266748</td>\n    </tr>\n    <tr>\n      <th>1</th>\n      <td>-0.381728</td>\n      <td>0.002313</td>\n      <td>-0.604785</td>\n      <td>0.661280</td>\n      <td>0.491029</td>\n      <td>0.468952</td>\n    </tr>\n    <tr>\n      <th>2</th>\n      <td>0.491549</td>\n      <td>-0.438748</td>\n      <td>0.026944</td>\n      <td>0.559555</td>\n      <td>-0.579774</td>\n      <td>-0.264329</td>\n    </tr>\n  </tbody>\n</table>\n</div>"
     },
     "execution_count": 26,
     "metadata": {},
     "output_type": "execute_result"
    }
   ],
   "source": [
    "df.head(3)"
   ],
   "metadata": {
    "collapsed": false,
    "pycharm": {
     "name": "#%%\n"
    }
   }
  },
  {
   "cell_type": "code",
   "execution_count": 23,
   "outputs": [
    {
     "data": {
      "text/plain": "          A         B         C         D         E         F\n5  1.348855  0.418005  0.576632 -2.135583 -1.905352 -0.864441\n6 -0.627011 -0.772582 -0.376431  0.401348 -0.696804 -0.162438\n7  1.615366  1.702026 -0.284548 -0.367424  0.380353  0.814664\n8 -0.263853  0.800699 -0.543036  0.113774  1.596923 -0.972136\n9 -0.388795  0.803168 -0.338376 -0.623020 -1.675169  0.137095",
      "text/html": "<div>\n<style scoped>\n    .dataframe tbody tr th:only-of-type {\n        vertical-align: middle;\n    }\n\n    .dataframe tbody tr th {\n        vertical-align: top;\n    }\n\n    .dataframe thead th {\n        text-align: right;\n    }\n</style>\n<table border=\"1\" class=\"dataframe\">\n  <thead>\n    <tr style=\"text-align: right;\">\n      <th></th>\n      <th>A</th>\n      <th>B</th>\n      <th>C</th>\n      <th>D</th>\n      <th>E</th>\n      <th>F</th>\n    </tr>\n  </thead>\n  <tbody>\n    <tr>\n      <th>5</th>\n      <td>1.348855</td>\n      <td>0.418005</td>\n      <td>0.576632</td>\n      <td>-2.135583</td>\n      <td>-1.905352</td>\n      <td>-0.864441</td>\n    </tr>\n    <tr>\n      <th>6</th>\n      <td>-0.627011</td>\n      <td>-0.772582</td>\n      <td>-0.376431</td>\n      <td>0.401348</td>\n      <td>-0.696804</td>\n      <td>-0.162438</td>\n    </tr>\n    <tr>\n      <th>7</th>\n      <td>1.615366</td>\n      <td>1.702026</td>\n      <td>-0.284548</td>\n      <td>-0.367424</td>\n      <td>0.380353</td>\n      <td>0.814664</td>\n    </tr>\n    <tr>\n      <th>8</th>\n      <td>-0.263853</td>\n      <td>0.800699</td>\n      <td>-0.543036</td>\n      <td>0.113774</td>\n      <td>1.596923</td>\n      <td>-0.972136</td>\n    </tr>\n    <tr>\n      <th>9</th>\n      <td>-0.388795</td>\n      <td>0.803168</td>\n      <td>-0.338376</td>\n      <td>-0.623020</td>\n      <td>-1.675169</td>\n      <td>0.137095</td>\n    </tr>\n  </tbody>\n</table>\n</div>"
     },
     "execution_count": 23,
     "metadata": {},
     "output_type": "execute_result"
    }
   ],
   "source": [
    "df.tail()"
   ],
   "metadata": {
    "collapsed": false,
    "pycharm": {
     "name": "#%%\n"
    }
   }
  },
  {
   "cell_type": "code",
   "execution_count": 24,
   "outputs": [
    {
     "data": {
      "text/plain": "          A         B         C         D         E         F\n5  1.348855  0.418005  0.576632 -2.135583 -1.905352 -0.864441",
      "text/html": "<div>\n<style scoped>\n    .dataframe tbody tr th:only-of-type {\n        vertical-align: middle;\n    }\n\n    .dataframe tbody tr th {\n        vertical-align: top;\n    }\n\n    .dataframe thead th {\n        text-align: right;\n    }\n</style>\n<table border=\"1\" class=\"dataframe\">\n  <thead>\n    <tr style=\"text-align: right;\">\n      <th></th>\n      <th>A</th>\n      <th>B</th>\n      <th>C</th>\n      <th>D</th>\n      <th>E</th>\n      <th>F</th>\n    </tr>\n  </thead>\n  <tbody>\n    <tr>\n      <th>5</th>\n      <td>1.348855</td>\n      <td>0.418005</td>\n      <td>0.576632</td>\n      <td>-2.135583</td>\n      <td>-1.905352</td>\n      <td>-0.864441</td>\n    </tr>\n  </tbody>\n</table>\n</div>"
     },
     "execution_count": 24,
     "metadata": {},
     "output_type": "execute_result"
    }
   ],
   "source": [
    "df.sample()"
   ],
   "metadata": {
    "collapsed": false,
    "pycharm": {
     "name": "#%%\n"
    }
   }
  },
  {
   "cell_type": "code",
   "execution_count": 25,
   "outputs": [
    {
     "data": {
      "text/plain": "          A         B         C         D         E         F\n0 -0.623228 -1.251861  0.539511  1.471657 -0.508539  1.266748\n2  0.491549 -0.438748  0.026944  0.559555 -0.579774 -0.264329\n5  1.348855  0.418005  0.576632 -2.135583 -1.905352 -0.864441",
      "text/html": "<div>\n<style scoped>\n    .dataframe tbody tr th:only-of-type {\n        vertical-align: middle;\n    }\n\n    .dataframe tbody tr th {\n        vertical-align: top;\n    }\n\n    .dataframe thead th {\n        text-align: right;\n    }\n</style>\n<table border=\"1\" class=\"dataframe\">\n  <thead>\n    <tr style=\"text-align: right;\">\n      <th></th>\n      <th>A</th>\n      <th>B</th>\n      <th>C</th>\n      <th>D</th>\n      <th>E</th>\n      <th>F</th>\n    </tr>\n  </thead>\n  <tbody>\n    <tr>\n      <th>0</th>\n      <td>-0.623228</td>\n      <td>-1.251861</td>\n      <td>0.539511</td>\n      <td>1.471657</td>\n      <td>-0.508539</td>\n      <td>1.266748</td>\n    </tr>\n    <tr>\n      <th>2</th>\n      <td>0.491549</td>\n      <td>-0.438748</td>\n      <td>0.026944</td>\n      <td>0.559555</td>\n      <td>-0.579774</td>\n      <td>-0.264329</td>\n    </tr>\n    <tr>\n      <th>5</th>\n      <td>1.348855</td>\n      <td>0.418005</td>\n      <td>0.576632</td>\n      <td>-2.135583</td>\n      <td>-1.905352</td>\n      <td>-0.864441</td>\n    </tr>\n  </tbody>\n</table>\n</div>"
     },
     "execution_count": 25,
     "metadata": {},
     "output_type": "execute_result"
    }
   ],
   "source": [
    "df.sample(3)"
   ],
   "metadata": {
    "collapsed": false,
    "pycharm": {
     "name": "#%%\n"
    }
   }
  },
  {
   "cell_type": "markdown",
   "metadata": {
    "pycharm": {
     "name": "#%% md\n"
    }
   },
   "source": [
    "## 3.3 DataFrame Indexing and Selection"
   ]
  },
  {
   "cell_type": "code",
   "execution_count": 27,
   "metadata": {
    "pycharm": {
     "name": "#%%\n"
    }
   },
   "outputs": [
    {
     "data": {
      "text/plain": "0   -0.623228\n1   -0.381728\n2    0.491549\n3   -0.988913\n4    0.756009\n5    1.348855\n6   -0.627011\n7    1.615366\n8   -0.263853\n9   -0.388795\nName: A, dtype: float64"
     },
     "execution_count": 27,
     "metadata": {},
     "output_type": "execute_result"
    }
   ],
   "source": [
    "df['A']"
   ]
  },
  {
   "cell_type": "code",
   "execution_count": 28,
   "metadata": {
    "pycharm": {
     "name": "#%%\n"
    }
   },
   "outputs": [
    {
     "data": {
      "text/plain": "          A         B\n0 -0.623228 -1.251861\n1 -0.381728  0.002313\n2  0.491549 -0.438748\n3 -0.988913  1.019470\n4  0.756009 -1.032666\n5  1.348855  0.418005\n6 -0.627011 -0.772582\n7  1.615366  1.702026\n8 -0.263853  0.800699\n9 -0.388795  0.803168",
      "text/html": "<div>\n<style scoped>\n    .dataframe tbody tr th:only-of-type {\n        vertical-align: middle;\n    }\n\n    .dataframe tbody tr th {\n        vertical-align: top;\n    }\n\n    .dataframe thead th {\n        text-align: right;\n    }\n</style>\n<table border=\"1\" class=\"dataframe\">\n  <thead>\n    <tr style=\"text-align: right;\">\n      <th></th>\n      <th>A</th>\n      <th>B</th>\n    </tr>\n  </thead>\n  <tbody>\n    <tr>\n      <th>0</th>\n      <td>-0.623228</td>\n      <td>-1.251861</td>\n    </tr>\n    <tr>\n      <th>1</th>\n      <td>-0.381728</td>\n      <td>0.002313</td>\n    </tr>\n    <tr>\n      <th>2</th>\n      <td>0.491549</td>\n      <td>-0.438748</td>\n    </tr>\n    <tr>\n      <th>3</th>\n      <td>-0.988913</td>\n      <td>1.019470</td>\n    </tr>\n    <tr>\n      <th>4</th>\n      <td>0.756009</td>\n      <td>-1.032666</td>\n    </tr>\n    <tr>\n      <th>5</th>\n      <td>1.348855</td>\n      <td>0.418005</td>\n    </tr>\n    <tr>\n      <th>6</th>\n      <td>-0.627011</td>\n      <td>-0.772582</td>\n    </tr>\n    <tr>\n      <th>7</th>\n      <td>1.615366</td>\n      <td>1.702026</td>\n    </tr>\n    <tr>\n      <th>8</th>\n      <td>-0.263853</td>\n      <td>0.800699</td>\n    </tr>\n    <tr>\n      <th>9</th>\n      <td>-0.388795</td>\n      <td>0.803168</td>\n    </tr>\n  </tbody>\n</table>\n</div>"
     },
     "execution_count": 28,
     "metadata": {},
     "output_type": "execute_result"
    }
   ],
   "source": [
    "df[['A', 'B']]"
   ]
  },
  {
   "cell_type": "code",
   "execution_count": 29,
   "metadata": {
    "pycharm": {
     "name": "#%%\n"
    }
   },
   "outputs": [
    {
     "data": {
      "text/plain": "-0.6232279411145251"
     },
     "execution_count": 29,
     "metadata": {},
     "output_type": "execute_result"
    }
   ],
   "source": [
    "df.loc[0, 'A']"
   ]
  },
  {
   "cell_type": "code",
   "execution_count": 30,
   "metadata": {
    "pycharm": {
     "name": "#%%\n"
    }
   },
   "outputs": [
    {
     "data": {
      "text/plain": "-0.6232279411145251"
     },
     "execution_count": 30,
     "metadata": {},
     "output_type": "execute_result"
    }
   ],
   "source": [
    "df.iloc[0, 0]"
   ]
  },
  {
   "cell_type": "code",
   "execution_count": 31,
   "metadata": {
    "pycharm": {
     "name": "#%%\n"
    }
   },
   "outputs": [
    {
     "data": {
      "text/plain": "          A         B         C\n0 -0.623228 -1.251861  0.539511\n1 -0.381728  0.002313 -0.604785\n2  0.491549 -0.438748  0.026944\n3 -0.988913  1.019470  0.530587",
      "text/html": "<div>\n<style scoped>\n    .dataframe tbody tr th:only-of-type {\n        vertical-align: middle;\n    }\n\n    .dataframe tbody tr th {\n        vertical-align: top;\n    }\n\n    .dataframe thead th {\n        text-align: right;\n    }\n</style>\n<table border=\"1\" class=\"dataframe\">\n  <thead>\n    <tr style=\"text-align: right;\">\n      <th></th>\n      <th>A</th>\n      <th>B</th>\n      <th>C</th>\n    </tr>\n  </thead>\n  <tbody>\n    <tr>\n      <th>0</th>\n      <td>-0.623228</td>\n      <td>-1.251861</td>\n      <td>0.539511</td>\n    </tr>\n    <tr>\n      <th>1</th>\n      <td>-0.381728</td>\n      <td>0.002313</td>\n      <td>-0.604785</td>\n    </tr>\n    <tr>\n      <th>2</th>\n      <td>0.491549</td>\n      <td>-0.438748</td>\n      <td>0.026944</td>\n    </tr>\n    <tr>\n      <th>3</th>\n      <td>-0.988913</td>\n      <td>1.019470</td>\n      <td>0.530587</td>\n    </tr>\n  </tbody>\n</table>\n</div>"
     },
     "execution_count": 31,
     "metadata": {},
     "output_type": "execute_result"
    }
   ],
   "source": [
    "df.loc[0:3, 'A':'C']"
   ]
  },
  {
   "cell_type": "code",
   "execution_count": 32,
   "outputs": [
    {
     "data": {
      "text/plain": "          A         B         C\n0 -0.623228 -1.251861  0.539511\n1 -0.381728  0.002313 -0.604785\n2  0.491549 -0.438748  0.026944",
      "text/html": "<div>\n<style scoped>\n    .dataframe tbody tr th:only-of-type {\n        vertical-align: middle;\n    }\n\n    .dataframe tbody tr th {\n        vertical-align: top;\n    }\n\n    .dataframe thead th {\n        text-align: right;\n    }\n</style>\n<table border=\"1\" class=\"dataframe\">\n  <thead>\n    <tr style=\"text-align: right;\">\n      <th></th>\n      <th>A</th>\n      <th>B</th>\n      <th>C</th>\n    </tr>\n  </thead>\n  <tbody>\n    <tr>\n      <th>0</th>\n      <td>-0.623228</td>\n      <td>-1.251861</td>\n      <td>0.539511</td>\n    </tr>\n    <tr>\n      <th>1</th>\n      <td>-0.381728</td>\n      <td>0.002313</td>\n      <td>-0.604785</td>\n    </tr>\n    <tr>\n      <th>2</th>\n      <td>0.491549</td>\n      <td>-0.438748</td>\n      <td>0.026944</td>\n    </tr>\n  </tbody>\n</table>\n</div>"
     },
     "execution_count": 32,
     "metadata": {},
     "output_type": "execute_result"
    }
   ],
   "source": [
    "df.iloc[0:3, 0:3]"
   ],
   "metadata": {
    "collapsed": false,
    "pycharm": {
     "name": "#%%\n"
    }
   }
  },
  {
   "cell_type": "code",
   "execution_count": 33,
   "metadata": {
    "pycharm": {
     "name": "#%%\n"
    }
   },
   "outputs": [
    {
     "data": {
      "text/plain": "       A      B      C      D      E      F\n0  False  False   True   True  False   True\n1  False   True  False   True   True   True\n2   True  False   True   True  False  False\n3  False   True   True  False   True  False\n4   True  False   True  False  False   True\n5   True   True   True  False  False  False\n6  False  False  False   True  False  False\n7   True   True  False  False   True   True\n8  False   True  False   True   True  False\n9  False   True  False  False  False   True",
      "text/html": "<div>\n<style scoped>\n    .dataframe tbody tr th:only-of-type {\n        vertical-align: middle;\n    }\n\n    .dataframe tbody tr th {\n        vertical-align: top;\n    }\n\n    .dataframe thead th {\n        text-align: right;\n    }\n</style>\n<table border=\"1\" class=\"dataframe\">\n  <thead>\n    <tr style=\"text-align: right;\">\n      <th></th>\n      <th>A</th>\n      <th>B</th>\n      <th>C</th>\n      <th>D</th>\n      <th>E</th>\n      <th>F</th>\n    </tr>\n  </thead>\n  <tbody>\n    <tr>\n      <th>0</th>\n      <td>False</td>\n      <td>False</td>\n      <td>True</td>\n      <td>True</td>\n      <td>False</td>\n      <td>True</td>\n    </tr>\n    <tr>\n      <th>1</th>\n      <td>False</td>\n      <td>True</td>\n      <td>False</td>\n      <td>True</td>\n      <td>True</td>\n      <td>True</td>\n    </tr>\n    <tr>\n      <th>2</th>\n      <td>True</td>\n      <td>False</td>\n      <td>True</td>\n      <td>True</td>\n      <td>False</td>\n      <td>False</td>\n    </tr>\n    <tr>\n      <th>3</th>\n      <td>False</td>\n      <td>True</td>\n      <td>True</td>\n      <td>False</td>\n      <td>True</td>\n      <td>False</td>\n    </tr>\n    <tr>\n      <th>4</th>\n      <td>True</td>\n      <td>False</td>\n      <td>True</td>\n      <td>False</td>\n      <td>False</td>\n      <td>True</td>\n    </tr>\n    <tr>\n      <th>5</th>\n      <td>True</td>\n      <td>True</td>\n      <td>True</td>\n      <td>False</td>\n      <td>False</td>\n      <td>False</td>\n    </tr>\n    <tr>\n      <th>6</th>\n      <td>False</td>\n      <td>False</td>\n      <td>False</td>\n      <td>True</td>\n      <td>False</td>\n      <td>False</td>\n    </tr>\n    <tr>\n      <th>7</th>\n      <td>True</td>\n      <td>True</td>\n      <td>False</td>\n      <td>False</td>\n      <td>True</td>\n      <td>True</td>\n    </tr>\n    <tr>\n      <th>8</th>\n      <td>False</td>\n      <td>True</td>\n      <td>False</td>\n      <td>True</td>\n      <td>True</td>\n      <td>False</td>\n    </tr>\n    <tr>\n      <th>9</th>\n      <td>False</td>\n      <td>True</td>\n      <td>False</td>\n      <td>False</td>\n      <td>False</td>\n      <td>True</td>\n    </tr>\n  </tbody>\n</table>\n</div>"
     },
     "execution_count": 33,
     "metadata": {},
     "output_type": "execute_result"
    }
   ],
   "source": [
    "df > 0"
   ]
  },
  {
   "cell_type": "code",
   "execution_count": 34,
   "outputs": [
    {
     "data": {
      "text/plain": "          A         B         C         D         E         F\n0       NaN       NaN  0.539511  1.471657       NaN  1.266748\n1       NaN  0.002313       NaN  0.661280  0.491029  0.468952\n2  0.491549       NaN  0.026944  0.559555       NaN       NaN\n3       NaN  1.019470  0.530587       NaN  0.804561       NaN\n4  0.756009       NaN  1.025006       NaN       NaN  1.225373\n5  1.348855  0.418005  0.576632       NaN       NaN       NaN\n6       NaN       NaN       NaN  0.401348       NaN       NaN\n7  1.615366  1.702026       NaN       NaN  0.380353  0.814664\n8       NaN  0.800699       NaN  0.113774  1.596923       NaN\n9       NaN  0.803168       NaN       NaN       NaN  0.137095",
      "text/html": "<div>\n<style scoped>\n    .dataframe tbody tr th:only-of-type {\n        vertical-align: middle;\n    }\n\n    .dataframe tbody tr th {\n        vertical-align: top;\n    }\n\n    .dataframe thead th {\n        text-align: right;\n    }\n</style>\n<table border=\"1\" class=\"dataframe\">\n  <thead>\n    <tr style=\"text-align: right;\">\n      <th></th>\n      <th>A</th>\n      <th>B</th>\n      <th>C</th>\n      <th>D</th>\n      <th>E</th>\n      <th>F</th>\n    </tr>\n  </thead>\n  <tbody>\n    <tr>\n      <th>0</th>\n      <td>NaN</td>\n      <td>NaN</td>\n      <td>0.539511</td>\n      <td>1.471657</td>\n      <td>NaN</td>\n      <td>1.266748</td>\n    </tr>\n    <tr>\n      <th>1</th>\n      <td>NaN</td>\n      <td>0.002313</td>\n      <td>NaN</td>\n      <td>0.661280</td>\n      <td>0.491029</td>\n      <td>0.468952</td>\n    </tr>\n    <tr>\n      <th>2</th>\n      <td>0.491549</td>\n      <td>NaN</td>\n      <td>0.026944</td>\n      <td>0.559555</td>\n      <td>NaN</td>\n      <td>NaN</td>\n    </tr>\n    <tr>\n      <th>3</th>\n      <td>NaN</td>\n      <td>1.019470</td>\n      <td>0.530587</td>\n      <td>NaN</td>\n      <td>0.804561</td>\n      <td>NaN</td>\n    </tr>\n    <tr>\n      <th>4</th>\n      <td>0.756009</td>\n      <td>NaN</td>\n      <td>1.025006</td>\n      <td>NaN</td>\n      <td>NaN</td>\n      <td>1.225373</td>\n    </tr>\n    <tr>\n      <th>5</th>\n      <td>1.348855</td>\n      <td>0.418005</td>\n      <td>0.576632</td>\n      <td>NaN</td>\n      <td>NaN</td>\n      <td>NaN</td>\n    </tr>\n    <tr>\n      <th>6</th>\n      <td>NaN</td>\n      <td>NaN</td>\n      <td>NaN</td>\n      <td>0.401348</td>\n      <td>NaN</td>\n      <td>NaN</td>\n    </tr>\n    <tr>\n      <th>7</th>\n      <td>1.615366</td>\n      <td>1.702026</td>\n      <td>NaN</td>\n      <td>NaN</td>\n      <td>0.380353</td>\n      <td>0.814664</td>\n    </tr>\n    <tr>\n      <th>8</th>\n      <td>NaN</td>\n      <td>0.800699</td>\n      <td>NaN</td>\n      <td>0.113774</td>\n      <td>1.596923</td>\n      <td>NaN</td>\n    </tr>\n    <tr>\n      <th>9</th>\n      <td>NaN</td>\n      <td>0.803168</td>\n      <td>NaN</td>\n      <td>NaN</td>\n      <td>NaN</td>\n      <td>0.137095</td>\n    </tr>\n  </tbody>\n</table>\n</div>"
     },
     "execution_count": 34,
     "metadata": {},
     "output_type": "execute_result"
    }
   ],
   "source": [
    "df[df > 0]"
   ],
   "metadata": {
    "collapsed": false,
    "pycharm": {
     "name": "#%%\n"
    }
   }
  },
  {
   "cell_type": "code",
   "execution_count": 35,
   "metadata": {
    "pycharm": {
     "name": "#%%\n"
    }
   },
   "outputs": [
    {
     "data": {
      "text/plain": "0    False\n1    False\n2     True\n3    False\n4     True\n5     True\n6    False\n7     True\n8    False\n9    False\nName: A, dtype: bool"
     },
     "execution_count": 35,
     "metadata": {},
     "output_type": "execute_result"
    }
   ],
   "source": [
    "df['A'] > 0"
   ]
  },
  {
   "cell_type": "code",
   "execution_count": 36,
   "metadata": {
    "pycharm": {
     "name": "#%%\n"
    }
   },
   "outputs": [
    {
     "data": {
      "text/plain": "          A         B         C         D         E         F\n2  0.491549 -0.438748  0.026944  0.559555 -0.579774 -0.264329\n4  0.756009 -1.032666  1.025006 -1.830342 -1.945305  1.225373\n5  1.348855  0.418005  0.576632 -2.135583 -1.905352 -0.864441\n7  1.615366  1.702026 -0.284548 -0.367424  0.380353  0.814664",
      "text/html": "<div>\n<style scoped>\n    .dataframe tbody tr th:only-of-type {\n        vertical-align: middle;\n    }\n\n    .dataframe tbody tr th {\n        vertical-align: top;\n    }\n\n    .dataframe thead th {\n        text-align: right;\n    }\n</style>\n<table border=\"1\" class=\"dataframe\">\n  <thead>\n    <tr style=\"text-align: right;\">\n      <th></th>\n      <th>A</th>\n      <th>B</th>\n      <th>C</th>\n      <th>D</th>\n      <th>E</th>\n      <th>F</th>\n    </tr>\n  </thead>\n  <tbody>\n    <tr>\n      <th>2</th>\n      <td>0.491549</td>\n      <td>-0.438748</td>\n      <td>0.026944</td>\n      <td>0.559555</td>\n      <td>-0.579774</td>\n      <td>-0.264329</td>\n    </tr>\n    <tr>\n      <th>4</th>\n      <td>0.756009</td>\n      <td>-1.032666</td>\n      <td>1.025006</td>\n      <td>-1.830342</td>\n      <td>-1.945305</td>\n      <td>1.225373</td>\n    </tr>\n    <tr>\n      <th>5</th>\n      <td>1.348855</td>\n      <td>0.418005</td>\n      <td>0.576632</td>\n      <td>-2.135583</td>\n      <td>-1.905352</td>\n      <td>-0.864441</td>\n    </tr>\n    <tr>\n      <th>7</th>\n      <td>1.615366</td>\n      <td>1.702026</td>\n      <td>-0.284548</td>\n      <td>-0.367424</td>\n      <td>0.380353</td>\n      <td>0.814664</td>\n    </tr>\n  </tbody>\n</table>\n</div>"
     },
     "execution_count": 36,
     "metadata": {},
     "output_type": "execute_result"
    }
   ],
   "source": [
    "df[df['A'] > 0]"
   ]
  },
  {
   "cell_type": "code",
   "execution_count": 37,
   "metadata": {
    "pycharm": {
     "name": "#%%\n"
    }
   },
   "outputs": [
    {
     "data": {
      "text/plain": "          A         B         C         D         E         F\n5  1.348855  0.418005  0.576632 -2.135583 -1.905352 -0.864441\n7  1.615366  1.702026 -0.284548 -0.367424  0.380353  0.814664",
      "text/html": "<div>\n<style scoped>\n    .dataframe tbody tr th:only-of-type {\n        vertical-align: middle;\n    }\n\n    .dataframe tbody tr th {\n        vertical-align: top;\n    }\n\n    .dataframe thead th {\n        text-align: right;\n    }\n</style>\n<table border=\"1\" class=\"dataframe\">\n  <thead>\n    <tr style=\"text-align: right;\">\n      <th></th>\n      <th>A</th>\n      <th>B</th>\n      <th>C</th>\n      <th>D</th>\n      <th>E</th>\n      <th>F</th>\n    </tr>\n  </thead>\n  <tbody>\n    <tr>\n      <th>5</th>\n      <td>1.348855</td>\n      <td>0.418005</td>\n      <td>0.576632</td>\n      <td>-2.135583</td>\n      <td>-1.905352</td>\n      <td>-0.864441</td>\n    </tr>\n    <tr>\n      <th>7</th>\n      <td>1.615366</td>\n      <td>1.702026</td>\n      <td>-0.284548</td>\n      <td>-0.367424</td>\n      <td>0.380353</td>\n      <td>0.814664</td>\n    </tr>\n  </tbody>\n</table>\n</div>"
     },
     "execution_count": 37,
     "metadata": {},
     "output_type": "execute_result"
    }
   ],
   "source": [
    "df[(df['A'] > 0) & (df['B'] > 0)]"
   ]
  },
  {
   "cell_type": "code",
   "execution_count": 38,
   "metadata": {
    "pycharm": {
     "name": "#%%\n"
    }
   },
   "outputs": [
    {
     "data": {
      "text/plain": "          A         B         C         D         E         F\n0  1.348855  0.418005  0.576632 -2.135583 -1.905352 -0.864441\n1  1.615366  1.702026 -0.284548 -0.367424  0.380353  0.814664",
      "text/html": "<div>\n<style scoped>\n    .dataframe tbody tr th:only-of-type {\n        vertical-align: middle;\n    }\n\n    .dataframe tbody tr th {\n        vertical-align: top;\n    }\n\n    .dataframe thead th {\n        text-align: right;\n    }\n</style>\n<table border=\"1\" class=\"dataframe\">\n  <thead>\n    <tr style=\"text-align: right;\">\n      <th></th>\n      <th>A</th>\n      <th>B</th>\n      <th>C</th>\n      <th>D</th>\n      <th>E</th>\n      <th>F</th>\n    </tr>\n  </thead>\n  <tbody>\n    <tr>\n      <th>0</th>\n      <td>1.348855</td>\n      <td>0.418005</td>\n      <td>0.576632</td>\n      <td>-2.135583</td>\n      <td>-1.905352</td>\n      <td>-0.864441</td>\n    </tr>\n    <tr>\n      <th>1</th>\n      <td>1.615366</td>\n      <td>1.702026</td>\n      <td>-0.284548</td>\n      <td>-0.367424</td>\n      <td>0.380353</td>\n      <td>0.814664</td>\n    </tr>\n  </tbody>\n</table>\n</div>"
     },
     "execution_count": 38,
     "metadata": {},
     "output_type": "execute_result"
    }
   ],
   "source": [
    "df_2 = df[(df['A'] > 0) & (df['B'] > 0)]\n",
    "df_2.reset_index(drop=True, inplace=True)\n",
    "df_2"
   ]
  },
  {
   "cell_type": "markdown",
   "metadata": {
    "pycharm": {
     "name": "#%% md\n"
    }
   },
   "source": [
    "## 3.4 Missing Data"
   ]
  },
  {
   "cell_type": "code",
   "execution_count": 39,
   "metadata": {
    "pycharm": {
     "name": "#%%\n"
    }
   },
   "outputs": [
    {
     "data": {
      "text/plain": "     A    B  C\n0  1.0  5.0  1\n1  2.0  NaN  2\n2  NaN  NaN  3",
      "text/html": "<div>\n<style scoped>\n    .dataframe tbody tr th:only-of-type {\n        vertical-align: middle;\n    }\n\n    .dataframe tbody tr th {\n        vertical-align: top;\n    }\n\n    .dataframe thead th {\n        text-align: right;\n    }\n</style>\n<table border=\"1\" class=\"dataframe\">\n  <thead>\n    <tr style=\"text-align: right;\">\n      <th></th>\n      <th>A</th>\n      <th>B</th>\n      <th>C</th>\n    </tr>\n  </thead>\n  <tbody>\n    <tr>\n      <th>0</th>\n      <td>1.0</td>\n      <td>5.0</td>\n      <td>1</td>\n    </tr>\n    <tr>\n      <th>1</th>\n      <td>2.0</td>\n      <td>NaN</td>\n      <td>2</td>\n    </tr>\n    <tr>\n      <th>2</th>\n      <td>NaN</td>\n      <td>NaN</td>\n      <td>3</td>\n    </tr>\n  </tbody>\n</table>\n</div>"
     },
     "execution_count": 39,
     "metadata": {},
     "output_type": "execute_result"
    }
   ],
   "source": [
    "df = pd.DataFrame({\n",
    "    'A': [1, 2, np.nan],\n",
    "    'B': [5, np.nan, np.nan],\n",
    "    'C': [1, 2, 3]\n",
    "})\n",
    "df"
   ]
  },
  {
   "cell_type": "code",
   "execution_count": 40,
   "metadata": {
    "pycharm": {
     "name": "#%%\n"
    }
   },
   "outputs": [
    {
     "data": {
      "text/plain": "     A    B  C\n0  1.0  5.0  1",
      "text/html": "<div>\n<style scoped>\n    .dataframe tbody tr th:only-of-type {\n        vertical-align: middle;\n    }\n\n    .dataframe tbody tr th {\n        vertical-align: top;\n    }\n\n    .dataframe thead th {\n        text-align: right;\n    }\n</style>\n<table border=\"1\" class=\"dataframe\">\n  <thead>\n    <tr style=\"text-align: right;\">\n      <th></th>\n      <th>A</th>\n      <th>B</th>\n      <th>C</th>\n    </tr>\n  </thead>\n  <tbody>\n    <tr>\n      <th>0</th>\n      <td>1.0</td>\n      <td>5.0</td>\n      <td>1</td>\n    </tr>\n  </tbody>\n</table>\n</div>"
     },
     "execution_count": 40,
     "metadata": {},
     "output_type": "execute_result"
    }
   ],
   "source": [
    "df.dropna()"
   ]
  },
  {
   "cell_type": "code",
   "execution_count": 41,
   "metadata": {
    "pycharm": {
     "name": "#%%\n"
    }
   },
   "outputs": [
    {
     "data": {
      "text/plain": "   C\n0  1\n1  2\n2  3",
      "text/html": "<div>\n<style scoped>\n    .dataframe tbody tr th:only-of-type {\n        vertical-align: middle;\n    }\n\n    .dataframe tbody tr th {\n        vertical-align: top;\n    }\n\n    .dataframe thead th {\n        text-align: right;\n    }\n</style>\n<table border=\"1\" class=\"dataframe\">\n  <thead>\n    <tr style=\"text-align: right;\">\n      <th></th>\n      <th>C</th>\n    </tr>\n  </thead>\n  <tbody>\n    <tr>\n      <th>0</th>\n      <td>1</td>\n    </tr>\n    <tr>\n      <th>1</th>\n      <td>2</td>\n    </tr>\n    <tr>\n      <th>2</th>\n      <td>3</td>\n    </tr>\n  </tbody>\n</table>\n</div>"
     },
     "execution_count": 41,
     "metadata": {},
     "output_type": "execute_result"
    }
   ],
   "source": [
    "df.dropna(axis=1)"
   ]
  },
  {
   "cell_type": "code",
   "execution_count": 42,
   "metadata": {
    "pycharm": {
     "name": "#%%\n"
    }
   },
   "outputs": [
    {
     "data": {
      "text/plain": "     A    B  C\n0  1.0  5.0  1\n1  2.0  NaN  2",
      "text/html": "<div>\n<style scoped>\n    .dataframe tbody tr th:only-of-type {\n        vertical-align: middle;\n    }\n\n    .dataframe tbody tr th {\n        vertical-align: top;\n    }\n\n    .dataframe thead th {\n        text-align: right;\n    }\n</style>\n<table border=\"1\" class=\"dataframe\">\n  <thead>\n    <tr style=\"text-align: right;\">\n      <th></th>\n      <th>A</th>\n      <th>B</th>\n      <th>C</th>\n    </tr>\n  </thead>\n  <tbody>\n    <tr>\n      <th>0</th>\n      <td>1.0</td>\n      <td>5.0</td>\n      <td>1</td>\n    </tr>\n    <tr>\n      <th>1</th>\n      <td>2.0</td>\n      <td>NaN</td>\n      <td>2</td>\n    </tr>\n  </tbody>\n</table>\n</div>"
     },
     "execution_count": 42,
     "metadata": {},
     "output_type": "execute_result"
    }
   ],
   "source": [
    "df.dropna(thresh=2)"
   ]
  },
  {
   "cell_type": "code",
   "execution_count": 43,
   "metadata": {
    "pycharm": {
     "name": "#%%\n"
    }
   },
   "outputs": [
    {
     "data": {
      "text/plain": "            A           B  C\n0         1.0         5.0  1\n1         2.0  FILL VALUE  2\n2  FILL VALUE  FILL VALUE  3",
      "text/html": "<div>\n<style scoped>\n    .dataframe tbody tr th:only-of-type {\n        vertical-align: middle;\n    }\n\n    .dataframe tbody tr th {\n        vertical-align: top;\n    }\n\n    .dataframe thead th {\n        text-align: right;\n    }\n</style>\n<table border=\"1\" class=\"dataframe\">\n  <thead>\n    <tr style=\"text-align: right;\">\n      <th></th>\n      <th>A</th>\n      <th>B</th>\n      <th>C</th>\n    </tr>\n  </thead>\n  <tbody>\n    <tr>\n      <th>0</th>\n      <td>1.0</td>\n      <td>5.0</td>\n      <td>1</td>\n    </tr>\n    <tr>\n      <th>1</th>\n      <td>2.0</td>\n      <td>FILL VALUE</td>\n      <td>2</td>\n    </tr>\n    <tr>\n      <th>2</th>\n      <td>FILL VALUE</td>\n      <td>FILL VALUE</td>\n      <td>3</td>\n    </tr>\n  </tbody>\n</table>\n</div>"
     },
     "execution_count": 43,
     "metadata": {},
     "output_type": "execute_result"
    }
   ],
   "source": [
    "df.fillna(value='FILL VALUE')"
   ]
  },
  {
   "cell_type": "markdown",
   "metadata": {
    "pycharm": {
     "name": "#%% md\n"
    }
   },
   "source": [
    "## 3.5 MultiIndex and Index Hierarchy"
   ]
  },
  {
   "cell_type": "code",
   "execution_count": 44,
   "metadata": {
    "pycharm": {
     "name": "#%%\n"
    }
   },
   "outputs": [
    {
     "data": {
      "text/plain": "MultiIndex([('G1', 1),\n            ('G1', 2),\n            ('G1', 3),\n            ('G2', 1),\n            ('G2', 2),\n            ('G2', 3)],\n           )"
     },
     "execution_count": 44,
     "metadata": {},
     "output_type": "execute_result"
    }
   ],
   "source": [
    "outside = ['G1', 'G1', 'G1', 'G2', 'G2', 'G2']\n",
    "inside = [1, 2, 3, 1, 2, 3]\n",
    "hier_index = list(zip(outside, inside))\n",
    "hier_index = pd.MultiIndex.from_tuples(hier_index)\n",
    "hier_index"
   ]
  },
  {
   "cell_type": "code",
   "execution_count": 45,
   "metadata": {
    "pycharm": {
     "name": "#%%\n"
    }
   },
   "outputs": [
    {
     "data": {
      "text/plain": "             A         B\nG1 1  0.201754 -0.132390\n   2  0.826105 -0.281313\n   3  1.445526 -0.771679\nG2 1  0.038270  0.687288\n   2  3.329302 -1.033233\n   3 -0.772112 -0.995811",
      "text/html": "<div>\n<style scoped>\n    .dataframe tbody tr th:only-of-type {\n        vertical-align: middle;\n    }\n\n    .dataframe tbody tr th {\n        vertical-align: top;\n    }\n\n    .dataframe thead th {\n        text-align: right;\n    }\n</style>\n<table border=\"1\" class=\"dataframe\">\n  <thead>\n    <tr style=\"text-align: right;\">\n      <th></th>\n      <th></th>\n      <th>A</th>\n      <th>B</th>\n    </tr>\n  </thead>\n  <tbody>\n    <tr>\n      <th rowspan=\"3\" valign=\"top\">G1</th>\n      <th>1</th>\n      <td>0.201754</td>\n      <td>-0.132390</td>\n    </tr>\n    <tr>\n      <th>2</th>\n      <td>0.826105</td>\n      <td>-0.281313</td>\n    </tr>\n    <tr>\n      <th>3</th>\n      <td>1.445526</td>\n      <td>-0.771679</td>\n    </tr>\n    <tr>\n      <th rowspan=\"3\" valign=\"top\">G2</th>\n      <th>1</th>\n      <td>0.038270</td>\n      <td>0.687288</td>\n    </tr>\n    <tr>\n      <th>2</th>\n      <td>3.329302</td>\n      <td>-1.033233</td>\n    </tr>\n    <tr>\n      <th>3</th>\n      <td>-0.772112</td>\n      <td>-0.995811</td>\n    </tr>\n  </tbody>\n</table>\n</div>"
     },
     "execution_count": 45,
     "metadata": {},
     "output_type": "execute_result"
    }
   ],
   "source": [
    "df = pd.DataFrame(np.random.randn(6, 2), index=hier_index, columns=['A', 'B'])\n",
    "df"
   ]
  },
  {
   "cell_type": "code",
   "execution_count": 46,
   "metadata": {
    "pycharm": {
     "name": "#%%\n"
    }
   },
   "outputs": [
    {
     "data": {
      "text/plain": "          A         B\n1  0.201754 -0.132390\n2  0.826105 -0.281313\n3  1.445526 -0.771679",
      "text/html": "<div>\n<style scoped>\n    .dataframe tbody tr th:only-of-type {\n        vertical-align: middle;\n    }\n\n    .dataframe tbody tr th {\n        vertical-align: top;\n    }\n\n    .dataframe thead th {\n        text-align: right;\n    }\n</style>\n<table border=\"1\" class=\"dataframe\">\n  <thead>\n    <tr style=\"text-align: right;\">\n      <th></th>\n      <th>A</th>\n      <th>B</th>\n    </tr>\n  </thead>\n  <tbody>\n    <tr>\n      <th>1</th>\n      <td>0.201754</td>\n      <td>-0.132390</td>\n    </tr>\n    <tr>\n      <th>2</th>\n      <td>0.826105</td>\n      <td>-0.281313</td>\n    </tr>\n    <tr>\n      <th>3</th>\n      <td>1.445526</td>\n      <td>-0.771679</td>\n    </tr>\n  </tbody>\n</table>\n</div>"
     },
     "execution_count": 46,
     "metadata": {},
     "output_type": "execute_result"
    }
   ],
   "source": [
    "df.loc['G1']"
   ]
  },
  {
   "cell_type": "code",
   "execution_count": 47,
   "metadata": {
    "pycharm": {
     "name": "#%%\n"
    }
   },
   "outputs": [
    {
     "data": {
      "text/plain": "A    0.201754\nB   -0.132390\nName: 1, dtype: float64"
     },
     "execution_count": 47,
     "metadata": {},
     "output_type": "execute_result"
    }
   ],
   "source": [
    "df.loc['G1'].loc[1]"
   ]
  },
  {
   "cell_type": "code",
   "execution_count": 48,
   "metadata": {
    "pycharm": {
     "name": "#%%\n"
    }
   },
   "outputs": [
    {
     "data": {
      "text/plain": "                   A         B\nGroups Num                    \nG1     1    0.201754 -0.132390\n       2    0.826105 -0.281313\n       3    1.445526 -0.771679\nG2     1    0.038270  0.687288\n       2    3.329302 -1.033233\n       3   -0.772112 -0.995811",
      "text/html": "<div>\n<style scoped>\n    .dataframe tbody tr th:only-of-type {\n        vertical-align: middle;\n    }\n\n    .dataframe tbody tr th {\n        vertical-align: top;\n    }\n\n    .dataframe thead th {\n        text-align: right;\n    }\n</style>\n<table border=\"1\" class=\"dataframe\">\n  <thead>\n    <tr style=\"text-align: right;\">\n      <th></th>\n      <th></th>\n      <th>A</th>\n      <th>B</th>\n    </tr>\n    <tr>\n      <th>Groups</th>\n      <th>Num</th>\n      <th></th>\n      <th></th>\n    </tr>\n  </thead>\n  <tbody>\n    <tr>\n      <th rowspan=\"3\" valign=\"top\">G1</th>\n      <th>1</th>\n      <td>0.201754</td>\n      <td>-0.132390</td>\n    </tr>\n    <tr>\n      <th>2</th>\n      <td>0.826105</td>\n      <td>-0.281313</td>\n    </tr>\n    <tr>\n      <th>3</th>\n      <td>1.445526</td>\n      <td>-0.771679</td>\n    </tr>\n    <tr>\n      <th rowspan=\"3\" valign=\"top\">G2</th>\n      <th>1</th>\n      <td>0.038270</td>\n      <td>0.687288</td>\n    </tr>\n    <tr>\n      <th>2</th>\n      <td>3.329302</td>\n      <td>-1.033233</td>\n    </tr>\n    <tr>\n      <th>3</th>\n      <td>-0.772112</td>\n      <td>-0.995811</td>\n    </tr>\n  </tbody>\n</table>\n</div>"
     },
     "execution_count": 48,
     "metadata": {},
     "output_type": "execute_result"
    }
   ],
   "source": [
    "df.index.names = ['Groups', 'Num']\n",
    "df"
   ]
  },
  {
   "cell_type": "code",
   "execution_count": 49,
   "metadata": {
    "pycharm": {
     "name": "#%%\n"
    }
   },
   "outputs": [
    {
     "data": {
      "text/plain": "            A         B\nNum                    \n1    0.201754 -0.132390\n2    0.826105 -0.281313\n3    1.445526 -0.771679",
      "text/html": "<div>\n<style scoped>\n    .dataframe tbody tr th:only-of-type {\n        vertical-align: middle;\n    }\n\n    .dataframe tbody tr th {\n        vertical-align: top;\n    }\n\n    .dataframe thead th {\n        text-align: right;\n    }\n</style>\n<table border=\"1\" class=\"dataframe\">\n  <thead>\n    <tr style=\"text-align: right;\">\n      <th></th>\n      <th>A</th>\n      <th>B</th>\n    </tr>\n    <tr>\n      <th>Num</th>\n      <th></th>\n      <th></th>\n    </tr>\n  </thead>\n  <tbody>\n    <tr>\n      <th>1</th>\n      <td>0.201754</td>\n      <td>-0.132390</td>\n    </tr>\n    <tr>\n      <th>2</th>\n      <td>0.826105</td>\n      <td>-0.281313</td>\n    </tr>\n    <tr>\n      <th>3</th>\n      <td>1.445526</td>\n      <td>-0.771679</td>\n    </tr>\n  </tbody>\n</table>\n</div>"
     },
     "execution_count": 49,
     "metadata": {},
     "output_type": "execute_result"
    }
   ],
   "source": [
    "df.xs('G1')"
   ]
  },
  {
   "cell_type": "code",
   "execution_count": 52,
   "metadata": {
    "pycharm": {
     "name": "#%%\n"
    }
   },
   "outputs": [
    {
     "data": {
      "text/plain": "               A         B\nGroups                    \nG1      0.201754 -0.132390\nG2      0.038270  0.687288",
      "text/html": "<div>\n<style scoped>\n    .dataframe tbody tr th:only-of-type {\n        vertical-align: middle;\n    }\n\n    .dataframe tbody tr th {\n        vertical-align: top;\n    }\n\n    .dataframe thead th {\n        text-align: right;\n    }\n</style>\n<table border=\"1\" class=\"dataframe\">\n  <thead>\n    <tr style=\"text-align: right;\">\n      <th></th>\n      <th>A</th>\n      <th>B</th>\n    </tr>\n    <tr>\n      <th>Groups</th>\n      <th></th>\n      <th></th>\n    </tr>\n  </thead>\n  <tbody>\n    <tr>\n      <th>G1</th>\n      <td>0.201754</td>\n      <td>-0.132390</td>\n    </tr>\n    <tr>\n      <th>G2</th>\n      <td>0.038270</td>\n      <td>0.687288</td>\n    </tr>\n  </tbody>\n</table>\n</div>"
     },
     "execution_count": 52,
     "metadata": {},
     "output_type": "execute_result"
    }
   ],
   "source": [
    "df.xs(1, level='Num')"
   ]
  },
  {
   "cell_type": "markdown",
   "metadata": {
    "pycharm": {
     "name": "#%% md\n"
    }
   },
   "source": [
    "## 3.6 GroupBy"
   ]
  },
  {
   "cell_type": "code",
   "execution_count": 53,
   "metadata": {
    "pycharm": {
     "name": "#%%\n"
    }
   },
   "outputs": [
    {
     "data": {
      "text/plain": "  Company   Person  Sales\n0    GOOG      Sam    200\n1    GOOG  Charlie    120\n2    MSFT      Amy    340\n3    MSFT  Vanessa    124\n4      FB     Carl    243\n5      FB    Sarah    350",
      "text/html": "<div>\n<style scoped>\n    .dataframe tbody tr th:only-of-type {\n        vertical-align: middle;\n    }\n\n    .dataframe tbody tr th {\n        vertical-align: top;\n    }\n\n    .dataframe thead th {\n        text-align: right;\n    }\n</style>\n<table border=\"1\" class=\"dataframe\">\n  <thead>\n    <tr style=\"text-align: right;\">\n      <th></th>\n      <th>Company</th>\n      <th>Person</th>\n      <th>Sales</th>\n    </tr>\n  </thead>\n  <tbody>\n    <tr>\n      <th>0</th>\n      <td>GOOG</td>\n      <td>Sam</td>\n      <td>200</td>\n    </tr>\n    <tr>\n      <th>1</th>\n      <td>GOOG</td>\n      <td>Charlie</td>\n      <td>120</td>\n    </tr>\n    <tr>\n      <th>2</th>\n      <td>MSFT</td>\n      <td>Amy</td>\n      <td>340</td>\n    </tr>\n    <tr>\n      <th>3</th>\n      <td>MSFT</td>\n      <td>Vanessa</td>\n      <td>124</td>\n    </tr>\n    <tr>\n      <th>4</th>\n      <td>FB</td>\n      <td>Carl</td>\n      <td>243</td>\n    </tr>\n    <tr>\n      <th>5</th>\n      <td>FB</td>\n      <td>Sarah</td>\n      <td>350</td>\n    </tr>\n  </tbody>\n</table>\n</div>"
     },
     "execution_count": 53,
     "metadata": {},
     "output_type": "execute_result"
    }
   ],
   "source": [
    "data = {\n",
    "    'Company': ['GOOG', 'GOOG', 'MSFT', 'MSFT', 'FB', 'FB'],\n",
    "    'Person': ['Sam', 'Charlie', 'Amy', 'Vanessa', 'Carl', 'Sarah'],\n",
    "    'Sales': [200, 120, 340, 124, 243, 350]\n",
    "}\n",
    "df = pd.DataFrame(data)\n",
    "df"
   ]
  },
  {
   "cell_type": "code",
   "execution_count": 54,
   "metadata": {
    "pycharm": {
     "name": "#%%\n"
    }
   },
   "outputs": [
    {
     "data": {
      "text/plain": "<pandas.core.groupby.generic.DataFrameGroupBy object at 0x7fabae85f2e0>"
     },
     "execution_count": 54,
     "metadata": {},
     "output_type": "execute_result"
    }
   ],
   "source": [
    "df_group = df.groupby('Company')\n",
    "df_group"
   ]
  },
  {
   "cell_type": "code",
   "execution_count": 55,
   "metadata": {
    "pycharm": {
     "name": "#%%\n"
    }
   },
   "outputs": [
    {
     "data": {
      "text/plain": "         Sales\nCompany       \nFB       296.5\nGOOG     160.0\nMSFT     232.0",
      "text/html": "<div>\n<style scoped>\n    .dataframe tbody tr th:only-of-type {\n        vertical-align: middle;\n    }\n\n    .dataframe tbody tr th {\n        vertical-align: top;\n    }\n\n    .dataframe thead th {\n        text-align: right;\n    }\n</style>\n<table border=\"1\" class=\"dataframe\">\n  <thead>\n    <tr style=\"text-align: right;\">\n      <th></th>\n      <th>Sales</th>\n    </tr>\n    <tr>\n      <th>Company</th>\n      <th></th>\n    </tr>\n  </thead>\n  <tbody>\n    <tr>\n      <th>FB</th>\n      <td>296.5</td>\n    </tr>\n    <tr>\n      <th>GOOG</th>\n      <td>160.0</td>\n    </tr>\n    <tr>\n      <th>MSFT</th>\n      <td>232.0</td>\n    </tr>\n  </tbody>\n</table>\n</div>"
     },
     "execution_count": 55,
     "metadata": {},
     "output_type": "execute_result"
    }
   ],
   "source": [
    "df_group.mean()"
   ]
  },
  {
   "cell_type": "code",
   "execution_count": 56,
   "metadata": {
    "pycharm": {
     "name": "#%%\n"
    }
   },
   "outputs": [
    {
     "data": {
      "text/plain": "         Sales\nCompany       \nFB         593\nGOOG       320\nMSFT       464",
      "text/html": "<div>\n<style scoped>\n    .dataframe tbody tr th:only-of-type {\n        vertical-align: middle;\n    }\n\n    .dataframe tbody tr th {\n        vertical-align: top;\n    }\n\n    .dataframe thead th {\n        text-align: right;\n    }\n</style>\n<table border=\"1\" class=\"dataframe\">\n  <thead>\n    <tr style=\"text-align: right;\">\n      <th></th>\n      <th>Sales</th>\n    </tr>\n    <tr>\n      <th>Company</th>\n      <th></th>\n    </tr>\n  </thead>\n  <tbody>\n    <tr>\n      <th>FB</th>\n      <td>593</td>\n    </tr>\n    <tr>\n      <th>GOOG</th>\n      <td>320</td>\n    </tr>\n    <tr>\n      <th>MSFT</th>\n      <td>464</td>\n    </tr>\n  </tbody>\n</table>\n</div>"
     },
     "execution_count": 56,
     "metadata": {},
     "output_type": "execute_result"
    }
   ],
   "source": [
    "df_group.sum()"
   ]
  },
  {
   "cell_type": "code",
   "execution_count": 57,
   "metadata": {
    "pycharm": {
     "name": "#%%\n"
    }
   },
   "outputs": [
    {
     "data": {
      "text/plain": "  Company Person  Sales\n4      FB   Carl    243\n5      FB  Sarah    350",
      "text/html": "<div>\n<style scoped>\n    .dataframe tbody tr th:only-of-type {\n        vertical-align: middle;\n    }\n\n    .dataframe tbody tr th {\n        vertical-align: top;\n    }\n\n    .dataframe thead th {\n        text-align: right;\n    }\n</style>\n<table border=\"1\" class=\"dataframe\">\n  <thead>\n    <tr style=\"text-align: right;\">\n      <th></th>\n      <th>Company</th>\n      <th>Person</th>\n      <th>Sales</th>\n    </tr>\n  </thead>\n  <tbody>\n    <tr>\n      <th>4</th>\n      <td>FB</td>\n      <td>Carl</td>\n      <td>243</td>\n    </tr>\n    <tr>\n      <th>5</th>\n      <td>FB</td>\n      <td>Sarah</td>\n      <td>350</td>\n    </tr>\n  </tbody>\n</table>\n</div>"
     },
     "execution_count": 57,
     "metadata": {},
     "output_type": "execute_result"
    }
   ],
   "source": [
    "df_group.get_group('FB')"
   ]
  },
  {
   "cell_type": "markdown",
   "metadata": {
    "pycharm": {
     "name": "#%% md\n"
    }
   },
   "source": [
    "## 3.7 Merging, Joining, and Concatenating"
   ]
  },
  {
   "cell_type": "code",
   "execution_count": 58,
   "metadata": {
    "pycharm": {
     "name": "#%%\n"
    }
   },
   "outputs": [],
   "source": [
    "df1 = pd.DataFrame({'A':['A0', 'A1', 'A2', 'A3'],\n",
    "                    'B':['B0', 'B1', 'B2', 'B3'],\n",
    "                    'C':['C0', 'C1', 'C2', 'C3'],\n",
    "                    'D':['D0', 'D1', 'D2', 'D3'],\n",
    "                    }, index = [0,1,2,3])\n",
    "\n",
    "df2 = pd.DataFrame({'A':['A4', 'A5', 'A6', 'A7'],\n",
    "                    'B':['B4', 'B5', 'B6', 'B7'],\n",
    "                    'C':['C4', 'C5', 'C6', 'C7'],\n",
    "                    'D':['D4', 'D5', 'D6', 'D7'],\n",
    "                    }, index = [4,5,6,7])\n",
    "\n",
    "df3 = pd.DataFrame({'A':['A8', 'A9', 'A10', 'A11'],\n",
    "                    'B':['B8', 'B9', 'B10', 'B11'],\n",
    "                    'C':['C8', 'C9', 'C10', 'C11'],\n",
    "                    'D':['D8', 'D9', 'D10', 'D11'],\n",
    "                    }, index = [8,9,10,11])"
   ]
  },
  {
   "cell_type": "code",
   "execution_count": 62,
   "metadata": {
    "pycharm": {
     "name": "#%%\n"
    }
   },
   "outputs": [
    {
     "data": {
      "text/plain": "      A    B    C    D\n0    A0   B0   C0   D0\n1    A1   B1   C1   D1\n2    A2   B2   C2   D2\n3    A3   B3   C3   D3\n4    A4   B4   C4   D4\n5    A5   B5   C5   D5\n6    A6   B6   C6   D6\n7    A7   B7   C7   D7\n8    A8   B8   C8   D8\n9    A9   B9   C9   D9\n10  A10  B10  C10  D10\n11  A11  B11  C11  D11",
      "text/html": "<div>\n<style scoped>\n    .dataframe tbody tr th:only-of-type {\n        vertical-align: middle;\n    }\n\n    .dataframe tbody tr th {\n        vertical-align: top;\n    }\n\n    .dataframe thead th {\n        text-align: right;\n    }\n</style>\n<table border=\"1\" class=\"dataframe\">\n  <thead>\n    <tr style=\"text-align: right;\">\n      <th></th>\n      <th>A</th>\n      <th>B</th>\n      <th>C</th>\n      <th>D</th>\n    </tr>\n  </thead>\n  <tbody>\n    <tr>\n      <th>0</th>\n      <td>A0</td>\n      <td>B0</td>\n      <td>C0</td>\n      <td>D0</td>\n    </tr>\n    <tr>\n      <th>1</th>\n      <td>A1</td>\n      <td>B1</td>\n      <td>C1</td>\n      <td>D1</td>\n    </tr>\n    <tr>\n      <th>2</th>\n      <td>A2</td>\n      <td>B2</td>\n      <td>C2</td>\n      <td>D2</td>\n    </tr>\n    <tr>\n      <th>3</th>\n      <td>A3</td>\n      <td>B3</td>\n      <td>C3</td>\n      <td>D3</td>\n    </tr>\n    <tr>\n      <th>4</th>\n      <td>A4</td>\n      <td>B4</td>\n      <td>C4</td>\n      <td>D4</td>\n    </tr>\n    <tr>\n      <th>5</th>\n      <td>A5</td>\n      <td>B5</td>\n      <td>C5</td>\n      <td>D5</td>\n    </tr>\n    <tr>\n      <th>6</th>\n      <td>A6</td>\n      <td>B6</td>\n      <td>C6</td>\n      <td>D6</td>\n    </tr>\n    <tr>\n      <th>7</th>\n      <td>A7</td>\n      <td>B7</td>\n      <td>C7</td>\n      <td>D7</td>\n    </tr>\n    <tr>\n      <th>8</th>\n      <td>A8</td>\n      <td>B8</td>\n      <td>C8</td>\n      <td>D8</td>\n    </tr>\n    <tr>\n      <th>9</th>\n      <td>A9</td>\n      <td>B9</td>\n      <td>C9</td>\n      <td>D9</td>\n    </tr>\n    <tr>\n      <th>10</th>\n      <td>A10</td>\n      <td>B10</td>\n      <td>C10</td>\n      <td>D10</td>\n    </tr>\n    <tr>\n      <th>11</th>\n      <td>A11</td>\n      <td>B11</td>\n      <td>C11</td>\n      <td>D11</td>\n    </tr>\n  </tbody>\n</table>\n</div>"
     },
     "execution_count": 62,
     "metadata": {},
     "output_type": "execute_result"
    }
   ],
   "source": [
    "pd.concat([df1, df2, df3])"
   ]
  },
  {
   "cell_type": "code",
   "execution_count": 63,
   "metadata": {
    "pycharm": {
     "name": "#%%\n"
    }
   },
   "outputs": [
    {
     "data": {
      "text/plain": "      A    B    C    D    A    B    C    D    A    B    C    D\n0    A0   B0   C0   D0  NaN  NaN  NaN  NaN  NaN  NaN  NaN  NaN\n1    A1   B1   C1   D1  NaN  NaN  NaN  NaN  NaN  NaN  NaN  NaN\n2    A2   B2   C2   D2  NaN  NaN  NaN  NaN  NaN  NaN  NaN  NaN\n3    A3   B3   C3   D3  NaN  NaN  NaN  NaN  NaN  NaN  NaN  NaN\n4   NaN  NaN  NaN  NaN   A4   B4   C4   D4  NaN  NaN  NaN  NaN\n5   NaN  NaN  NaN  NaN   A5   B5   C5   D5  NaN  NaN  NaN  NaN\n6   NaN  NaN  NaN  NaN   A6   B6   C6   D6  NaN  NaN  NaN  NaN\n7   NaN  NaN  NaN  NaN   A7   B7   C7   D7  NaN  NaN  NaN  NaN\n8   NaN  NaN  NaN  NaN  NaN  NaN  NaN  NaN   A8   B8   C8   D8\n9   NaN  NaN  NaN  NaN  NaN  NaN  NaN  NaN   A9   B9   C9   D9\n10  NaN  NaN  NaN  NaN  NaN  NaN  NaN  NaN  A10  B10  C10  D10\n11  NaN  NaN  NaN  NaN  NaN  NaN  NaN  NaN  A11  B11  C11  D11",
      "text/html": "<div>\n<style scoped>\n    .dataframe tbody tr th:only-of-type {\n        vertical-align: middle;\n    }\n\n    .dataframe tbody tr th {\n        vertical-align: top;\n    }\n\n    .dataframe thead th {\n        text-align: right;\n    }\n</style>\n<table border=\"1\" class=\"dataframe\">\n  <thead>\n    <tr style=\"text-align: right;\">\n      <th></th>\n      <th>A</th>\n      <th>B</th>\n      <th>C</th>\n      <th>D</th>\n      <th>A</th>\n      <th>B</th>\n      <th>C</th>\n      <th>D</th>\n      <th>A</th>\n      <th>B</th>\n      <th>C</th>\n      <th>D</th>\n    </tr>\n  </thead>\n  <tbody>\n    <tr>\n      <th>0</th>\n      <td>A0</td>\n      <td>B0</td>\n      <td>C0</td>\n      <td>D0</td>\n      <td>NaN</td>\n      <td>NaN</td>\n      <td>NaN</td>\n      <td>NaN</td>\n      <td>NaN</td>\n      <td>NaN</td>\n      <td>NaN</td>\n      <td>NaN</td>\n    </tr>\n    <tr>\n      <th>1</th>\n      <td>A1</td>\n      <td>B1</td>\n      <td>C1</td>\n      <td>D1</td>\n      <td>NaN</td>\n      <td>NaN</td>\n      <td>NaN</td>\n      <td>NaN</td>\n      <td>NaN</td>\n      <td>NaN</td>\n      <td>NaN</td>\n      <td>NaN</td>\n    </tr>\n    <tr>\n      <th>2</th>\n      <td>A2</td>\n      <td>B2</td>\n      <td>C2</td>\n      <td>D2</td>\n      <td>NaN</td>\n      <td>NaN</td>\n      <td>NaN</td>\n      <td>NaN</td>\n      <td>NaN</td>\n      <td>NaN</td>\n      <td>NaN</td>\n      <td>NaN</td>\n    </tr>\n    <tr>\n      <th>3</th>\n      <td>A3</td>\n      <td>B3</td>\n      <td>C3</td>\n      <td>D3</td>\n      <td>NaN</td>\n      <td>NaN</td>\n      <td>NaN</td>\n      <td>NaN</td>\n      <td>NaN</td>\n      <td>NaN</td>\n      <td>NaN</td>\n      <td>NaN</td>\n    </tr>\n    <tr>\n      <th>4</th>\n      <td>NaN</td>\n      <td>NaN</td>\n      <td>NaN</td>\n      <td>NaN</td>\n      <td>A4</td>\n      <td>B4</td>\n      <td>C4</td>\n      <td>D4</td>\n      <td>NaN</td>\n      <td>NaN</td>\n      <td>NaN</td>\n      <td>NaN</td>\n    </tr>\n    <tr>\n      <th>5</th>\n      <td>NaN</td>\n      <td>NaN</td>\n      <td>NaN</td>\n      <td>NaN</td>\n      <td>A5</td>\n      <td>B5</td>\n      <td>C5</td>\n      <td>D5</td>\n      <td>NaN</td>\n      <td>NaN</td>\n      <td>NaN</td>\n      <td>NaN</td>\n    </tr>\n    <tr>\n      <th>6</th>\n      <td>NaN</td>\n      <td>NaN</td>\n      <td>NaN</td>\n      <td>NaN</td>\n      <td>A6</td>\n      <td>B6</td>\n      <td>C6</td>\n      <td>D6</td>\n      <td>NaN</td>\n      <td>NaN</td>\n      <td>NaN</td>\n      <td>NaN</td>\n    </tr>\n    <tr>\n      <th>7</th>\n      <td>NaN</td>\n      <td>NaN</td>\n      <td>NaN</td>\n      <td>NaN</td>\n      <td>A7</td>\n      <td>B7</td>\n      <td>C7</td>\n      <td>D7</td>\n      <td>NaN</td>\n      <td>NaN</td>\n      <td>NaN</td>\n      <td>NaN</td>\n    </tr>\n    <tr>\n      <th>8</th>\n      <td>NaN</td>\n      <td>NaN</td>\n      <td>NaN</td>\n      <td>NaN</td>\n      <td>NaN</td>\n      <td>NaN</td>\n      <td>NaN</td>\n      <td>NaN</td>\n      <td>A8</td>\n      <td>B8</td>\n      <td>C8</td>\n      <td>D8</td>\n    </tr>\n    <tr>\n      <th>9</th>\n      <td>NaN</td>\n      <td>NaN</td>\n      <td>NaN</td>\n      <td>NaN</td>\n      <td>NaN</td>\n      <td>NaN</td>\n      <td>NaN</td>\n      <td>NaN</td>\n      <td>A9</td>\n      <td>B9</td>\n      <td>C9</td>\n      <td>D9</td>\n    </tr>\n    <tr>\n      <th>10</th>\n      <td>NaN</td>\n      <td>NaN</td>\n      <td>NaN</td>\n      <td>NaN</td>\n      <td>NaN</td>\n      <td>NaN</td>\n      <td>NaN</td>\n      <td>NaN</td>\n      <td>A10</td>\n      <td>B10</td>\n      <td>C10</td>\n      <td>D10</td>\n    </tr>\n    <tr>\n      <th>11</th>\n      <td>NaN</td>\n      <td>NaN</td>\n      <td>NaN</td>\n      <td>NaN</td>\n      <td>NaN</td>\n      <td>NaN</td>\n      <td>NaN</td>\n      <td>NaN</td>\n      <td>A11</td>\n      <td>B11</td>\n      <td>C11</td>\n      <td>D11</td>\n    </tr>\n  </tbody>\n</table>\n</div>"
     },
     "execution_count": 63,
     "metadata": {},
     "output_type": "execute_result"
    }
   ],
   "source": [
    "pd.concat([df1, df2, df3], axis=1)"
   ]
  },
  {
   "cell_type": "code",
   "execution_count": 64,
   "metadata": {
    "pycharm": {
     "name": "#%%\n"
    }
   },
   "outputs": [
    {
     "data": {
      "text/plain": "  key   A   B\n0  K0  A0  B0\n1  K1  A1  B1\n2  K2  A2  B2\n3  K3  A3  B3",
      "text/html": "<div>\n<style scoped>\n    .dataframe tbody tr th:only-of-type {\n        vertical-align: middle;\n    }\n\n    .dataframe tbody tr th {\n        vertical-align: top;\n    }\n\n    .dataframe thead th {\n        text-align: right;\n    }\n</style>\n<table border=\"1\" class=\"dataframe\">\n  <thead>\n    <tr style=\"text-align: right;\">\n      <th></th>\n      <th>key</th>\n      <th>A</th>\n      <th>B</th>\n    </tr>\n  </thead>\n  <tbody>\n    <tr>\n      <th>0</th>\n      <td>K0</td>\n      <td>A0</td>\n      <td>B0</td>\n    </tr>\n    <tr>\n      <th>1</th>\n      <td>K1</td>\n      <td>A1</td>\n      <td>B1</td>\n    </tr>\n    <tr>\n      <th>2</th>\n      <td>K2</td>\n      <td>A2</td>\n      <td>B2</td>\n    </tr>\n    <tr>\n      <th>3</th>\n      <td>K3</td>\n      <td>A3</td>\n      <td>B3</td>\n    </tr>\n  </tbody>\n</table>\n</div>"
     },
     "execution_count": 64,
     "metadata": {},
     "output_type": "execute_result"
    }
   ],
   "source": [
    "left = pd.DataFrame({'key':['K0','K1','K2','K3'],\n",
    "                     'A':['A0','A1','A2','A3'],\n",
    "                     'B':['B0','B1','B2','B3']})\n",
    "left"
   ]
  },
  {
   "cell_type": "code",
   "execution_count": 65,
   "metadata": {
    "pycharm": {
     "name": "#%%\n"
    }
   },
   "outputs": [
    {
     "data": {
      "text/plain": "  key   C   D\n0  K0  C0  D0\n1  K1  C1  D1\n2  K2  C2  D2\n3  K3  C3  D3",
      "text/html": "<div>\n<style scoped>\n    .dataframe tbody tr th:only-of-type {\n        vertical-align: middle;\n    }\n\n    .dataframe tbody tr th {\n        vertical-align: top;\n    }\n\n    .dataframe thead th {\n        text-align: right;\n    }\n</style>\n<table border=\"1\" class=\"dataframe\">\n  <thead>\n    <tr style=\"text-align: right;\">\n      <th></th>\n      <th>key</th>\n      <th>C</th>\n      <th>D</th>\n    </tr>\n  </thead>\n  <tbody>\n    <tr>\n      <th>0</th>\n      <td>K0</td>\n      <td>C0</td>\n      <td>D0</td>\n    </tr>\n    <tr>\n      <th>1</th>\n      <td>K1</td>\n      <td>C1</td>\n      <td>D1</td>\n    </tr>\n    <tr>\n      <th>2</th>\n      <td>K2</td>\n      <td>C2</td>\n      <td>D2</td>\n    </tr>\n    <tr>\n      <th>3</th>\n      <td>K3</td>\n      <td>C3</td>\n      <td>D3</td>\n    </tr>\n  </tbody>\n</table>\n</div>"
     },
     "execution_count": 65,
     "metadata": {},
     "output_type": "execute_result"
    }
   ],
   "source": [
    "right = pd.DataFrame({'key':['K0','K1','K2','K3'],\n",
    "                      'C':['C0','C1','C2','C3'],\n",
    "                      'D':['D0','D1','D2','D3']})\n",
    "right"
   ]
  },
  {
   "cell_type": "code",
   "execution_count": 67,
   "metadata": {
    "pycharm": {
     "name": "#%%\n"
    }
   },
   "outputs": [
    {
     "data": {
      "text/plain": "  key   A   B   C   D\n0  K0  A0  B0  C0  D0\n1  K1  A1  B1  C1  D1\n2  K2  A2  B2  C2  D2\n3  K3  A3  B3  C3  D3",
      "text/html": "<div>\n<style scoped>\n    .dataframe tbody tr th:only-of-type {\n        vertical-align: middle;\n    }\n\n    .dataframe tbody tr th {\n        vertical-align: top;\n    }\n\n    .dataframe thead th {\n        text-align: right;\n    }\n</style>\n<table border=\"1\" class=\"dataframe\">\n  <thead>\n    <tr style=\"text-align: right;\">\n      <th></th>\n      <th>key</th>\n      <th>A</th>\n      <th>B</th>\n      <th>C</th>\n      <th>D</th>\n    </tr>\n  </thead>\n  <tbody>\n    <tr>\n      <th>0</th>\n      <td>K0</td>\n      <td>A0</td>\n      <td>B0</td>\n      <td>C0</td>\n      <td>D0</td>\n    </tr>\n    <tr>\n      <th>1</th>\n      <td>K1</td>\n      <td>A1</td>\n      <td>B1</td>\n      <td>C1</td>\n      <td>D1</td>\n    </tr>\n    <tr>\n      <th>2</th>\n      <td>K2</td>\n      <td>A2</td>\n      <td>B2</td>\n      <td>C2</td>\n      <td>D2</td>\n    </tr>\n    <tr>\n      <th>3</th>\n      <td>K3</td>\n      <td>A3</td>\n      <td>B3</td>\n      <td>C3</td>\n      <td>D3</td>\n    </tr>\n  </tbody>\n</table>\n</div>"
     },
     "execution_count": 67,
     "metadata": {},
     "output_type": "execute_result"
    }
   ],
   "source": [
    "pd.merge(left, right, how='inner', on='key')"
   ]
  },
  {
   "cell_type": "code",
   "execution_count": 68,
   "metadata": {
    "pycharm": {
     "name": "#%%\n"
    }
   },
   "outputs": [
    {
     "data": {
      "text/plain": "     A   B\nK0  A0  B0\nK1  A1  B1\nK2  A2  B2\nK3  A3  B3",
      "text/html": "<div>\n<style scoped>\n    .dataframe tbody tr th:only-of-type {\n        vertical-align: middle;\n    }\n\n    .dataframe tbody tr th {\n        vertical-align: top;\n    }\n\n    .dataframe thead th {\n        text-align: right;\n    }\n</style>\n<table border=\"1\" class=\"dataframe\">\n  <thead>\n    <tr style=\"text-align: right;\">\n      <th></th>\n      <th>A</th>\n      <th>B</th>\n    </tr>\n  </thead>\n  <tbody>\n    <tr>\n      <th>K0</th>\n      <td>A0</td>\n      <td>B0</td>\n    </tr>\n    <tr>\n      <th>K1</th>\n      <td>A1</td>\n      <td>B1</td>\n    </tr>\n    <tr>\n      <th>K2</th>\n      <td>A2</td>\n      <td>B2</td>\n    </tr>\n    <tr>\n      <th>K3</th>\n      <td>A3</td>\n      <td>B3</td>\n    </tr>\n  </tbody>\n</table>\n</div>"
     },
     "execution_count": 68,
     "metadata": {},
     "output_type": "execute_result"
    }
   ],
   "source": [
    "left = pd.DataFrame({'A':['A0','A1','A2','A3'],\n",
    "                     'B':['B0','B1','B2','B3']\n",
    "                     }, index = ['K0','K1','K2','K3'])\n",
    "left"
   ]
  },
  {
   "cell_type": "code",
   "execution_count": 69,
   "metadata": {
    "pycharm": {
     "name": "#%%\n"
    }
   },
   "outputs": [
    {
     "data": {
      "text/plain": "     C   D\nK0  C0  D0\nK2  C2  D2\nK4  C4  D4\nK5  C5  D5",
      "text/html": "<div>\n<style scoped>\n    .dataframe tbody tr th:only-of-type {\n        vertical-align: middle;\n    }\n\n    .dataframe tbody tr th {\n        vertical-align: top;\n    }\n\n    .dataframe thead th {\n        text-align: right;\n    }\n</style>\n<table border=\"1\" class=\"dataframe\">\n  <thead>\n    <tr style=\"text-align: right;\">\n      <th></th>\n      <th>C</th>\n      <th>D</th>\n    </tr>\n  </thead>\n  <tbody>\n    <tr>\n      <th>K0</th>\n      <td>C0</td>\n      <td>D0</td>\n    </tr>\n    <tr>\n      <th>K2</th>\n      <td>C2</td>\n      <td>D2</td>\n    </tr>\n    <tr>\n      <th>K4</th>\n      <td>C4</td>\n      <td>D4</td>\n    </tr>\n    <tr>\n      <th>K5</th>\n      <td>C5</td>\n      <td>D5</td>\n    </tr>\n  </tbody>\n</table>\n</div>"
     },
     "execution_count": 69,
     "metadata": {},
     "output_type": "execute_result"
    }
   ],
   "source": [
    "right = pd.DataFrame({'C':['C0','C2','C4','C5'],\n",
    "                      'D':['D0','D2','D4','D5']\n",
    "                      }, index = ['K0','K2','K4','K5'])\n",
    "right"
   ]
  },
  {
   "cell_type": "code",
   "execution_count": 70,
   "metadata": {
    "pycharm": {
     "name": "#%%\n"
    }
   },
   "outputs": [
    {
     "data": {
      "text/plain": "     A   B    C    D\nK0  A0  B0   C0   D0\nK1  A1  B1  NaN  NaN\nK2  A2  B2   C2   D2\nK3  A3  B3  NaN  NaN",
      "text/html": "<div>\n<style scoped>\n    .dataframe tbody tr th:only-of-type {\n        vertical-align: middle;\n    }\n\n    .dataframe tbody tr th {\n        vertical-align: top;\n    }\n\n    .dataframe thead th {\n        text-align: right;\n    }\n</style>\n<table border=\"1\" class=\"dataframe\">\n  <thead>\n    <tr style=\"text-align: right;\">\n      <th></th>\n      <th>A</th>\n      <th>B</th>\n      <th>C</th>\n      <th>D</th>\n    </tr>\n  </thead>\n  <tbody>\n    <tr>\n      <th>K0</th>\n      <td>A0</td>\n      <td>B0</td>\n      <td>C0</td>\n      <td>D0</td>\n    </tr>\n    <tr>\n      <th>K1</th>\n      <td>A1</td>\n      <td>B1</td>\n      <td>NaN</td>\n      <td>NaN</td>\n    </tr>\n    <tr>\n      <th>K2</th>\n      <td>A2</td>\n      <td>B2</td>\n      <td>C2</td>\n      <td>D2</td>\n    </tr>\n    <tr>\n      <th>K3</th>\n      <td>A3</td>\n      <td>B3</td>\n      <td>NaN</td>\n      <td>NaN</td>\n    </tr>\n  </tbody>\n</table>\n</div>"
     },
     "execution_count": 70,
     "metadata": {},
     "output_type": "execute_result"
    }
   ],
   "source": [
    "left.join(right)"
   ]
  },
  {
   "cell_type": "code",
   "execution_count": 71,
   "metadata": {
    "pycharm": {
     "name": "#%%\n"
    }
   },
   "outputs": [
    {
     "data": {
      "text/plain": "     C   D    A    B\nK0  C0  D0   A0   B0\nK2  C2  D2   A2   B2\nK4  C4  D4  NaN  NaN\nK5  C5  D5  NaN  NaN",
      "text/html": "<div>\n<style scoped>\n    .dataframe tbody tr th:only-of-type {\n        vertical-align: middle;\n    }\n\n    .dataframe tbody tr th {\n        vertical-align: top;\n    }\n\n    .dataframe thead th {\n        text-align: right;\n    }\n</style>\n<table border=\"1\" class=\"dataframe\">\n  <thead>\n    <tr style=\"text-align: right;\">\n      <th></th>\n      <th>C</th>\n      <th>D</th>\n      <th>A</th>\n      <th>B</th>\n    </tr>\n  </thead>\n  <tbody>\n    <tr>\n      <th>K0</th>\n      <td>C0</td>\n      <td>D0</td>\n      <td>A0</td>\n      <td>B0</td>\n    </tr>\n    <tr>\n      <th>K2</th>\n      <td>C2</td>\n      <td>D2</td>\n      <td>A2</td>\n      <td>B2</td>\n    </tr>\n    <tr>\n      <th>K4</th>\n      <td>C4</td>\n      <td>D4</td>\n      <td>NaN</td>\n      <td>NaN</td>\n    </tr>\n    <tr>\n      <th>K5</th>\n      <td>C5</td>\n      <td>D5</td>\n      <td>NaN</td>\n      <td>NaN</td>\n    </tr>\n  </tbody>\n</table>\n</div>"
     },
     "execution_count": 71,
     "metadata": {},
     "output_type": "execute_result"
    }
   ],
   "source": [
    "right.join(left)"
   ]
  },
  {
   "cell_type": "code",
   "execution_count": 72,
   "metadata": {
    "pycharm": {
     "name": "#%%\n"
    }
   },
   "outputs": [
    {
     "data": {
      "text/plain": "      A    B    C    D\nK0   A0   B0   C0   D0\nK1   A1   B1  NaN  NaN\nK2   A2   B2   C2   D2\nK3   A3   B3  NaN  NaN\nK4  NaN  NaN   C4   D4\nK5  NaN  NaN   C5   D5",
      "text/html": "<div>\n<style scoped>\n    .dataframe tbody tr th:only-of-type {\n        vertical-align: middle;\n    }\n\n    .dataframe tbody tr th {\n        vertical-align: top;\n    }\n\n    .dataframe thead th {\n        text-align: right;\n    }\n</style>\n<table border=\"1\" class=\"dataframe\">\n  <thead>\n    <tr style=\"text-align: right;\">\n      <th></th>\n      <th>A</th>\n      <th>B</th>\n      <th>C</th>\n      <th>D</th>\n    </tr>\n  </thead>\n  <tbody>\n    <tr>\n      <th>K0</th>\n      <td>A0</td>\n      <td>B0</td>\n      <td>C0</td>\n      <td>D0</td>\n    </tr>\n    <tr>\n      <th>K1</th>\n      <td>A1</td>\n      <td>B1</td>\n      <td>NaN</td>\n      <td>NaN</td>\n    </tr>\n    <tr>\n      <th>K2</th>\n      <td>A2</td>\n      <td>B2</td>\n      <td>C2</td>\n      <td>D2</td>\n    </tr>\n    <tr>\n      <th>K3</th>\n      <td>A3</td>\n      <td>B3</td>\n      <td>NaN</td>\n      <td>NaN</td>\n    </tr>\n    <tr>\n      <th>K4</th>\n      <td>NaN</td>\n      <td>NaN</td>\n      <td>C4</td>\n      <td>D4</td>\n    </tr>\n    <tr>\n      <th>K5</th>\n      <td>NaN</td>\n      <td>NaN</td>\n      <td>C5</td>\n      <td>D5</td>\n    </tr>\n  </tbody>\n</table>\n</div>"
     },
     "execution_count": 72,
     "metadata": {},
     "output_type": "execute_result"
    }
   ],
   "source": [
    "left.join(right, how='outer')"
   ]
  },
  {
   "cell_type": "code",
   "execution_count": 73,
   "metadata": {
    "pycharm": {
     "name": "#%%\n"
    }
   },
   "outputs": [
    {
     "data": {
      "text/plain": "     A   B   C   D\nK0  A0  B0  C0  D0\nK2  A2  B2  C2  D2",
      "text/html": "<div>\n<style scoped>\n    .dataframe tbody tr th:only-of-type {\n        vertical-align: middle;\n    }\n\n    .dataframe tbody tr th {\n        vertical-align: top;\n    }\n\n    .dataframe thead th {\n        text-align: right;\n    }\n</style>\n<table border=\"1\" class=\"dataframe\">\n  <thead>\n    <tr style=\"text-align: right;\">\n      <th></th>\n      <th>A</th>\n      <th>B</th>\n      <th>C</th>\n      <th>D</th>\n    </tr>\n  </thead>\n  <tbody>\n    <tr>\n      <th>K0</th>\n      <td>A0</td>\n      <td>B0</td>\n      <td>C0</td>\n      <td>D0</td>\n    </tr>\n    <tr>\n      <th>K2</th>\n      <td>A2</td>\n      <td>B2</td>\n      <td>C2</td>\n      <td>D2</td>\n    </tr>\n  </tbody>\n</table>\n</div>"
     },
     "execution_count": 73,
     "metadata": {},
     "output_type": "execute_result"
    }
   ],
   "source": [
    "left.join(right, how='inner')"
   ]
  },
  {
   "cell_type": "markdown",
   "source": [
    "## 3.8 Operations"
   ],
   "metadata": {
    "collapsed": false,
    "pycharm": {
     "name": "#%% md\n"
    }
   }
  },
  {
   "cell_type": "markdown",
   "source": [
    "### 3.8.1 apply function"
   ],
   "metadata": {
    "collapsed": false,
    "pycharm": {
     "name": "#%% md\n"
    }
   }
  },
  {
   "cell_type": "code",
   "execution_count": 74,
   "outputs": [
    {
     "data": {
      "text/plain": "   col1  col2 col3\n0     1   444  abc\n1     2   555  def\n2     3   666  ghi\n3     4   444  xyz",
      "text/html": "<div>\n<style scoped>\n    .dataframe tbody tr th:only-of-type {\n        vertical-align: middle;\n    }\n\n    .dataframe tbody tr th {\n        vertical-align: top;\n    }\n\n    .dataframe thead th {\n        text-align: right;\n    }\n</style>\n<table border=\"1\" class=\"dataframe\">\n  <thead>\n    <tr style=\"text-align: right;\">\n      <th></th>\n      <th>col1</th>\n      <th>col2</th>\n      <th>col3</th>\n    </tr>\n  </thead>\n  <tbody>\n    <tr>\n      <th>0</th>\n      <td>1</td>\n      <td>444</td>\n      <td>abc</td>\n    </tr>\n    <tr>\n      <th>1</th>\n      <td>2</td>\n      <td>555</td>\n      <td>def</td>\n    </tr>\n    <tr>\n      <th>2</th>\n      <td>3</td>\n      <td>666</td>\n      <td>ghi</td>\n    </tr>\n    <tr>\n      <th>3</th>\n      <td>4</td>\n      <td>444</td>\n      <td>xyz</td>\n    </tr>\n  </tbody>\n</table>\n</div>"
     },
     "execution_count": 74,
     "metadata": {},
     "output_type": "execute_result"
    }
   ],
   "source": [
    "df = pd.DataFrame({\n",
    "    'col1': [1, 2, 3, 4],\n",
    "    'col2': [444, 555, 666, 444],\n",
    "    'col3': ['abc', 'def', 'ghi', 'xyz']\n",
    "})\n",
    "df"
   ],
   "metadata": {
    "collapsed": false,
    "pycharm": {
     "name": "#%%\n"
    }
   }
  },
  {
   "cell_type": "code",
   "execution_count": 77,
   "outputs": [],
   "source": [
    "# col2 * 2 and store it in col 4"
   ],
   "metadata": {
    "collapsed": false,
    "pycharm": {
     "name": "#%%\n"
    }
   }
  },
  {
   "cell_type": "code",
   "execution_count": 78,
   "outputs": [],
   "source": [
    "df['col4'] = df['col2'].apply(lambda x: x * 2)"
   ],
   "metadata": {
    "collapsed": false,
    "pycharm": {
     "name": "#%%\n"
    }
   }
  },
  {
   "cell_type": "code",
   "execution_count": 79,
   "outputs": [
    {
     "data": {
      "text/plain": "   col1  col2 col3  col4\n0     1   444  abc   888\n1     2   555  def  1110\n2     3   666  ghi  1332\n3     4   444  xyz   888",
      "text/html": "<div>\n<style scoped>\n    .dataframe tbody tr th:only-of-type {\n        vertical-align: middle;\n    }\n\n    .dataframe tbody tr th {\n        vertical-align: top;\n    }\n\n    .dataframe thead th {\n        text-align: right;\n    }\n</style>\n<table border=\"1\" class=\"dataframe\">\n  <thead>\n    <tr style=\"text-align: right;\">\n      <th></th>\n      <th>col1</th>\n      <th>col2</th>\n      <th>col3</th>\n      <th>col4</th>\n    </tr>\n  </thead>\n  <tbody>\n    <tr>\n      <th>0</th>\n      <td>1</td>\n      <td>444</td>\n      <td>abc</td>\n      <td>888</td>\n    </tr>\n    <tr>\n      <th>1</th>\n      <td>2</td>\n      <td>555</td>\n      <td>def</td>\n      <td>1110</td>\n    </tr>\n    <tr>\n      <th>2</th>\n      <td>3</td>\n      <td>666</td>\n      <td>ghi</td>\n      <td>1332</td>\n    </tr>\n    <tr>\n      <th>3</th>\n      <td>4</td>\n      <td>444</td>\n      <td>xyz</td>\n      <td>888</td>\n    </tr>\n  </tbody>\n</table>\n</div>"
     },
     "execution_count": 79,
     "metadata": {},
     "output_type": "execute_result"
    }
   ],
   "source": [
    "df"
   ],
   "metadata": {
    "collapsed": false,
    "pycharm": {
     "name": "#%%\n"
    }
   }
  },
  {
   "cell_type": "markdown",
   "source": [
    "### 3.8.2 transform function"
   ],
   "metadata": {
    "collapsed": false,
    "pycharm": {
     "name": "#%% md\n"
    }
   }
  },
  {
   "cell_type": "code",
   "execution_count": 80,
   "outputs": [
    {
     "data": {
      "text/plain": "   col1  col2 col3\n0     1   444  abc\n1     2   555  def\n2     3   666  ghi\n3     4   444  xyz",
      "text/html": "<div>\n<style scoped>\n    .dataframe tbody tr th:only-of-type {\n        vertical-align: middle;\n    }\n\n    .dataframe tbody tr th {\n        vertical-align: top;\n    }\n\n    .dataframe thead th {\n        text-align: right;\n    }\n</style>\n<table border=\"1\" class=\"dataframe\">\n  <thead>\n    <tr style=\"text-align: right;\">\n      <th></th>\n      <th>col1</th>\n      <th>col2</th>\n      <th>col3</th>\n    </tr>\n  </thead>\n  <tbody>\n    <tr>\n      <th>0</th>\n      <td>1</td>\n      <td>444</td>\n      <td>abc</td>\n    </tr>\n    <tr>\n      <th>1</th>\n      <td>2</td>\n      <td>555</td>\n      <td>def</td>\n    </tr>\n    <tr>\n      <th>2</th>\n      <td>3</td>\n      <td>666</td>\n      <td>ghi</td>\n    </tr>\n    <tr>\n      <th>3</th>\n      <td>4</td>\n      <td>444</td>\n      <td>xyz</td>\n    </tr>\n  </tbody>\n</table>\n</div>"
     },
     "execution_count": 80,
     "metadata": {},
     "output_type": "execute_result"
    }
   ],
   "source": [
    "df = pd.DataFrame({\n",
    "    'col1': [1, 2, 3, 4],\n",
    "    'col2': [444, 555, 666, 444],\n",
    "    'col3': ['abc', 'def', 'ghi', 'xyz']\n",
    "})\n",
    "df"
   ],
   "metadata": {
    "collapsed": false,
    "pycharm": {
     "name": "#%%\n"
    }
   }
  },
  {
   "cell_type": "code",
   "execution_count": null,
   "outputs": [],
   "source": [
    "# col2 * 3 then *2 then store it in col4"
   ],
   "metadata": {
    "collapsed": false,
    "pycharm": {
     "name": "#%%\n"
    }
   }
  },
  {
   "cell_type": "code",
   "execution_count": 81,
   "outputs": [],
   "source": [
    "df['col4'] = df['col2'].transform([lambda x: x * 2, lambda x: x * 3])"
   ],
   "metadata": {
    "collapsed": false,
    "pycharm": {
     "name": "#%%\n"
    }
   }
  },
  {
   "cell_type": "code",
   "execution_count": 83,
   "outputs": [
    {
     "data": {
      "text/plain": "   col1  col2 col3  col4\n0     1   444  abc  1332\n1     2   555  def  1665\n2     3   666  ghi  1998\n3     4   444  xyz  1332",
      "text/html": "<div>\n<style scoped>\n    .dataframe tbody tr th:only-of-type {\n        vertical-align: middle;\n    }\n\n    .dataframe tbody tr th {\n        vertical-align: top;\n    }\n\n    .dataframe thead th {\n        text-align: right;\n    }\n</style>\n<table border=\"1\" class=\"dataframe\">\n  <thead>\n    <tr style=\"text-align: right;\">\n      <th></th>\n      <th>col1</th>\n      <th>col2</th>\n      <th>col3</th>\n      <th>col4</th>\n    </tr>\n  </thead>\n  <tbody>\n    <tr>\n      <th>0</th>\n      <td>1</td>\n      <td>444</td>\n      <td>abc</td>\n      <td>1332</td>\n    </tr>\n    <tr>\n      <th>1</th>\n      <td>2</td>\n      <td>555</td>\n      <td>def</td>\n      <td>1665</td>\n    </tr>\n    <tr>\n      <th>2</th>\n      <td>3</td>\n      <td>666</td>\n      <td>ghi</td>\n      <td>1998</td>\n    </tr>\n    <tr>\n      <th>3</th>\n      <td>4</td>\n      <td>444</td>\n      <td>xyz</td>\n      <td>1332</td>\n    </tr>\n  </tbody>\n</table>\n</div>"
     },
     "execution_count": 83,
     "metadata": {},
     "output_type": "execute_result"
    }
   ],
   "source": [
    "df"
   ],
   "metadata": {
    "collapsed": false,
    "pycharm": {
     "name": "#%%\n"
    }
   }
  },
  {
   "cell_type": "markdown",
   "source": [
    "## 3.9 Data Input and Output"
   ],
   "metadata": {
    "collapsed": false,
    "pycharm": {
     "name": "#%% md\n"
    }
   }
  },
  {
   "cell_type": "markdown",
   "source": [
    "### 3.9.1 Read data"
   ],
   "metadata": {
    "collapsed": false,
    "pycharm": {
     "name": "#%% md\n"
    }
   }
  },
  {
   "cell_type": "code",
   "execution_count": 84,
   "outputs": [
    {
     "data": {
      "text/plain": "         0      1  2\n0     0.85  17.45  2\n1     0.75  15.60  2\n2     3.30  15.45  2\n3     5.25  14.20  2\n4     4.90  15.65  2\n..     ...    ... ..\n368  38.75  16.85  1\n369  39.00  16.60  1\n370  38.25  17.35  1\n371  39.50  16.95  1\n372  39.90  17.05  1\n\n[373 rows x 3 columns]",
      "text/html": "<div>\n<style scoped>\n    .dataframe tbody tr th:only-of-type {\n        vertical-align: middle;\n    }\n\n    .dataframe tbody tr th {\n        vertical-align: top;\n    }\n\n    .dataframe thead th {\n        text-align: right;\n    }\n</style>\n<table border=\"1\" class=\"dataframe\">\n  <thead>\n    <tr style=\"text-align: right;\">\n      <th></th>\n      <th>0</th>\n      <th>1</th>\n      <th>2</th>\n    </tr>\n  </thead>\n  <tbody>\n    <tr>\n      <th>0</th>\n      <td>0.85</td>\n      <td>17.45</td>\n      <td>2</td>\n    </tr>\n    <tr>\n      <th>1</th>\n      <td>0.75</td>\n      <td>15.60</td>\n      <td>2</td>\n    </tr>\n    <tr>\n      <th>2</th>\n      <td>3.30</td>\n      <td>15.45</td>\n      <td>2</td>\n    </tr>\n    <tr>\n      <th>3</th>\n      <td>5.25</td>\n      <td>14.20</td>\n      <td>2</td>\n    </tr>\n    <tr>\n      <th>4</th>\n      <td>4.90</td>\n      <td>15.65</td>\n      <td>2</td>\n    </tr>\n    <tr>\n      <th>...</th>\n      <td>...</td>\n      <td>...</td>\n      <td>...</td>\n    </tr>\n    <tr>\n      <th>368</th>\n      <td>38.75</td>\n      <td>16.85</td>\n      <td>1</td>\n    </tr>\n    <tr>\n      <th>369</th>\n      <td>39.00</td>\n      <td>16.60</td>\n      <td>1</td>\n    </tr>\n    <tr>\n      <th>370</th>\n      <td>38.25</td>\n      <td>17.35</td>\n      <td>1</td>\n    </tr>\n    <tr>\n      <th>371</th>\n      <td>39.50</td>\n      <td>16.95</td>\n      <td>1</td>\n    </tr>\n    <tr>\n      <th>372</th>\n      <td>39.90</td>\n      <td>17.05</td>\n      <td>1</td>\n    </tr>\n  </tbody>\n</table>\n<p>373 rows × 3 columns</p>\n</div>"
     },
     "execution_count": 84,
     "metadata": {},
     "output_type": "execute_result"
    }
   ],
   "source": [
    "df = pd.read_csv('datasets/concave_dataset.txt', delimiter='\\t', header=None)\n",
    "df"
   ],
   "metadata": {
    "collapsed": false,
    "pycharm": {
     "name": "#%%\n"
    }
   }
  },
  {
   "cell_type": "code",
   "execution_count": 85,
   "outputs": [
    {
     "data": {
      "text/plain": "                         Bank NameBank           CityCity StateSt  CertCert  \\\n0                    Almena State Bank             Almena      KS     15426   \n1           First City Bank of Florida  Fort Walton Beach      FL     16748   \n2                 The First State Bank      Barboursville      WV     14361   \n3                   Ericson State Bank            Ericson      NE     18265   \n4     City National Bank of New Jersey             Newark      NJ     21111   \n..                                 ...                ...     ...       ...   \n558                 Superior Bank, FSB           Hinsdale      IL     32646   \n559                Malta National Bank              Malta      OH      6629   \n560    First Alliance Bank & Trust Co.         Manchester      NH     34264   \n561  National State Bank of Metropolis         Metropolis      IL      3815   \n562                   Bank of Honolulu           Honolulu      HI     21029   \n\n                 Acquiring InstitutionAI Closing DateClosing  FundFund  \n0                            Equity Bank    October 23, 2020     10538  \n1              United Fidelity Bank, fsb    October 16, 2020     10537  \n2                         MVB Bank, Inc.       April 3, 2020     10536  \n3             Farmers and Merchants Bank   February 14, 2020     10535  \n4                        Industrial Bank    November 1, 2019     10534  \n..                                   ...                 ...       ...  \n558                Superior Federal, FSB       July 27, 2001      6004  \n559                    North Valley Bank         May 3, 2001      4648  \n560  Southern New Hampshire Bank & Trust    February 2, 2001      4647  \n561              Banterra Bank of Marion   December 14, 2000      4646  \n562                   Bank of the Orient    October 13, 2000      4645  \n\n[563 rows x 7 columns]",
      "text/html": "<div>\n<style scoped>\n    .dataframe tbody tr th:only-of-type {\n        vertical-align: middle;\n    }\n\n    .dataframe tbody tr th {\n        vertical-align: top;\n    }\n\n    .dataframe thead th {\n        text-align: right;\n    }\n</style>\n<table border=\"1\" class=\"dataframe\">\n  <thead>\n    <tr style=\"text-align: right;\">\n      <th></th>\n      <th>Bank NameBank</th>\n      <th>CityCity</th>\n      <th>StateSt</th>\n      <th>CertCert</th>\n      <th>Acquiring InstitutionAI</th>\n      <th>Closing DateClosing</th>\n      <th>FundFund</th>\n    </tr>\n  </thead>\n  <tbody>\n    <tr>\n      <th>0</th>\n      <td>Almena State Bank</td>\n      <td>Almena</td>\n      <td>KS</td>\n      <td>15426</td>\n      <td>Equity Bank</td>\n      <td>October 23, 2020</td>\n      <td>10538</td>\n    </tr>\n    <tr>\n      <th>1</th>\n      <td>First City Bank of Florida</td>\n      <td>Fort Walton Beach</td>\n      <td>FL</td>\n      <td>16748</td>\n      <td>United Fidelity Bank, fsb</td>\n      <td>October 16, 2020</td>\n      <td>10537</td>\n    </tr>\n    <tr>\n      <th>2</th>\n      <td>The First State Bank</td>\n      <td>Barboursville</td>\n      <td>WV</td>\n      <td>14361</td>\n      <td>MVB Bank, Inc.</td>\n      <td>April 3, 2020</td>\n      <td>10536</td>\n    </tr>\n    <tr>\n      <th>3</th>\n      <td>Ericson State Bank</td>\n      <td>Ericson</td>\n      <td>NE</td>\n      <td>18265</td>\n      <td>Farmers and Merchants Bank</td>\n      <td>February 14, 2020</td>\n      <td>10535</td>\n    </tr>\n    <tr>\n      <th>4</th>\n      <td>City National Bank of New Jersey</td>\n      <td>Newark</td>\n      <td>NJ</td>\n      <td>21111</td>\n      <td>Industrial Bank</td>\n      <td>November 1, 2019</td>\n      <td>10534</td>\n    </tr>\n    <tr>\n      <th>...</th>\n      <td>...</td>\n      <td>...</td>\n      <td>...</td>\n      <td>...</td>\n      <td>...</td>\n      <td>...</td>\n      <td>...</td>\n    </tr>\n    <tr>\n      <th>558</th>\n      <td>Superior Bank, FSB</td>\n      <td>Hinsdale</td>\n      <td>IL</td>\n      <td>32646</td>\n      <td>Superior Federal, FSB</td>\n      <td>July 27, 2001</td>\n      <td>6004</td>\n    </tr>\n    <tr>\n      <th>559</th>\n      <td>Malta National Bank</td>\n      <td>Malta</td>\n      <td>OH</td>\n      <td>6629</td>\n      <td>North Valley Bank</td>\n      <td>May 3, 2001</td>\n      <td>4648</td>\n    </tr>\n    <tr>\n      <th>560</th>\n      <td>First Alliance Bank &amp; Trust Co.</td>\n      <td>Manchester</td>\n      <td>NH</td>\n      <td>34264</td>\n      <td>Southern New Hampshire Bank &amp; Trust</td>\n      <td>February 2, 2001</td>\n      <td>4647</td>\n    </tr>\n    <tr>\n      <th>561</th>\n      <td>National State Bank of Metropolis</td>\n      <td>Metropolis</td>\n      <td>IL</td>\n      <td>3815</td>\n      <td>Banterra Bank of Marion</td>\n      <td>December 14, 2000</td>\n      <td>4646</td>\n    </tr>\n    <tr>\n      <th>562</th>\n      <td>Bank of Honolulu</td>\n      <td>Honolulu</td>\n      <td>HI</td>\n      <td>21029</td>\n      <td>Bank of the Orient</td>\n      <td>October 13, 2000</td>\n      <td>4645</td>\n    </tr>\n  </tbody>\n</table>\n<p>563 rows × 7 columns</p>\n</div>"
     },
     "execution_count": 85,
     "metadata": {},
     "output_type": "execute_result"
    }
   ],
   "source": [
    "df = pd.read_html('https://www.fdic.gov/resources/resolutions/bank-failures/failed-bank-list/')[0]\n",
    "df"
   ],
   "metadata": {
    "collapsed": false,
    "pycharm": {
     "name": "#%%\n"
    }
   }
  },
  {
   "cell_type": "markdown",
   "source": [
    "### 3.9.2 Write data"
   ],
   "metadata": {
    "collapsed": false,
    "pycharm": {
     "name": "#%% md\n"
    }
   }
  },
  {
   "cell_type": "code",
   "execution_count": 86,
   "outputs": [
    {
     "data": {
      "text/plain": "                         Bank NameBank           CityCity StateSt  CertCert  \\\n0                    Almena State Bank             Almena      KS     15426   \n1           First City Bank of Florida  Fort Walton Beach      FL     16748   \n2                 The First State Bank      Barboursville      WV     14361   \n3                   Ericson State Bank            Ericson      NE     18265   \n4     City National Bank of New Jersey             Newark      NJ     21111   \n..                                 ...                ...     ...       ...   \n558                 Superior Bank, FSB           Hinsdale      IL     32646   \n559                Malta National Bank              Malta      OH      6629   \n560    First Alliance Bank & Trust Co.         Manchester      NH     34264   \n561  National State Bank of Metropolis         Metropolis      IL      3815   \n562                   Bank of Honolulu           Honolulu      HI     21029   \n\n                 Acquiring InstitutionAI Closing DateClosing  FundFund  \n0                            Equity Bank    October 23, 2020     10538  \n1              United Fidelity Bank, fsb    October 16, 2020     10537  \n2                         MVB Bank, Inc.       April 3, 2020     10536  \n3             Farmers and Merchants Bank   February 14, 2020     10535  \n4                        Industrial Bank    November 1, 2019     10534  \n..                                   ...                 ...       ...  \n558                Superior Federal, FSB       July 27, 2001      6004  \n559                    North Valley Bank         May 3, 2001      4648  \n560  Southern New Hampshire Bank & Trust    February 2, 2001      4647  \n561              Banterra Bank of Marion   December 14, 2000      4646  \n562                   Bank of the Orient    October 13, 2000      4645  \n\n[563 rows x 7 columns]",
      "text/html": "<div>\n<style scoped>\n    .dataframe tbody tr th:only-of-type {\n        vertical-align: middle;\n    }\n\n    .dataframe tbody tr th {\n        vertical-align: top;\n    }\n\n    .dataframe thead th {\n        text-align: right;\n    }\n</style>\n<table border=\"1\" class=\"dataframe\">\n  <thead>\n    <tr style=\"text-align: right;\">\n      <th></th>\n      <th>Bank NameBank</th>\n      <th>CityCity</th>\n      <th>StateSt</th>\n      <th>CertCert</th>\n      <th>Acquiring InstitutionAI</th>\n      <th>Closing DateClosing</th>\n      <th>FundFund</th>\n    </tr>\n  </thead>\n  <tbody>\n    <tr>\n      <th>0</th>\n      <td>Almena State Bank</td>\n      <td>Almena</td>\n      <td>KS</td>\n      <td>15426</td>\n      <td>Equity Bank</td>\n      <td>October 23, 2020</td>\n      <td>10538</td>\n    </tr>\n    <tr>\n      <th>1</th>\n      <td>First City Bank of Florida</td>\n      <td>Fort Walton Beach</td>\n      <td>FL</td>\n      <td>16748</td>\n      <td>United Fidelity Bank, fsb</td>\n      <td>October 16, 2020</td>\n      <td>10537</td>\n    </tr>\n    <tr>\n      <th>2</th>\n      <td>The First State Bank</td>\n      <td>Barboursville</td>\n      <td>WV</td>\n      <td>14361</td>\n      <td>MVB Bank, Inc.</td>\n      <td>April 3, 2020</td>\n      <td>10536</td>\n    </tr>\n    <tr>\n      <th>3</th>\n      <td>Ericson State Bank</td>\n      <td>Ericson</td>\n      <td>NE</td>\n      <td>18265</td>\n      <td>Farmers and Merchants Bank</td>\n      <td>February 14, 2020</td>\n      <td>10535</td>\n    </tr>\n    <tr>\n      <th>4</th>\n      <td>City National Bank of New Jersey</td>\n      <td>Newark</td>\n      <td>NJ</td>\n      <td>21111</td>\n      <td>Industrial Bank</td>\n      <td>November 1, 2019</td>\n      <td>10534</td>\n    </tr>\n    <tr>\n      <th>...</th>\n      <td>...</td>\n      <td>...</td>\n      <td>...</td>\n      <td>...</td>\n      <td>...</td>\n      <td>...</td>\n      <td>...</td>\n    </tr>\n    <tr>\n      <th>558</th>\n      <td>Superior Bank, FSB</td>\n      <td>Hinsdale</td>\n      <td>IL</td>\n      <td>32646</td>\n      <td>Superior Federal, FSB</td>\n      <td>July 27, 2001</td>\n      <td>6004</td>\n    </tr>\n    <tr>\n      <th>559</th>\n      <td>Malta National Bank</td>\n      <td>Malta</td>\n      <td>OH</td>\n      <td>6629</td>\n      <td>North Valley Bank</td>\n      <td>May 3, 2001</td>\n      <td>4648</td>\n    </tr>\n    <tr>\n      <th>560</th>\n      <td>First Alliance Bank &amp; Trust Co.</td>\n      <td>Manchester</td>\n      <td>NH</td>\n      <td>34264</td>\n      <td>Southern New Hampshire Bank &amp; Trust</td>\n      <td>February 2, 2001</td>\n      <td>4647</td>\n    </tr>\n    <tr>\n      <th>561</th>\n      <td>National State Bank of Metropolis</td>\n      <td>Metropolis</td>\n      <td>IL</td>\n      <td>3815</td>\n      <td>Banterra Bank of Marion</td>\n      <td>December 14, 2000</td>\n      <td>4646</td>\n    </tr>\n    <tr>\n      <th>562</th>\n      <td>Bank of Honolulu</td>\n      <td>Honolulu</td>\n      <td>HI</td>\n      <td>21029</td>\n      <td>Bank of the Orient</td>\n      <td>October 13, 2000</td>\n      <td>4645</td>\n    </tr>\n  </tbody>\n</table>\n<p>563 rows × 7 columns</p>\n</div>"
     },
     "execution_count": 86,
     "metadata": {},
     "output_type": "execute_result"
    }
   ],
   "source": [
    "df"
   ],
   "metadata": {
    "collapsed": false,
    "pycharm": {
     "name": "#%%\n"
    }
   }
  },
  {
   "cell_type": "code",
   "execution_count": 87,
   "outputs": [],
   "source": [
    "df.to_csv('datasets/my_output.csv', index=False)"
   ],
   "metadata": {
    "collapsed": false,
    "pycharm": {
     "name": "#%%\n"
    }
   }
  },
  {
   "cell_type": "code",
   "execution_count": 88,
   "outputs": [],
   "source": [
    "df.to_excel('datasets/my_output.xlsx', index=False)"
   ],
   "metadata": {
    "collapsed": false,
    "pycharm": {
     "name": "#%%\n"
    }
   }
  },
  {
   "cell_type": "markdown",
   "source": [
    "# 4. Exercises"
   ],
   "metadata": {
    "collapsed": false,
    "pycharm": {
     "name": "#%% md\n"
    }
   }
  },
  {
   "cell_type": "markdown",
   "source": [
    "## 4.1 Exercise 1"
   ],
   "metadata": {
    "collapsed": false,
    "pycharm": {
     "name": "#%% md\n"
    }
   }
  },
  {
   "cell_type": "markdown",
   "source": [
    "## Create a DataFrame from the following data: Names, and group numbers for the students of the course Introduction to Data Science (only practical part). [The data can be fetched from Neptun]. Then do the following:\n",
    "## 1. Assign a random mark (between 1 and 5) to each student in a new column called 'mark'.\n",
    "## 2. Give every student a unique ID number (starting from 1) in a new column called 'ID'.\n",
    "## 3. Calculate the average mark of the students.\n",
    "## 4. Calculate the average mark of the students in each group.\n",
    "## 5. Get the names of the students who got the highest mark.\n",
    "## 6. Get the names of the students who got the highest mark in each group.\n",
    "## 7. Convert the DataFrame to a multi-indexed DataFrame with the group number as the first level and the ID number as the second level."
   ],
   "metadata": {
    "collapsed": false,
    "pycharm": {
     "name": "#%% md\n"
    }
   }
  }
 ],
 "metadata": {
  "kernelspec": {
   "display_name": "Python 3 (ipykernel)",
   "language": "python",
   "name": "python3"
  },
  "language_info": {
   "codemirror_mode": {
    "name": "ipython",
    "version": 3
   },
   "file_extension": ".py",
   "mimetype": "text/x-python",
   "name": "python",
   "nbconvert_exporter": "python",
   "pygments_lexer": "ipython3",
   "version": "3.9.12"
  }
 },
 "nbformat": 4,
 "nbformat_minor": 1
}